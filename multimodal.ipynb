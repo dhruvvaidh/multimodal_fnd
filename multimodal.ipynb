{
 "cells": [
  {
   "cell_type": "markdown",
   "metadata": {
    "id": "AHgSmyYN25jO"
   },
   "source": [
    "# Mount Drive"
   ]
  },
  {
   "cell_type": "code",
   "execution_count": null,
   "metadata": {
    "colab": {
     "base_uri": "https://localhost:8080/"
    },
    "id": "e5qCiuIn23OL",
    "outputId": "769b370c-a34c-473e-e169-dac4ea6efc26"
   },
   "outputs": [
    {
     "name": "stdout",
     "output_type": "stream",
     "text": [
      "Drive already mounted at /content/drive; to attempt to forcibly remount, call drive.mount(\"/content/drive\", force_remount=True).\n"
     ]
    }
   ],
   "source": [
    "from google.colab import drive\n",
    "drive.mount('/content/drive')"
   ]
  },
  {
   "cell_type": "markdown",
   "metadata": {
    "id": "2ElsnSNUridI"
   },
   "source": [
    "# Install packages\n"
   ]
  },
  {
   "cell_type": "code",
   "execution_count": null,
   "metadata": {
    "colab": {
     "base_uri": "https://localhost:8080/"
    },
    "id": "0NmMdkZO8R6q",
    "outputId": "2c081402-2d40-45ec-8bbf-6dee7d48ac07"
   },
   "outputs": [
    {
     "name": "stderr",
     "output_type": "stream",
     "text": [
      "Exception in thread Thread-5 (attachment_entry):\n",
      "Traceback (most recent call last):\n",
      "  File \"/usr/local/lib/python3.10/dist-packages/debugpy/server/api.py\", line 237, in listen\n",
      "    sock, _ = endpoints_listener.accept()\n",
      "  File \"/usr/lib/python3.10/socket.py\", line 293, in accept\n",
      "    fd, addr = self._accept()\n",
      "TimeoutError: timed out\n",
      "\n",
      "During handling of the above exception, another exception occurred:\n",
      "\n",
      "Traceback (most recent call last):\n",
      "  File \"/usr/lib/python3.10/threading.py\", line 1016, in _bootstrap_inner\n",
      "    self.run()\n",
      "  File \"/usr/lib/python3.10/threading.py\", line 953, in run\n",
      "    self._target(*self._args, **self._kwargs)\n",
      "  File \"/usr/local/lib/python3.10/dist-packages/google/colab/_debugpy.py\", line 52, in attachment_entry\n",
      "    debugpy.listen(_dap_port)\n",
      "  File \"/usr/local/lib/python3.10/dist-packages/debugpy/public_api.py\", line 31, in wrapper\n",
      "    return wrapped(*args, **kwargs)\n",
      "  File \"/usr/local/lib/python3.10/dist-packages/debugpy/server/api.py\", line 143, in debug\n",
      "    log.reraise_exception(\"{0}() failed:\", func.__name__, level=\"info\")\n",
      "  File \"/usr/local/lib/python3.10/dist-packages/debugpy/server/api.py\", line 141, in debug\n",
      "    return func(address, settrace_kwargs, **kwargs)\n",
      "  File \"/usr/local/lib/python3.10/dist-packages/debugpy/server/api.py\", line 251, in listen\n",
      "    raise RuntimeError(\"timed out waiting for adapter to connect\")\n",
      "RuntimeError: timed out waiting for adapter to connect\n"
     ]
    }
   ],
   "source": [
    "!pip install -q transformers\n",
    "# !pip install -q tensorflow==2.2-rc1\n",
    "!pip install -q tf-models-official==2.2.0"
   ]
  },
  {
   "cell_type": "code",
   "execution_count": null,
   "metadata": {
    "colab": {
     "base_uri": "https://localhost:8080/"
    },
    "id": "tZ_8mMli_1sD",
    "outputId": "5e66a189-0fa5-4c1b-97f7-2c759b069207"
   },
   "outputs": [
    {
     "name": "stdout",
     "output_type": "stream",
     "text": [
      "Looking in indexes: https://pypi.org/simple, https://us-python.pkg.dev/colab-wheels/public/simple/\n",
      "Requirement already satisfied: keras-lr-multiplier in /usr/local/lib/python3.10/dist-packages (0.9.0)\n",
      "Requirement already satisfied: numpy in /usr/local/lib/python3.10/dist-packages (from keras-lr-multiplier) (1.23.5)\n",
      "Collecting Keras==2.2.4 (from keras-lr-multiplier)\n",
      "  Using cached Keras-2.2.4-py2.py3-none-any.whl (312 kB)\n",
      "Requirement already satisfied: h5py==2.10.0 in /usr/local/lib/python3.10/dist-packages (from keras-lr-multiplier) (2.10.0)\n",
      "Requirement already satisfied: six in /usr/local/lib/python3.10/dist-packages (from h5py==2.10.0->keras-lr-multiplier) (1.16.0)\n",
      "Requirement already satisfied: scipy>=0.14 in /usr/local/lib/python3.10/dist-packages (from Keras==2.2.4->keras-lr-multiplier) (1.10.1)\n",
      "Requirement already satisfied: pyyaml in /usr/local/lib/python3.10/dist-packages (from Keras==2.2.4->keras-lr-multiplier) (6.0)\n",
      "Requirement already satisfied: keras-applications>=1.0.6 in /usr/local/lib/python3.10/dist-packages (from Keras==2.2.4->keras-lr-multiplier) (1.0.8)\n",
      "Requirement already satisfied: keras-preprocessing>=1.0.5 in /usr/local/lib/python3.10/dist-packages (from Keras==2.2.4->keras-lr-multiplier) (1.1.2)\n",
      "Installing collected packages: Keras\n",
      "  Attempting uninstall: Keras\n",
      "    Found existing installation: keras 2.12.0\n",
      "    Uninstalling keras-2.12.0:\n",
      "      Successfully uninstalled keras-2.12.0\n",
      "\u001b[31mERROR: pip's dependency resolver does not currently take into account all the packages that are installed. This behaviour is the source of the following dependency conflicts.\n",
      "tensorflow 2.12.0 requires keras<2.13,>=2.12.0, but you have keras 2.2.4 which is incompatible.\u001b[0m\u001b[31m\n",
      "\u001b[0mSuccessfully installed Keras-2.2.4\n"
     ]
    }
   ],
   "source": [
    "!pip install keras-lr-multiplier"
   ]
  },
  {
   "cell_type": "code",
   "execution_count": null,
   "metadata": {
    "colab": {
     "base_uri": "https://localhost:8080/"
    },
    "id": "k_ODU854YU3h",
    "outputId": "db7c6e56-2460-4ec6-b687-4c11cce801d8"
   },
   "outputs": [
    {
     "name": "stdout",
     "output_type": "stream",
     "text": [
      "Looking in indexes: https://pypi.org/simple, https://us-python.pkg.dev/colab-wheels/public/simple/\n",
      "Requirement already satisfied: scikit-learn in /usr/local/lib/python3.10/dist-packages (1.2.2)\n",
      "Requirement already satisfied: numpy>=1.17.3 in /usr/local/lib/python3.10/dist-packages (from scikit-learn) (1.23.5)\n",
      "Requirement already satisfied: scipy>=1.3.2 in /usr/local/lib/python3.10/dist-packages (from scikit-learn) (1.10.1)\n",
      "Requirement already satisfied: joblib>=1.1.1 in /usr/local/lib/python3.10/dist-packages (from scikit-learn) (1.2.0)\n",
      "Requirement already satisfied: threadpoolctl>=2.0.0 in /usr/local/lib/python3.10/dist-packages (from scikit-learn) (3.1.0)\n"
     ]
    }
   ],
   "source": [
    "!pip install -U scikit-learn"
   ]
  },
  {
   "cell_type": "code",
   "execution_count": null,
   "metadata": {
    "colab": {
     "base_uri": "https://localhost:8080/"
    },
    "id": "QUAgxLvqb2dR",
    "outputId": "2da83067-6bd2-4ef4-d68a-ab80a61c375b"
   },
   "outputs": [
    {
     "name": "stdout",
     "output_type": "stream",
     "text": [
      "Looking in indexes: https://pypi.org/simple, https://us-python.pkg.dev/colab-wheels/public/simple/\n",
      "Requirement already satisfied: tensorflow in /usr/local/lib/python3.10/dist-packages (2.12.0)\n",
      "Requirement already satisfied: absl-py>=1.0.0 in /usr/local/lib/python3.10/dist-packages (from tensorflow) (1.4.0)\n",
      "Requirement already satisfied: astunparse>=1.6.0 in /usr/local/lib/python3.10/dist-packages (from tensorflow) (1.6.3)\n",
      "Requirement already satisfied: flatbuffers>=2.0 in /usr/local/lib/python3.10/dist-packages (from tensorflow) (23.3.3)\n",
      "Requirement already satisfied: gast<=0.4.0,>=0.2.1 in /usr/local/lib/python3.10/dist-packages (from tensorflow) (0.4.0)\n",
      "Requirement already satisfied: google-pasta>=0.1.1 in /usr/local/lib/python3.10/dist-packages (from tensorflow) (0.2.0)\n",
      "Requirement already satisfied: grpcio<2.0,>=1.24.3 in /usr/local/lib/python3.10/dist-packages (from tensorflow) (1.54.0)\n",
      "Requirement already satisfied: h5py>=2.9.0 in /usr/local/lib/python3.10/dist-packages (from tensorflow) (2.10.0)\n",
      "Requirement already satisfied: jax>=0.3.15 in /usr/local/lib/python3.10/dist-packages (from tensorflow) (0.4.8)\n",
      "Collecting keras<2.13,>=2.12.0 (from tensorflow)\n",
      "  Using cached keras-2.12.0-py2.py3-none-any.whl (1.7 MB)\n",
      "Requirement already satisfied: libclang>=13.0.0 in /usr/local/lib/python3.10/dist-packages (from tensorflow) (16.0.0)\n",
      "Requirement already satisfied: numpy<1.24,>=1.22 in /usr/local/lib/python3.10/dist-packages (from tensorflow) (1.23.5)\n",
      "Requirement already satisfied: opt-einsum>=2.3.2 in /usr/local/lib/python3.10/dist-packages (from tensorflow) (3.3.0)\n",
      "Requirement already satisfied: packaging in /usr/local/lib/python3.10/dist-packages (from tensorflow) (23.1)\n",
      "Requirement already satisfied: protobuf!=4.21.0,!=4.21.1,!=4.21.2,!=4.21.3,!=4.21.4,!=4.21.5,<5.0.0dev,>=3.20.3 in /usr/local/lib/python3.10/dist-packages (from tensorflow) (3.20.3)\n",
      "Requirement already satisfied: setuptools in /usr/local/lib/python3.10/dist-packages (from tensorflow) (67.7.2)\n",
      "Requirement already satisfied: six>=1.12.0 in /usr/local/lib/python3.10/dist-packages (from tensorflow) (1.16.0)\n",
      "Requirement already satisfied: tensorboard<2.13,>=2.12 in /usr/local/lib/python3.10/dist-packages (from tensorflow) (2.12.2)\n",
      "Requirement already satisfied: tensorflow-estimator<2.13,>=2.12.0 in /usr/local/lib/python3.10/dist-packages (from tensorflow) (2.12.0)\n",
      "Requirement already satisfied: termcolor>=1.1.0 in /usr/local/lib/python3.10/dist-packages (from tensorflow) (2.3.0)\n",
      "Requirement already satisfied: typing-extensions>=3.6.6 in /usr/local/lib/python3.10/dist-packages (from tensorflow) (4.5.0)\n",
      "Requirement already satisfied: wrapt<1.15,>=1.11.0 in /usr/local/lib/python3.10/dist-packages (from tensorflow) (1.14.1)\n",
      "Requirement already satisfied: tensorflow-io-gcs-filesystem>=0.23.1 in /usr/local/lib/python3.10/dist-packages (from tensorflow) (0.32.0)\n",
      "Requirement already satisfied: wheel<1.0,>=0.23.0 in /usr/local/lib/python3.10/dist-packages (from astunparse>=1.6.0->tensorflow) (0.40.0)\n",
      "Requirement already satisfied: ml-dtypes>=0.0.3 in /usr/local/lib/python3.10/dist-packages (from jax>=0.3.15->tensorflow) (0.1.0)\n",
      "Requirement already satisfied: scipy>=1.7 in /usr/local/lib/python3.10/dist-packages (from jax>=0.3.15->tensorflow) (1.10.1)\n",
      "Requirement already satisfied: google-auth<3,>=1.6.3 in /usr/local/lib/python3.10/dist-packages (from tensorboard<2.13,>=2.12->tensorflow) (2.17.3)\n",
      "Requirement already satisfied: google-auth-oauthlib<1.1,>=0.5 in /usr/local/lib/python3.10/dist-packages (from tensorboard<2.13,>=2.12->tensorflow) (1.0.0)\n",
      "Requirement already satisfied: markdown>=2.6.8 in /usr/local/lib/python3.10/dist-packages (from tensorboard<2.13,>=2.12->tensorflow) (3.4.3)\n",
      "Requirement already satisfied: requests<3,>=2.21.0 in /usr/local/lib/python3.10/dist-packages (from tensorboard<2.13,>=2.12->tensorflow) (2.27.1)\n",
      "Requirement already satisfied: tensorboard-data-server<0.8.0,>=0.7.0 in /usr/local/lib/python3.10/dist-packages (from tensorboard<2.13,>=2.12->tensorflow) (0.7.0)\n",
      "Requirement already satisfied: tensorboard-plugin-wit>=1.6.0 in /usr/local/lib/python3.10/dist-packages (from tensorboard<2.13,>=2.12->tensorflow) (1.8.1)\n",
      "Requirement already satisfied: werkzeug>=1.0.1 in /usr/local/lib/python3.10/dist-packages (from tensorboard<2.13,>=2.12->tensorflow) (2.3.0)\n",
      "Requirement already satisfied: cachetools<6.0,>=2.0.0 in /usr/local/lib/python3.10/dist-packages (from google-auth<3,>=1.6.3->tensorboard<2.13,>=2.12->tensorflow) (5.3.0)\n",
      "Requirement already satisfied: pyasn1-modules>=0.2.1 in /usr/local/lib/python3.10/dist-packages (from google-auth<3,>=1.6.3->tensorboard<2.13,>=2.12->tensorflow) (0.3.0)\n",
      "Requirement already satisfied: rsa<5,>=3.1.4 in /usr/local/lib/python3.10/dist-packages (from google-auth<3,>=1.6.3->tensorboard<2.13,>=2.12->tensorflow) (4.9)\n",
      "Requirement already satisfied: requests-oauthlib>=0.7.0 in /usr/local/lib/python3.10/dist-packages (from google-auth-oauthlib<1.1,>=0.5->tensorboard<2.13,>=2.12->tensorflow) (1.3.1)\n",
      "Requirement already satisfied: urllib3<1.27,>=1.21.1 in /usr/local/lib/python3.10/dist-packages (from requests<3,>=2.21.0->tensorboard<2.13,>=2.12->tensorflow) (1.26.15)\n",
      "Requirement already satisfied: certifi>=2017.4.17 in /usr/local/lib/python3.10/dist-packages (from requests<3,>=2.21.0->tensorboard<2.13,>=2.12->tensorflow) (2022.12.7)\n",
      "Requirement already satisfied: charset-normalizer~=2.0.0 in /usr/local/lib/python3.10/dist-packages (from requests<3,>=2.21.0->tensorboard<2.13,>=2.12->tensorflow) (2.0.12)\n",
      "Requirement already satisfied: idna<4,>=2.5 in /usr/local/lib/python3.10/dist-packages (from requests<3,>=2.21.0->tensorboard<2.13,>=2.12->tensorflow) (3.4)\n",
      "Requirement already satisfied: MarkupSafe>=2.1.1 in /usr/local/lib/python3.10/dist-packages (from werkzeug>=1.0.1->tensorboard<2.13,>=2.12->tensorflow) (2.1.2)\n",
      "Requirement already satisfied: pyasn1<0.6.0,>=0.4.6 in /usr/local/lib/python3.10/dist-packages (from pyasn1-modules>=0.2.1->google-auth<3,>=1.6.3->tensorboard<2.13,>=2.12->tensorflow) (0.5.0)\n",
      "Requirement already satisfied: oauthlib>=3.0.0 in /usr/local/lib/python3.10/dist-packages (from requests-oauthlib>=0.7.0->google-auth-oauthlib<1.1,>=0.5->tensorboard<2.13,>=2.12->tensorflow) (3.2.2)\n",
      "Installing collected packages: keras\n",
      "  Attempting uninstall: keras\n",
      "    Found existing installation: Keras 2.2.4\n",
      "    Uninstalling Keras-2.2.4:\n",
      "      Successfully uninstalled Keras-2.2.4\n",
      "\u001b[31mERROR: pip's dependency resolver does not currently take into account all the packages that are installed. This behaviour is the source of the following dependency conflicts.\n",
      "keras-lr-multiplier 0.9.0 requires Keras==2.2.4, but you have keras 2.12.0 which is incompatible.\u001b[0m\u001b[31m\n",
      "\u001b[0mSuccessfully installed keras-2.12.0\n"
     ]
    }
   ],
   "source": [
    "!pip install tensorflow"
   ]
  },
  {
   "cell_type": "code",
   "execution_count": null,
   "metadata": {
    "colab": {
     "base_uri": "https://localhost:8080/"
    },
    "id": "SywCW_mNcBQi",
    "outputId": "f810b9ac-1963-488f-88de-d6548b7bfe02"
   },
   "outputs": [
    {
     "name": "stdout",
     "output_type": "stream",
     "text": [
      "Looking in indexes: https://pypi.org/simple, https://us-python.pkg.dev/colab-wheels/public/simple/\n",
      "Requirement already satisfied: numpy in /usr/local/lib/python3.10/dist-packages (1.23.5)\n"
     ]
    }
   ],
   "source": [
    "!pip install numpy"
   ]
  },
  {
   "cell_type": "markdown",
   "metadata": {
    "id": "oQUy9Tat2EF_"
   },
   "source": [
    "# Import libraries"
   ]
  },
  {
   "cell_type": "code",
   "execution_count": null,
   "metadata": {
    "id": "4F_Bi5dp3LsP"
   },
   "outputs": [],
   "source": [
    "import os\n",
    "import time\n",
    "import datetime\n",
    "import random\n",
    "import numpy as np\n",
    "import pandas as pd\n",
    "import matplotlib.pyplot as plt\n",
    "from tqdm import tqdm\n",
    "from sklearn.metrics import confusion_matrix, classification_report, accuracy_score\n",
    "from sklearn.preprocessing import LabelBinarizer\n",
    "from sklearn.model_selection import train_test_split\n",
    "from transformers import TFAutoModel, AutoTokenizer, TFBertForSequenceClassification,AutoConfig\n",
    "import tensorflow as tf\n",
    "from tensorflow.keras.utils import to_categorical\n",
    "from tensorflow.keras.layers import Maximum,LayerNormalization,GlobalMaxPooling2D,Average,Dot, Dense, Input, GlobalAveragePooling1D, BatchNormalization, Activation, Concatenate, Flatten, Dropout, Conv1D, MaxPooling1D, Add, Lambda, GlobalAveragePooling2D, Reshape, RepeatVector, UpSampling1D\n",
    "from tensorflow.keras.models import Model\n",
    "from keras.layers import LSTM, Bidirectional\n",
    "from official import nlp\n",
    "import official.nlp.optimization\n"
   ]
  },
  {
   "cell_type": "code",
   "execution_count": null,
   "metadata": {
    "id": "Y8xIUsmlw2ba"
   },
   "outputs": [],
   "source": [
    "tf.keras.backend.clear_session()"
   ]
  },
  {
   "cell_type": "code",
   "execution_count": null,
   "metadata": {
    "id": "L3wfp9Vww10Q"
   },
   "outputs": [],
   "source": [
    "# Set seed value\n",
    "seed_value = 56\n",
    "os.environ['PYTHONHASHSEED']=str(0)\n",
    "# 2. Set `python` built-in pseudo-random generator at a fixed value\n",
    "random.seed(seed_value)\n",
    "# 3. Set `numpy` pseudo-random generator at a fixed value\n",
    "np.random.seed(seed_value)\n",
    "# 4. Set `tensorflow` pseudo-random generator at a fixed value\n",
    "tf.random.set_seed(seed_value)\n",
    "# for later versions:\n",
    "# tf.compat.v1.set_random_seed(seed_value)\n",
    "# 5. Configure a new global `tensorflow` session\n",
    "from keras import backend as K\n",
    "# session_conf = tf.ConfigProto(intra_op_parallelism_threads=1, inter_op_parallelism_threads=1)\n",
    "# sess = tf.Session(graph=tf.get_default_graph(), config=session_conf)\n",
    "# K.set_session(sess)\n",
    "# for later versions:\n",
    "session_conf = tf.compat.v1.ConfigProto(intra_op_parallelism_threads=1, inter_op_parallelism_threads=1)\n",
    "sess = tf.compat.v1.Session(graph=tf.compat.v1.get_default_graph(), config=session_conf)\n",
    "tf.compat.v1.keras.backend.set_session(sess)\n"
   ]
  },
  {
   "cell_type": "markdown",
   "metadata": {
    "id": "N2H2gCoL4b-_"
   },
   "source": [
    "# Parameters"
   ]
  },
  {
   "cell_type": "code",
   "execution_count": null,
   "metadata": {
    "id": "DUto8PzE4dk8"
   },
   "outputs": [],
   "source": [
    "base_dir    = '/content/drive/MyDrive/Datasets/'\n",
    "train_path  = os.path.join(base_dir, 'train-ekphrasis.csv')\n",
    "test_path    = os.path.join(base_dir, 'test-ekphrasis.csv')\n",
    "img_train_path = os.path.join(base_dir, 'img_train.npy')\n",
    "img_val_path = os.path.join(base_dir, 'img_val.npy')\n",
    "img_test_path = os.path.join(base_dir, 'img_test.npy')\n",
    "MAX_LENGTH  = 256\n",
    "MODEL       = 'cardiffnlp/twitter-xlm-roberta-base-sentiment'\n",
    "MODEL_NAME  = 'model'\n",
    "N_LABELS    = 1"
   ]
  },
  {
   "cell_type": "markdown",
   "metadata": {
    "id": "a0QV2ntMpuBP"
   },
   "source": [
    "# Read data"
   ]
  },
  {
   "cell_type": "code",
   "execution_count": null,
   "metadata": {
    "id": "_UkeC7SG2krJ"
   },
   "outputs": [],
   "source": [
    "df_train = pd.read_csv(train_path)"
   ]
  },
  {
   "cell_type": "code",
   "execution_count": null,
   "metadata": {
    "colab": {
     "base_uri": "https://localhost:8080/"
    },
    "id": "mR-2kuDhNevP",
    "outputId": "8c38c570-4fd6-49f4-8937-6ab919be409c"
   },
   "outputs": [
    {
     "name": "stdout",
     "output_type": "stream",
     "text": [
      "(14277, 9)\n"
     ]
    }
   ],
   "source": [
    "print(df_train.shape)"
   ]
  },
  {
   "cell_type": "code",
   "execution_count": null,
   "metadata": {
    "colab": {
     "base_uri": "https://localhost:8080/"
    },
    "id": "p_V63odVNgiH",
    "outputId": "98c7a2c5-8a89-4eef-f776-53f3b79c016f"
   },
   "outputs": [
    {
     "name": "stdout",
     "output_type": "stream",
     "text": [
      "<class 'pandas.core.frame.DataFrame'>\n",
      "RangeIndex: 14277 entries, 0 to 14276\n",
      "Data columns (total 9 columns):\n",
      " #   Column      Non-Null Count  Dtype \n",
      "---  ------      --------------  ----- \n",
      " 0   tweetId     14277 non-null  int64 \n",
      " 1   tweetText   14277 non-null  object\n",
      " 2   userId      14277 non-null  int64 \n",
      " 3   imageId(s)  14277 non-null  object\n",
      " 4   username    14277 non-null  object\n",
      " 5   timestamp   14277 non-null  object\n",
      " 6   label       14277 non-null  object\n",
      " 7   CleanText   14277 non-null  object\n",
      " 8   enc_label   14277 non-null  int64 \n",
      "dtypes: int64(3), object(6)\n",
      "memory usage: 1004.0+ KB\n",
      "None\n"
     ]
    }
   ],
   "source": [
    "print(df_train.info())"
   ]
  },
  {
   "cell_type": "code",
   "execution_count": null,
   "metadata": {
    "colab": {
     "base_uri": "https://localhost:8080/",
     "height": 424
    },
    "id": "UP45G8KzNiBO",
    "outputId": "94c163f2-eddc-4a6f-b5c1-6a654c15b9f3"
   },
   "outputs": [
    {
     "data": {
      "text/html": [
       "\n",
       "  <div id=\"df-ddc2b702-49d1-4b7c-84fb-d5ccca660031\">\n",
       "    <div class=\"colab-df-container\">\n",
       "      <div>\n",
       "<style scoped>\n",
       "    .dataframe tbody tr th:only-of-type {\n",
       "        vertical-align: middle;\n",
       "    }\n",
       "\n",
       "    .dataframe tbody tr th {\n",
       "        vertical-align: top;\n",
       "    }\n",
       "\n",
       "    .dataframe thead th {\n",
       "        text-align: right;\n",
       "    }\n",
       "</style>\n",
       "<table border=\"1\" class=\"dataframe\">\n",
       "  <thead>\n",
       "    <tr style=\"text-align: right;\">\n",
       "      <th></th>\n",
       "      <th>tweetId</th>\n",
       "      <th>tweetText</th>\n",
       "      <th>userId</th>\n",
       "      <th>imageId(s)</th>\n",
       "      <th>username</th>\n",
       "      <th>timestamp</th>\n",
       "      <th>label</th>\n",
       "      <th>CleanText</th>\n",
       "      <th>enc_label</th>\n",
       "    </tr>\n",
       "  </thead>\n",
       "  <tbody>\n",
       "    <tr>\n",
       "      <th>0</th>\n",
       "      <td>263046056240115712</td>\n",
       "      <td>¿Se acuerdan de la película: “El día después d...</td>\n",
       "      <td>21226711</td>\n",
       "      <td>sandyA_fake_46</td>\n",
       "      <td>iAnnieM</td>\n",
       "      <td>Mon Oct 29 22:34:01 +0000 2012</td>\n",
       "      <td>fake</td>\n",
       "      <td>Do you remember the movie: “The day after tomo...</td>\n",
       "      <td>1</td>\n",
       "    </tr>\n",
       "    <tr>\n",
       "      <th>1</th>\n",
       "      <td>262995061304852481</td>\n",
       "      <td>@milenagimon: Miren a Sandy en NY!  Tremenda i...</td>\n",
       "      <td>192378571</td>\n",
       "      <td>sandyA_fake_09</td>\n",
       "      <td>CarlosVerareal</td>\n",
       "      <td>Mon Oct 29 19:11:23 +0000 2012</td>\n",
       "      <td>fake</td>\n",
       "      <td>@milenagimon: Look at Sandy in NY! Tremendous ...</td>\n",
       "      <td>1</td>\n",
       "    </tr>\n",
       "    <tr>\n",
       "      <th>2</th>\n",
       "      <td>262979898002534400</td>\n",
       "      <td>Buena la foto del Huracán Sandy, me recuerda a...</td>\n",
       "      <td>132303095</td>\n",
       "      <td>sandyA_fake_09</td>\n",
       "      <td>LucasPalape</td>\n",
       "      <td>Mon Oct 29 18:11:08 +0000 2012</td>\n",
       "      <td>fake</td>\n",
       "      <td>Good photo of Hurricane Sandy, it reminds me o...</td>\n",
       "      <td>1</td>\n",
       "    </tr>\n",
       "    <tr>\n",
       "      <th>3</th>\n",
       "      <td>262996108400271360</td>\n",
       "      <td>Scary shit #hurricane #NY http://t.co/e4JLBUfH</td>\n",
       "      <td>241995902</td>\n",
       "      <td>sandyA_fake_29</td>\n",
       "      <td>Haaaaarryyy</td>\n",
       "      <td>Mon Oct 29 19:15:33 +0000 2012</td>\n",
       "      <td>fake</td>\n",
       "      <td>Scary shit #hurricane #NY http://t.co/e4JLBUfH</td>\n",
       "      <td>1</td>\n",
       "    </tr>\n",
       "    <tr>\n",
       "      <th>4</th>\n",
       "      <td>263018881839411200</td>\n",
       "      <td>My fave place in the world #nyc #hurricane #sa...</td>\n",
       "      <td>250315890</td>\n",
       "      <td>sandyA_fake_15</td>\n",
       "      <td>princess__natt</td>\n",
       "      <td>Mon Oct 29 20:46:02 +0000 2012</td>\n",
       "      <td>fake</td>\n",
       "      <td>My fave place in the world #nyc #hurricane #sa...</td>\n",
       "      <td>1</td>\n",
       "    </tr>\n",
       "  </tbody>\n",
       "</table>\n",
       "</div>\n",
       "      <button class=\"colab-df-convert\" onclick=\"convertToInteractive('df-ddc2b702-49d1-4b7c-84fb-d5ccca660031')\"\n",
       "              title=\"Convert this dataframe to an interactive table.\"\n",
       "              style=\"display:none;\">\n",
       "        \n",
       "  <svg xmlns=\"http://www.w3.org/2000/svg\" height=\"24px\"viewBox=\"0 0 24 24\"\n",
       "       width=\"24px\">\n",
       "    <path d=\"M0 0h24v24H0V0z\" fill=\"none\"/>\n",
       "    <path d=\"M18.56 5.44l.94 2.06.94-2.06 2.06-.94-2.06-.94-.94-2.06-.94 2.06-2.06.94zm-11 1L8.5 8.5l.94-2.06 2.06-.94-2.06-.94L8.5 2.5l-.94 2.06-2.06.94zm10 10l.94 2.06.94-2.06 2.06-.94-2.06-.94-.94-2.06-.94 2.06-2.06.94z\"/><path d=\"M17.41 7.96l-1.37-1.37c-.4-.4-.92-.59-1.43-.59-.52 0-1.04.2-1.43.59L10.3 9.45l-7.72 7.72c-.78.78-.78 2.05 0 2.83L4 21.41c.39.39.9.59 1.41.59.51 0 1.02-.2 1.41-.59l7.78-7.78 2.81-2.81c.8-.78.8-2.07 0-2.86zM5.41 20L4 18.59l7.72-7.72 1.47 1.35L5.41 20z\"/>\n",
       "  </svg>\n",
       "      </button>\n",
       "      \n",
       "  <style>\n",
       "    .colab-df-container {\n",
       "      display:flex;\n",
       "      flex-wrap:wrap;\n",
       "      gap: 12px;\n",
       "    }\n",
       "\n",
       "    .colab-df-convert {\n",
       "      background-color: #E8F0FE;\n",
       "      border: none;\n",
       "      border-radius: 50%;\n",
       "      cursor: pointer;\n",
       "      display: none;\n",
       "      fill: #1967D2;\n",
       "      height: 32px;\n",
       "      padding: 0 0 0 0;\n",
       "      width: 32px;\n",
       "    }\n",
       "\n",
       "    .colab-df-convert:hover {\n",
       "      background-color: #E2EBFA;\n",
       "      box-shadow: 0px 1px 2px rgba(60, 64, 67, 0.3), 0px 1px 3px 1px rgba(60, 64, 67, 0.15);\n",
       "      fill: #174EA6;\n",
       "    }\n",
       "\n",
       "    [theme=dark] .colab-df-convert {\n",
       "      background-color: #3B4455;\n",
       "      fill: #D2E3FC;\n",
       "    }\n",
       "\n",
       "    [theme=dark] .colab-df-convert:hover {\n",
       "      background-color: #434B5C;\n",
       "      box-shadow: 0px 1px 3px 1px rgba(0, 0, 0, 0.15);\n",
       "      filter: drop-shadow(0px 1px 2px rgba(0, 0, 0, 0.3));\n",
       "      fill: #FFFFFF;\n",
       "    }\n",
       "  </style>\n",
       "\n",
       "      <script>\n",
       "        const buttonEl =\n",
       "          document.querySelector('#df-ddc2b702-49d1-4b7c-84fb-d5ccca660031 button.colab-df-convert');\n",
       "        buttonEl.style.display =\n",
       "          google.colab.kernel.accessAllowed ? 'block' : 'none';\n",
       "\n",
       "        async function convertToInteractive(key) {\n",
       "          const element = document.querySelector('#df-ddc2b702-49d1-4b7c-84fb-d5ccca660031');\n",
       "          const dataTable =\n",
       "            await google.colab.kernel.invokeFunction('convertToInteractive',\n",
       "                                                     [key], {});\n",
       "          if (!dataTable) return;\n",
       "\n",
       "          const docLinkHtml = 'Like what you see? Visit the ' +\n",
       "            '<a target=\"_blank\" href=https://colab.research.google.com/notebooks/data_table.ipynb>data table notebook</a>'\n",
       "            + ' to learn more about interactive tables.';\n",
       "          element.innerHTML = '';\n",
       "          dataTable['output_type'] = 'display_data';\n",
       "          await google.colab.output.renderOutput(dataTable, element);\n",
       "          const docLink = document.createElement('div');\n",
       "          docLink.innerHTML = docLinkHtml;\n",
       "          element.appendChild(docLink);\n",
       "        }\n",
       "      </script>\n",
       "    </div>\n",
       "  </div>\n",
       "  "
      ],
      "text/plain": [
       "              tweetId                                          tweetText  \\\n",
       "0  263046056240115712  ¿Se acuerdan de la película: “El día después d...   \n",
       "1  262995061304852481  @milenagimon: Miren a Sandy en NY!  Tremenda i...   \n",
       "2  262979898002534400  Buena la foto del Huracán Sandy, me recuerda a...   \n",
       "3  262996108400271360     Scary shit #hurricane #NY http://t.co/e4JLBUfH   \n",
       "4  263018881839411200  My fave place in the world #nyc #hurricane #sa...   \n",
       "\n",
       "      userId      imageId(s)        username                       timestamp  \\\n",
       "0   21226711  sandyA_fake_46         iAnnieM  Mon Oct 29 22:34:01 +0000 2012   \n",
       "1  192378571  sandyA_fake_09  CarlosVerareal  Mon Oct 29 19:11:23 +0000 2012   \n",
       "2  132303095  sandyA_fake_09     LucasPalape  Mon Oct 29 18:11:08 +0000 2012   \n",
       "3  241995902  sandyA_fake_29     Haaaaarryyy  Mon Oct 29 19:15:33 +0000 2012   \n",
       "4  250315890  sandyA_fake_15  princess__natt  Mon Oct 29 20:46:02 +0000 2012   \n",
       "\n",
       "  label                                          CleanText  enc_label  \n",
       "0  fake  Do you remember the movie: “The day after tomo...          1  \n",
       "1  fake  @milenagimon: Look at Sandy in NY! Tremendous ...          1  \n",
       "2  fake  Good photo of Hurricane Sandy, it reminds me o...          1  \n",
       "3  fake     Scary shit #hurricane #NY http://t.co/e4JLBUfH          1  \n",
       "4  fake  My fave place in the world #nyc #hurricane #sa...          1  "
      ]
     },
     "metadata": {},
     "output_type": "display_data"
    }
   ],
   "source": [
    "display(df_train.head())"
   ]
  },
  {
   "cell_type": "code",
   "execution_count": null,
   "metadata": {
    "id": "jsVG3b3cjoN-"
   },
   "outputs": [],
   "source": [
    "df_test = pd.read_csv(test_path)"
   ]
  },
  {
   "cell_type": "code",
   "execution_count": null,
   "metadata": {
    "colab": {
     "base_uri": "https://localhost:8080/"
    },
    "id": "PVsf87p-Nkqo",
    "outputId": "254fb212-dfc1-47d7-db98-9c9bd01212c1"
   },
   "outputs": [
    {
     "name": "stdout",
     "output_type": "stream",
     "text": [
      "(3755, 9)\n"
     ]
    }
   ],
   "source": [
    "print(df_test.shape)"
   ]
  },
  {
   "cell_type": "code",
   "execution_count": null,
   "metadata": {
    "colab": {
     "base_uri": "https://localhost:8080/"
    },
    "id": "OHnUp3leNnbR",
    "outputId": "b79274b7-243f-4504-ebb6-7460a3bce17c"
   },
   "outputs": [
    {
     "name": "stdout",
     "output_type": "stream",
     "text": [
      "<class 'pandas.core.frame.DataFrame'>\n",
      "RangeIndex: 3755 entries, 0 to 3754\n",
      "Data columns (total 9 columns):\n",
      " #   Column      Non-Null Count  Dtype \n",
      "---  ------      --------------  ----- \n",
      " 0   tweetId     3755 non-null   int64 \n",
      " 1   tweetText   3755 non-null   object\n",
      " 2   userId      3755 non-null   int64 \n",
      " 3   imageId(s)  3755 non-null   object\n",
      " 4   username    3755 non-null   object\n",
      " 5   timestamp   3755 non-null   object\n",
      " 6   label       3755 non-null   object\n",
      " 7   CleanText   3755 non-null   object\n",
      " 8   enc_label   3755 non-null   int64 \n",
      "dtypes: int64(3), object(6)\n",
      "memory usage: 264.1+ KB\n",
      "None\n"
     ]
    }
   ],
   "source": [
    "print(df_test.info())"
   ]
  },
  {
   "cell_type": "code",
   "execution_count": null,
   "metadata": {
    "colab": {
     "base_uri": "https://localhost:8080/",
     "height": 406
    },
    "id": "1adZd74TNqAg",
    "outputId": "86fa5bc6-f789-4ce8-f2e7-bfa57a78c5ea"
   },
   "outputs": [
    {
     "data": {
      "text/html": [
       "\n",
       "  <div id=\"df-11ed8fa8-c57a-47f8-9e6f-828b2b947bed\">\n",
       "    <div class=\"colab-df-container\">\n",
       "      <div>\n",
       "<style scoped>\n",
       "    .dataframe tbody tr th:only-of-type {\n",
       "        vertical-align: middle;\n",
       "    }\n",
       "\n",
       "    .dataframe tbody tr th {\n",
       "        vertical-align: top;\n",
       "    }\n",
       "\n",
       "    .dataframe thead th {\n",
       "        text-align: right;\n",
       "    }\n",
       "</style>\n",
       "<table border=\"1\" class=\"dataframe\">\n",
       "  <thead>\n",
       "    <tr style=\"text-align: right;\">\n",
       "      <th></th>\n",
       "      <th>tweetId</th>\n",
       "      <th>tweetText</th>\n",
       "      <th>userId</th>\n",
       "      <th>imageId(s)</th>\n",
       "      <th>username</th>\n",
       "      <th>timestamp</th>\n",
       "      <th>label</th>\n",
       "      <th>CleanText</th>\n",
       "      <th>enc_label</th>\n",
       "    </tr>\n",
       "  </thead>\n",
       "  <tbody>\n",
       "    <tr>\n",
       "      <th>0</th>\n",
       "      <td>578854927457349632</td>\n",
       "      <td>kereeen RT @Shyman33: Eclipse from ISS.... htt...</td>\n",
       "      <td>70824972</td>\n",
       "      <td>eclipse_01</td>\n",
       "      <td>peay_s</td>\n",
       "      <td>Fri Mar 20 09:45:43 +0000 2015</td>\n",
       "      <td>fake</td>\n",
       "      <td>kereeen RT @Shyman33: Eclipse from ISS.... htt...</td>\n",
       "      <td>1</td>\n",
       "    </tr>\n",
       "    <tr>\n",
       "      <th>1</th>\n",
       "      <td>578874632670953472</td>\n",
       "      <td>Absolutely beautiful! RT @Shyman33: Eclipse fr...</td>\n",
       "      <td>344707006</td>\n",
       "      <td>eclipse_01</td>\n",
       "      <td>JaredUcanChange</td>\n",
       "      <td>Fri Mar 20 11:04:02 +0000 2015</td>\n",
       "      <td>fake</td>\n",
       "      <td>Absolutely beautiful! RT @Shyman33: Eclipse fr...</td>\n",
       "      <td>1</td>\n",
       "    </tr>\n",
       "    <tr>\n",
       "      <th>2</th>\n",
       "      <td>578891261353984000</td>\n",
       "      <td>“@Shyman33: Eclipse from ISS.... http://t.co/C...</td>\n",
       "      <td>224839607</td>\n",
       "      <td>eclipse_01</td>\n",
       "      <td>tpjp1231</td>\n",
       "      <td>Fri Mar 20 12:10:06 +0000 2015</td>\n",
       "      <td>fake</td>\n",
       "      <td>“@Shyman33: Eclipse from ISS.... http://t.co/C...</td>\n",
       "      <td>1</td>\n",
       "    </tr>\n",
       "    <tr>\n",
       "      <th>3</th>\n",
       "      <td>578846612312748032</td>\n",
       "      <td>Eclipse from ISS.... http://t.co/En87OtvsU6</td>\n",
       "      <td>134543073</td>\n",
       "      <td>eclipse_01</td>\n",
       "      <td>Shyman33</td>\n",
       "      <td>Fri Mar 20 09:12:41 +0000 2015</td>\n",
       "      <td>fake</td>\n",
       "      <td>Eclipse from ISS.... http://t.co/En87OtvsU6</td>\n",
       "      <td>1</td>\n",
       "    </tr>\n",
       "    <tr>\n",
       "      <th>4</th>\n",
       "      <td>578975333841551360</td>\n",
       "      <td>@ebonfigli: Éclipse vue de l'ISS... Autre chos...</td>\n",
       "      <td>1150728872</td>\n",
       "      <td>eclipse_01</td>\n",
       "      <td>Epimethee_</td>\n",
       "      <td>Fri Mar 20 17:44:11 +0000 2015</td>\n",
       "      <td>fake</td>\n",
       "      <td>@ebonfigli: Eclipse seen from the ISS... Anoth...</td>\n",
       "      <td>1</td>\n",
       "    </tr>\n",
       "  </tbody>\n",
       "</table>\n",
       "</div>\n",
       "      <button class=\"colab-df-convert\" onclick=\"convertToInteractive('df-11ed8fa8-c57a-47f8-9e6f-828b2b947bed')\"\n",
       "              title=\"Convert this dataframe to an interactive table.\"\n",
       "              style=\"display:none;\">\n",
       "        \n",
       "  <svg xmlns=\"http://www.w3.org/2000/svg\" height=\"24px\"viewBox=\"0 0 24 24\"\n",
       "       width=\"24px\">\n",
       "    <path d=\"M0 0h24v24H0V0z\" fill=\"none\"/>\n",
       "    <path d=\"M18.56 5.44l.94 2.06.94-2.06 2.06-.94-2.06-.94-.94-2.06-.94 2.06-2.06.94zm-11 1L8.5 8.5l.94-2.06 2.06-.94-2.06-.94L8.5 2.5l-.94 2.06-2.06.94zm10 10l.94 2.06.94-2.06 2.06-.94-2.06-.94-.94-2.06-.94 2.06-2.06.94z\"/><path d=\"M17.41 7.96l-1.37-1.37c-.4-.4-.92-.59-1.43-.59-.52 0-1.04.2-1.43.59L10.3 9.45l-7.72 7.72c-.78.78-.78 2.05 0 2.83L4 21.41c.39.39.9.59 1.41.59.51 0 1.02-.2 1.41-.59l7.78-7.78 2.81-2.81c.8-.78.8-2.07 0-2.86zM5.41 20L4 18.59l7.72-7.72 1.47 1.35L5.41 20z\"/>\n",
       "  </svg>\n",
       "      </button>\n",
       "      \n",
       "  <style>\n",
       "    .colab-df-container {\n",
       "      display:flex;\n",
       "      flex-wrap:wrap;\n",
       "      gap: 12px;\n",
       "    }\n",
       "\n",
       "    .colab-df-convert {\n",
       "      background-color: #E8F0FE;\n",
       "      border: none;\n",
       "      border-radius: 50%;\n",
       "      cursor: pointer;\n",
       "      display: none;\n",
       "      fill: #1967D2;\n",
       "      height: 32px;\n",
       "      padding: 0 0 0 0;\n",
       "      width: 32px;\n",
       "    }\n",
       "\n",
       "    .colab-df-convert:hover {\n",
       "      background-color: #E2EBFA;\n",
       "      box-shadow: 0px 1px 2px rgba(60, 64, 67, 0.3), 0px 1px 3px 1px rgba(60, 64, 67, 0.15);\n",
       "      fill: #174EA6;\n",
       "    }\n",
       "\n",
       "    [theme=dark] .colab-df-convert {\n",
       "      background-color: #3B4455;\n",
       "      fill: #D2E3FC;\n",
       "    }\n",
       "\n",
       "    [theme=dark] .colab-df-convert:hover {\n",
       "      background-color: #434B5C;\n",
       "      box-shadow: 0px 1px 3px 1px rgba(0, 0, 0, 0.15);\n",
       "      filter: drop-shadow(0px 1px 2px rgba(0, 0, 0, 0.3));\n",
       "      fill: #FFFFFF;\n",
       "    }\n",
       "  </style>\n",
       "\n",
       "      <script>\n",
       "        const buttonEl =\n",
       "          document.querySelector('#df-11ed8fa8-c57a-47f8-9e6f-828b2b947bed button.colab-df-convert');\n",
       "        buttonEl.style.display =\n",
       "          google.colab.kernel.accessAllowed ? 'block' : 'none';\n",
       "\n",
       "        async function convertToInteractive(key) {\n",
       "          const element = document.querySelector('#df-11ed8fa8-c57a-47f8-9e6f-828b2b947bed');\n",
       "          const dataTable =\n",
       "            await google.colab.kernel.invokeFunction('convertToInteractive',\n",
       "                                                     [key], {});\n",
       "          if (!dataTable) return;\n",
       "\n",
       "          const docLinkHtml = 'Like what you see? Visit the ' +\n",
       "            '<a target=\"_blank\" href=https://colab.research.google.com/notebooks/data_table.ipynb>data table notebook</a>'\n",
       "            + ' to learn more about interactive tables.';\n",
       "          element.innerHTML = '';\n",
       "          dataTable['output_type'] = 'display_data';\n",
       "          await google.colab.output.renderOutput(dataTable, element);\n",
       "          const docLink = document.createElement('div');\n",
       "          docLink.innerHTML = docLinkHtml;\n",
       "          element.appendChild(docLink);\n",
       "        }\n",
       "      </script>\n",
       "    </div>\n",
       "  </div>\n",
       "  "
      ],
      "text/plain": [
       "              tweetId                                          tweetText  \\\n",
       "0  578854927457349632  kereeen RT @Shyman33: Eclipse from ISS.... htt...   \n",
       "1  578874632670953472  Absolutely beautiful! RT @Shyman33: Eclipse fr...   \n",
       "2  578891261353984000  “@Shyman33: Eclipse from ISS.... http://t.co/C...   \n",
       "3  578846612312748032        Eclipse from ISS.... http://t.co/En87OtvsU6   \n",
       "4  578975333841551360  @ebonfigli: Éclipse vue de l'ISS... Autre chos...   \n",
       "\n",
       "       userId   imageId(s)         username                       timestamp  \\\n",
       "0    70824972  eclipse_01            peay_s  Fri Mar 20 09:45:43 +0000 2015   \n",
       "1   344707006  eclipse_01   JaredUcanChange  Fri Mar 20 11:04:02 +0000 2015   \n",
       "2   224839607  eclipse_01          tpjp1231  Fri Mar 20 12:10:06 +0000 2015   \n",
       "3   134543073  eclipse_01          Shyman33  Fri Mar 20 09:12:41 +0000 2015   \n",
       "4  1150728872   eclipse_01       Epimethee_  Fri Mar 20 17:44:11 +0000 2015   \n",
       "\n",
       "  label                                          CleanText  enc_label  \n",
       "0  fake  kereeen RT @Shyman33: Eclipse from ISS.... htt...          1  \n",
       "1  fake  Absolutely beautiful! RT @Shyman33: Eclipse fr...          1  \n",
       "2  fake  “@Shyman33: Eclipse from ISS.... http://t.co/C...          1  \n",
       "3  fake        Eclipse from ISS.... http://t.co/En87OtvsU6          1  \n",
       "4  fake  @ebonfigli: Eclipse seen from the ISS... Anoth...          1  "
      ]
     },
     "metadata": {},
     "output_type": "display_data"
    }
   ],
   "source": [
    "display(df_test.head())"
   ]
  },
  {
   "cell_type": "code",
   "execution_count": null,
   "metadata": {
    "id": "kDEWcfUrpJAb"
   },
   "outputs": [],
   "source": [
    "df_train.drop(labels=['tweetId','userId', 'username', 'timestamp'], axis = 'columns', inplace = True)\n",
    "df_test.drop(labels=['tweetId','userId', 'username', 'timestamp'], axis = 'columns', inplace = True)\n",
    "df_train.rename(columns = {\"imageId(s)\":\"images\"}, inplace = True)\n",
    "df_test.rename(columns = {\"imageId(s)\":\"images\"}, inplace = True)"
   ]
  },
  {
   "cell_type": "code",
   "execution_count": null,
   "metadata": {
    "id": "P13uwyBcp7F3"
   },
   "outputs": [],
   "source": [
    "df_train.replace({'images': {'sandyB_real_4': 'sandyB_real_04'}}, inplace = True)\n",
    "df_train.replace({'images': {'sandyB_real_6': 'sandyB_real_60'}}, inplace = True)"
   ]
  },
  {
   "cell_type": "code",
   "execution_count": null,
   "metadata": {
    "id": "BoLhlkO7qIf9"
   },
   "outputs": [],
   "source": [
    "df_test.drop(df_test[df_test.images ==\"syrian_boy_video\"].index, inplace = True)\n",
    "df_test.drop(df_test[df_test.images ==\"varoufakis_video\"].index, inplace = True)\n",
    "df_test.drop(df_test[df_test.images ==\"eclipse_video_01 \"].index, inplace = True)"
   ]
  },
  {
   "cell_type": "code",
   "execution_count": null,
   "metadata": {
    "id": "DtzvOIlB2p4z"
   },
   "outputs": [],
   "source": [
    "missing_media_train = [\"boston_fake_35\", \"boston_real_05\",\"sochi_fake_1fake\"]\n",
    "for i in range(len(df_train.images)):\n",
    "    image = df_train['images'][i]\n",
    "    for j in image.split(sep = ','):\n",
    "        if j in missing_media_train:\n",
    "            df_train.drop(i, axis=0, inplace=True)"
   ]
  },
  {
   "cell_type": "code",
   "execution_count": null,
   "metadata": {
    "id": "GuE5BqICAne2"
   },
   "outputs": [],
   "source": [
    "# Get the lists of sentences and their labels.\n",
    "train_sent      = df_train.CleanText.values\n",
    "train_labels    = df_train.enc_label.values\n",
    "test_sent        = df_test.CleanText.values\n",
    "test_labels      = df_test.enc_label.values"
   ]
  },
  {
   "cell_type": "code",
   "execution_count": null,
   "metadata": {
    "colab": {
     "base_uri": "https://localhost:8080/",
     "height": 206
    },
    "id": "j5m-3tHJ3byb",
    "outputId": "52388384-9d9f-4ceb-fb80-cc4deda5df0c"
   },
   "outputs": [
    {
     "data": {
      "text/html": [
       "\n",
       "  <div id=\"df-fba4dde2-3fda-410d-8d3b-ee2313a395a4\">\n",
       "    <div class=\"colab-df-container\">\n",
       "      <div>\n",
       "<style scoped>\n",
       "    .dataframe tbody tr th:only-of-type {\n",
       "        vertical-align: middle;\n",
       "    }\n",
       "\n",
       "    .dataframe tbody tr th {\n",
       "        vertical-align: top;\n",
       "    }\n",
       "\n",
       "    .dataframe thead th {\n",
       "        text-align: right;\n",
       "    }\n",
       "</style>\n",
       "<table border=\"1\" class=\"dataframe\">\n",
       "  <thead>\n",
       "    <tr style=\"text-align: right;\">\n",
       "      <th></th>\n",
       "      <th>tweetText</th>\n",
       "      <th>images</th>\n",
       "      <th>label</th>\n",
       "      <th>CleanText</th>\n",
       "      <th>enc_label</th>\n",
       "    </tr>\n",
       "  </thead>\n",
       "  <tbody>\n",
       "    <tr>\n",
       "      <th>0</th>\n",
       "      <td>¿Se acuerdan de la película: “El día después d...</td>\n",
       "      <td>sandyA_fake_46</td>\n",
       "      <td>fake</td>\n",
       "      <td>Do you remember the movie: “The day after tomo...</td>\n",
       "      <td>1</td>\n",
       "    </tr>\n",
       "    <tr>\n",
       "      <th>1</th>\n",
       "      <td>@milenagimon: Miren a Sandy en NY!  Tremenda i...</td>\n",
       "      <td>sandyA_fake_09</td>\n",
       "      <td>fake</td>\n",
       "      <td>@milenagimon: Look at Sandy in NY! Tremendous ...</td>\n",
       "      <td>1</td>\n",
       "    </tr>\n",
       "    <tr>\n",
       "      <th>2</th>\n",
       "      <td>Buena la foto del Huracán Sandy, me recuerda a...</td>\n",
       "      <td>sandyA_fake_09</td>\n",
       "      <td>fake</td>\n",
       "      <td>Good photo of Hurricane Sandy, it reminds me o...</td>\n",
       "      <td>1</td>\n",
       "    </tr>\n",
       "    <tr>\n",
       "      <th>3</th>\n",
       "      <td>Scary shit #hurricane #NY http://t.co/e4JLBUfH</td>\n",
       "      <td>sandyA_fake_29</td>\n",
       "      <td>fake</td>\n",
       "      <td>Scary shit #hurricane #NY http://t.co/e4JLBUfH</td>\n",
       "      <td>1</td>\n",
       "    </tr>\n",
       "    <tr>\n",
       "      <th>4</th>\n",
       "      <td>My fave place in the world #nyc #hurricane #sa...</td>\n",
       "      <td>sandyA_fake_15</td>\n",
       "      <td>fake</td>\n",
       "      <td>My fave place in the world #nyc #hurricane #sa...</td>\n",
       "      <td>1</td>\n",
       "    </tr>\n",
       "  </tbody>\n",
       "</table>\n",
       "</div>\n",
       "      <button class=\"colab-df-convert\" onclick=\"convertToInteractive('df-fba4dde2-3fda-410d-8d3b-ee2313a395a4')\"\n",
       "              title=\"Convert this dataframe to an interactive table.\"\n",
       "              style=\"display:none;\">\n",
       "        \n",
       "  <svg xmlns=\"http://www.w3.org/2000/svg\" height=\"24px\"viewBox=\"0 0 24 24\"\n",
       "       width=\"24px\">\n",
       "    <path d=\"M0 0h24v24H0V0z\" fill=\"none\"/>\n",
       "    <path d=\"M18.56 5.44l.94 2.06.94-2.06 2.06-.94-2.06-.94-.94-2.06-.94 2.06-2.06.94zm-11 1L8.5 8.5l.94-2.06 2.06-.94-2.06-.94L8.5 2.5l-.94 2.06-2.06.94zm10 10l.94 2.06.94-2.06 2.06-.94-2.06-.94-.94-2.06-.94 2.06-2.06.94z\"/><path d=\"M17.41 7.96l-1.37-1.37c-.4-.4-.92-.59-1.43-.59-.52 0-1.04.2-1.43.59L10.3 9.45l-7.72 7.72c-.78.78-.78 2.05 0 2.83L4 21.41c.39.39.9.59 1.41.59.51 0 1.02-.2 1.41-.59l7.78-7.78 2.81-2.81c.8-.78.8-2.07 0-2.86zM5.41 20L4 18.59l7.72-7.72 1.47 1.35L5.41 20z\"/>\n",
       "  </svg>\n",
       "      </button>\n",
       "      \n",
       "  <style>\n",
       "    .colab-df-container {\n",
       "      display:flex;\n",
       "      flex-wrap:wrap;\n",
       "      gap: 12px;\n",
       "    }\n",
       "\n",
       "    .colab-df-convert {\n",
       "      background-color: #E8F0FE;\n",
       "      border: none;\n",
       "      border-radius: 50%;\n",
       "      cursor: pointer;\n",
       "      display: none;\n",
       "      fill: #1967D2;\n",
       "      height: 32px;\n",
       "      padding: 0 0 0 0;\n",
       "      width: 32px;\n",
       "    }\n",
       "\n",
       "    .colab-df-convert:hover {\n",
       "      background-color: #E2EBFA;\n",
       "      box-shadow: 0px 1px 2px rgba(60, 64, 67, 0.3), 0px 1px 3px 1px rgba(60, 64, 67, 0.15);\n",
       "      fill: #174EA6;\n",
       "    }\n",
       "\n",
       "    [theme=dark] .colab-df-convert {\n",
       "      background-color: #3B4455;\n",
       "      fill: #D2E3FC;\n",
       "    }\n",
       "\n",
       "    [theme=dark] .colab-df-convert:hover {\n",
       "      background-color: #434B5C;\n",
       "      box-shadow: 0px 1px 3px 1px rgba(0, 0, 0, 0.15);\n",
       "      filter: drop-shadow(0px 1px 2px rgba(0, 0, 0, 0.3));\n",
       "      fill: #FFFFFF;\n",
       "    }\n",
       "  </style>\n",
       "\n",
       "      <script>\n",
       "        const buttonEl =\n",
       "          document.querySelector('#df-fba4dde2-3fda-410d-8d3b-ee2313a395a4 button.colab-df-convert');\n",
       "        buttonEl.style.display =\n",
       "          google.colab.kernel.accessAllowed ? 'block' : 'none';\n",
       "\n",
       "        async function convertToInteractive(key) {\n",
       "          const element = document.querySelector('#df-fba4dde2-3fda-410d-8d3b-ee2313a395a4');\n",
       "          const dataTable =\n",
       "            await google.colab.kernel.invokeFunction('convertToInteractive',\n",
       "                                                     [key], {});\n",
       "          if (!dataTable) return;\n",
       "\n",
       "          const docLinkHtml = 'Like what you see? Visit the ' +\n",
       "            '<a target=\"_blank\" href=https://colab.research.google.com/notebooks/data_table.ipynb>data table notebook</a>'\n",
       "            + ' to learn more about interactive tables.';\n",
       "          element.innerHTML = '';\n",
       "          dataTable['output_type'] = 'display_data';\n",
       "          await google.colab.output.renderOutput(dataTable, element);\n",
       "          const docLink = document.createElement('div');\n",
       "          docLink.innerHTML = docLinkHtml;\n",
       "          element.appendChild(docLink);\n",
       "        }\n",
       "      </script>\n",
       "    </div>\n",
       "  </div>\n",
       "  "
      ],
      "text/plain": [
       "                                           tweetText          images label  \\\n",
       "0  ¿Se acuerdan de la película: “El día después d...  sandyA_fake_46  fake   \n",
       "1  @milenagimon: Miren a Sandy en NY!  Tremenda i...  sandyA_fake_09  fake   \n",
       "2  Buena la foto del Huracán Sandy, me recuerda a...  sandyA_fake_09  fake   \n",
       "3     Scary shit #hurricane #NY http://t.co/e4JLBUfH  sandyA_fake_29  fake   \n",
       "4  My fave place in the world #nyc #hurricane #sa...  sandyA_fake_15  fake   \n",
       "\n",
       "                                           CleanText  enc_label  \n",
       "0  Do you remember the movie: “The day after tomo...          1  \n",
       "1  @milenagimon: Look at Sandy in NY! Tremendous ...          1  \n",
       "2  Good photo of Hurricane Sandy, it reminds me o...          1  \n",
       "3     Scary shit #hurricane #NY http://t.co/e4JLBUfH          1  \n",
       "4  My fave place in the world #nyc #hurricane #sa...          1  "
      ]
     },
     "execution_count": 24,
     "metadata": {},
     "output_type": "execute_result"
    }
   ],
   "source": [
    "df_train.head()"
   ]
  },
  {
   "cell_type": "code",
   "execution_count": null,
   "metadata": {
    "colab": {
     "base_uri": "https://localhost:8080/",
     "height": 206
    },
    "id": "4biB2rhB3em4",
    "outputId": "56869fff-9bd8-45cf-b8c3-fea804f6096f"
   },
   "outputs": [
    {
     "data": {
      "text/html": [
       "\n",
       "  <div id=\"df-48137023-6d8f-4ede-bd40-007b1a6dc400\">\n",
       "    <div class=\"colab-df-container\">\n",
       "      <div>\n",
       "<style scoped>\n",
       "    .dataframe tbody tr th:only-of-type {\n",
       "        vertical-align: middle;\n",
       "    }\n",
       "\n",
       "    .dataframe tbody tr th {\n",
       "        vertical-align: top;\n",
       "    }\n",
       "\n",
       "    .dataframe thead th {\n",
       "        text-align: right;\n",
       "    }\n",
       "</style>\n",
       "<table border=\"1\" class=\"dataframe\">\n",
       "  <thead>\n",
       "    <tr style=\"text-align: right;\">\n",
       "      <th></th>\n",
       "      <th>tweetText</th>\n",
       "      <th>images</th>\n",
       "      <th>label</th>\n",
       "      <th>CleanText</th>\n",
       "      <th>enc_label</th>\n",
       "    </tr>\n",
       "  </thead>\n",
       "  <tbody>\n",
       "    <tr>\n",
       "      <th>0</th>\n",
       "      <td>kereeen RT @Shyman33: Eclipse from ISS.... htt...</td>\n",
       "      <td>eclipse_01</td>\n",
       "      <td>fake</td>\n",
       "      <td>kereeen RT @Shyman33: Eclipse from ISS.... htt...</td>\n",
       "      <td>1</td>\n",
       "    </tr>\n",
       "    <tr>\n",
       "      <th>1</th>\n",
       "      <td>Absolutely beautiful! RT @Shyman33: Eclipse fr...</td>\n",
       "      <td>eclipse_01</td>\n",
       "      <td>fake</td>\n",
       "      <td>Absolutely beautiful! RT @Shyman33: Eclipse fr...</td>\n",
       "      <td>1</td>\n",
       "    </tr>\n",
       "    <tr>\n",
       "      <th>2</th>\n",
       "      <td>“@Shyman33: Eclipse from ISS.... http://t.co/C...</td>\n",
       "      <td>eclipse_01</td>\n",
       "      <td>fake</td>\n",
       "      <td>“@Shyman33: Eclipse from ISS.... http://t.co/C...</td>\n",
       "      <td>1</td>\n",
       "    </tr>\n",
       "    <tr>\n",
       "      <th>3</th>\n",
       "      <td>Eclipse from ISS.... http://t.co/En87OtvsU6</td>\n",
       "      <td>eclipse_01</td>\n",
       "      <td>fake</td>\n",
       "      <td>Eclipse from ISS.... http://t.co/En87OtvsU6</td>\n",
       "      <td>1</td>\n",
       "    </tr>\n",
       "    <tr>\n",
       "      <th>4</th>\n",
       "      <td>@ebonfigli: Éclipse vue de l'ISS... Autre chos...</td>\n",
       "      <td>eclipse_01</td>\n",
       "      <td>fake</td>\n",
       "      <td>@ebonfigli: Eclipse seen from the ISS... Anoth...</td>\n",
       "      <td>1</td>\n",
       "    </tr>\n",
       "  </tbody>\n",
       "</table>\n",
       "</div>\n",
       "      <button class=\"colab-df-convert\" onclick=\"convertToInteractive('df-48137023-6d8f-4ede-bd40-007b1a6dc400')\"\n",
       "              title=\"Convert this dataframe to an interactive table.\"\n",
       "              style=\"display:none;\">\n",
       "        \n",
       "  <svg xmlns=\"http://www.w3.org/2000/svg\" height=\"24px\"viewBox=\"0 0 24 24\"\n",
       "       width=\"24px\">\n",
       "    <path d=\"M0 0h24v24H0V0z\" fill=\"none\"/>\n",
       "    <path d=\"M18.56 5.44l.94 2.06.94-2.06 2.06-.94-2.06-.94-.94-2.06-.94 2.06-2.06.94zm-11 1L8.5 8.5l.94-2.06 2.06-.94-2.06-.94L8.5 2.5l-.94 2.06-2.06.94zm10 10l.94 2.06.94-2.06 2.06-.94-2.06-.94-.94-2.06-.94 2.06-2.06.94z\"/><path d=\"M17.41 7.96l-1.37-1.37c-.4-.4-.92-.59-1.43-.59-.52 0-1.04.2-1.43.59L10.3 9.45l-7.72 7.72c-.78.78-.78 2.05 0 2.83L4 21.41c.39.39.9.59 1.41.59.51 0 1.02-.2 1.41-.59l7.78-7.78 2.81-2.81c.8-.78.8-2.07 0-2.86zM5.41 20L4 18.59l7.72-7.72 1.47 1.35L5.41 20z\"/>\n",
       "  </svg>\n",
       "      </button>\n",
       "      \n",
       "  <style>\n",
       "    .colab-df-container {\n",
       "      display:flex;\n",
       "      flex-wrap:wrap;\n",
       "      gap: 12px;\n",
       "    }\n",
       "\n",
       "    .colab-df-convert {\n",
       "      background-color: #E8F0FE;\n",
       "      border: none;\n",
       "      border-radius: 50%;\n",
       "      cursor: pointer;\n",
       "      display: none;\n",
       "      fill: #1967D2;\n",
       "      height: 32px;\n",
       "      padding: 0 0 0 0;\n",
       "      width: 32px;\n",
       "    }\n",
       "\n",
       "    .colab-df-convert:hover {\n",
       "      background-color: #E2EBFA;\n",
       "      box-shadow: 0px 1px 2px rgba(60, 64, 67, 0.3), 0px 1px 3px 1px rgba(60, 64, 67, 0.15);\n",
       "      fill: #174EA6;\n",
       "    }\n",
       "\n",
       "    [theme=dark] .colab-df-convert {\n",
       "      background-color: #3B4455;\n",
       "      fill: #D2E3FC;\n",
       "    }\n",
       "\n",
       "    [theme=dark] .colab-df-convert:hover {\n",
       "      background-color: #434B5C;\n",
       "      box-shadow: 0px 1px 3px 1px rgba(0, 0, 0, 0.15);\n",
       "      filter: drop-shadow(0px 1px 2px rgba(0, 0, 0, 0.3));\n",
       "      fill: #FFFFFF;\n",
       "    }\n",
       "  </style>\n",
       "\n",
       "      <script>\n",
       "        const buttonEl =\n",
       "          document.querySelector('#df-48137023-6d8f-4ede-bd40-007b1a6dc400 button.colab-df-convert');\n",
       "        buttonEl.style.display =\n",
       "          google.colab.kernel.accessAllowed ? 'block' : 'none';\n",
       "\n",
       "        async function convertToInteractive(key) {\n",
       "          const element = document.querySelector('#df-48137023-6d8f-4ede-bd40-007b1a6dc400');\n",
       "          const dataTable =\n",
       "            await google.colab.kernel.invokeFunction('convertToInteractive',\n",
       "                                                     [key], {});\n",
       "          if (!dataTable) return;\n",
       "\n",
       "          const docLinkHtml = 'Like what you see? Visit the ' +\n",
       "            '<a target=\"_blank\" href=https://colab.research.google.com/notebooks/data_table.ipynb>data table notebook</a>'\n",
       "            + ' to learn more about interactive tables.';\n",
       "          element.innerHTML = '';\n",
       "          dataTable['output_type'] = 'display_data';\n",
       "          await google.colab.output.renderOutput(dataTable, element);\n",
       "          const docLink = document.createElement('div');\n",
       "          docLink.innerHTML = docLinkHtml;\n",
       "          element.appendChild(docLink);\n",
       "        }\n",
       "      </script>\n",
       "    </div>\n",
       "  </div>\n",
       "  "
      ],
      "text/plain": [
       "                                           tweetText       images label  \\\n",
       "0  kereeen RT @Shyman33: Eclipse from ISS.... htt...  eclipse_01   fake   \n",
       "1  Absolutely beautiful! RT @Shyman33: Eclipse fr...  eclipse_01   fake   \n",
       "2  “@Shyman33: Eclipse from ISS.... http://t.co/C...  eclipse_01   fake   \n",
       "3        Eclipse from ISS.... http://t.co/En87OtvsU6  eclipse_01   fake   \n",
       "4  @ebonfigli: Éclipse vue de l'ISS... Autre chos...   eclipse_01  fake   \n",
       "\n",
       "                                           CleanText  enc_label  \n",
       "0  kereeen RT @Shyman33: Eclipse from ISS.... htt...          1  \n",
       "1  Absolutely beautiful! RT @Shyman33: Eclipse fr...          1  \n",
       "2  “@Shyman33: Eclipse from ISS.... http://t.co/C...          1  \n",
       "3        Eclipse from ISS.... http://t.co/En87OtvsU6          1  \n",
       "4  @ebonfigli: Eclipse seen from the ISS... Anoth...          1  "
      ]
     },
     "execution_count": 25,
     "metadata": {},
     "output_type": "execute_result"
    }
   ],
   "source": [
    "df_test.head()"
   ]
  },
  {
   "cell_type": "code",
   "execution_count": null,
   "metadata": {
    "id": "L4LV-Gn4sUUp"
   },
   "outputs": [],
   "source": [
    "#Bertweet tokens\n",
    "import re\n",
    "\n",
    "for i in range(train_sent.shape[0]):\n",
    "  train_sent[i] = re.sub(r'<url>','HTTPURL',train_sent[i])\n",
    "  train_sent[i] = re.sub(r'<user>','@USER',train_sent[i])\n",
    "for i in range(test_sent.shape[0]):\n",
    "  test_sent[i] = re.sub(r'<url>','HTTPURL',test_sent[i])\n",
    "  test_sent[i] = re.sub(r'<user>','@USER',test_sent[i])"
   ]
  },
  {
   "cell_type": "code",
   "execution_count": null,
   "metadata": {
    "id": "dOJb3sqz-H7_"
   },
   "outputs": [],
   "source": [
    "#train_df, val_df = train_test_split(df_train, test_size=0.2, random_state = 0)"
   ]
  },
  {
   "cell_type": "code",
   "execution_count": null,
   "metadata": {
    "id": "5g5mzwVLWXrz"
   },
   "outputs": [],
   "source": [
    "\"\"\"\n",
    "train_sent      = train_df.CleanText.values\n",
    "train_labels    = train_df.enc_label.values\n",
    "\n",
    "val_sent      = val_df.CleanText.values\n",
    "val_labels    = val_df.enc_label.values\n",
    "\n",
    "test_sent        = df_test.CleanText.values\n",
    "test_labels      = df_test.enc_label.values\n",
    "\"\"\""
   ]
  },
  {
   "cell_type": "code",
   "execution_count": null,
   "metadata": {
    "id": "tsJOlThQWXrz"
   },
   "outputs": [],
   "source": [
    "#Bertweet tokens\n",
    "\"\"\"\n",
    "import re\n",
    "\n",
    "for i in range(train_sent.shape[0]):\n",
    "  train_sent[i] = re.sub(r'<url>','HTTPURL',train_sent[i])\n",
    "  train_sent[i] = re.sub(r'<user>','@USER',train_sent[i])\n",
    "\n",
    "\n",
    "for i in range(val_sent.shape[0]):\n",
    "  val_sent[i] = re.sub(r'<url>','HTTPURL',val_sent[i])\n",
    "  val_sent[i] = re.sub(r'<user>','@USER',val_sent[i])\n",
    "\n",
    "\n",
    "for i in range(test_sent.shape[0]):\n",
    "  test_sent[i] = re.sub(r'<url>','HTTPURL',test_sent[i])\n",
    "  test_sent[i] = re.sub(r'<user>','@USER',test_sent[i])\n",
    "  \"\"\""
   ]
  },
  {
   "cell_type": "code",
   "execution_count": null,
   "metadata": {
    "id": "Ggg-3b706pyj"
   },
   "outputs": [],
   "source": [
    "#train_sent = np.append(train_sent,val_sent)\n",
    "#train_labels = np.append(train_labels,val_labels)"
   ]
  },
  {
   "cell_type": "code",
   "execution_count": null,
   "metadata": {
    "colab": {
     "base_uri": "https://localhost:8080/"
    },
    "id": "oE0kvDxVWXrz",
    "outputId": "689ba41e-9dc6-4c6b-dbf0-54819542ea54"
   },
   "outputs": [
    {
     "name": "stdout",
     "output_type": "stream",
     "text": [
      "14175 14175\n",
      "3753 3753\n"
     ]
    }
   ],
   "source": [
    "print(len(train_sent), len(train_labels))\n",
    "#print(len(val_sent), len(val_labels))\n",
    "print(len(test_sent), len(test_labels))"
   ]
  },
  {
   "cell_type": "code",
   "execution_count": null,
   "metadata": {
    "colab": {
     "base_uri": "https://localhost:8080/"
    },
    "id": "M71SOZRMWXr0",
    "outputId": "496a791b-6e6b-4fbf-a526-018e04aa1d01"
   },
   "outputs": [
    {
     "data": {
      "text/plain": [
       "((11340, 224, 224, 3), (3753, 224, 224, 3), (2835, 224, 224, 3))"
      ]
     },
     "execution_count": 28,
     "metadata": {},
     "output_type": "execute_result"
    }
   ],
   "source": [
    "img_train = np.load(img_train_path)\n",
    "img_val = np.load(img_val_path)\n",
    "img_test = np.load(img_test_path)\n",
    "img_train.shape,  img_test.shape, img_val.shape"
   ]
  },
  {
   "cell_type": "code",
   "execution_count": null,
   "metadata": {
    "id": "TOyOaGx26sji"
   },
   "outputs": [],
   "source": [
    "img_train = np.vstack((img_train,img_val))\n",
    "img_train.shape"
   ]
  },
  {
   "cell_type": "code",
   "execution_count": null,
   "metadata": {
    "colab": {
     "base_uri": "https://localhost:8080/"
    },
    "id": "g6XvCkqT7wxO",
    "outputId": "ca2f082b-a570-4fe9-f8ca-42e755d409c4"
   },
   "outputs": [
    {
     "name": "stdout",
     "output_type": "stream",
     "text": [
      "14175 14175\n",
      "3753 3753\n"
     ]
    }
   ],
   "source": [
    "print(len(train_sent), len(train_labels))\n",
    "print(len(test_sent), len(test_labels))"
   ]
  },
  {
   "cell_type": "code",
   "execution_count": null,
   "metadata": {
    "colab": {
     "base_uri": "https://localhost:8080/"
    },
    "id": "4leCC2YXBtMr",
    "outputId": "bd808364-9158-49d9-ac0c-bb77fc3db64a"
   },
   "outputs": [
    {
     "data": {
      "text/plain": [
       "14175"
      ]
     },
     "execution_count": 23,
     "metadata": {},
     "output_type": "execute_result"
    }
   ],
   "source": [
    "len(train_sent)"
   ]
  },
  {
   "cell_type": "markdown",
   "metadata": {
    "id": "ex5O1eV-Pfct"
   },
   "source": [
    "# Tokenization & Input Formatting\n"
   ]
  },
  {
   "cell_type": "code",
   "execution_count": null,
   "metadata": {
    "colab": {
     "base_uri": "https://localhost:8080/"
    },
    "id": "oSNdVzzBsoFQ",
    "outputId": "ec060223-fe86-4c9b-8f87-ce8c58a032ba"
   },
   "outputs": [
    {
     "name": "stdout",
     "output_type": "stream",
     "text": [
      "Looking in indexes: https://pypi.org/simple, https://us-python.pkg.dev/colab-wheels/public/simple/\n",
      "Collecting emoji\n",
      "  Downloading emoji-2.2.0.tar.gz (240 kB)\n",
      "\u001b[2K     \u001b[90m━━━━━━━━━━━━━━━━━━━━━━━━━━━━━━━━━━━━━━━\u001b[0m \u001b[32m240.9/240.9 kB\u001b[0m \u001b[31m5.4 MB/s\u001b[0m eta \u001b[36m0:00:00\u001b[0m\n",
      "\u001b[?25h  Preparing metadata (setup.py) ... \u001b[?25l\u001b[?25hdone\n",
      "Building wheels for collected packages: emoji\n",
      "  Building wheel for emoji (setup.py) ... \u001b[?25l\u001b[?25hdone\n",
      "  Created wheel for emoji: filename=emoji-2.2.0-py3-none-any.whl size=234911 sha256=9fcf44427e3ae591a70892a29e0731e8893e5113248105b9e9f900fc1b080083\n",
      "  Stored in directory: /root/.cache/pip/wheels/02/3d/88/51a592b9ad17e7899126563698b4e3961983ebe85747228ba6\n",
      "Successfully built emoji\n",
      "Installing collected packages: emoji\n",
      "Successfully installed emoji-2.2.0\n"
     ]
    }
   ],
   "source": [
    "!pip install emoji"
   ]
  },
  {
   "cell_type": "code",
   "execution_count": null,
   "metadata": {
    "colab": {
     "base_uri": "https://localhost:8080/",
     "height": 162,
     "referenced_widgets": [
      "e4085bd825654e15a353768e929bbf91",
      "ffbcfdda7d534b5bac2c5fab68347ebb",
      "f2c4166b723b4af1a34a752b0e93c636",
      "5eb878a05d454b81ae8acdba2cfbb111",
      "e43bca50c5e349b7bdc41a0586de229f",
      "34a218677f4a45c6b9e9ab121e736cda",
      "8d37be83c495444d951cfcb4f81100c0",
      "b0a2537feed6468890361b618b8236ee",
      "5911b2fcfc5643468da3a30407d8bcfe",
      "8a3490f008f4436c98ee0bfbeba94f74",
      "063839c1882c4ccbbc032189524de14f",
      "e7e52afe0cbb4f23b514e441d9025882",
      "722baa57507f499da43fd2657bbfd243",
      "9aae0ef38b5f43639dcbe2b9055c55d3",
      "07b2916781bb4ab9b491df539c3e20b4",
      "b20d84017f1e4980ba100dd8ea291cf4",
      "df179eae8dca4f60b2d67db032e3371b",
      "d8c159a0b6754d01aa4a602939eba69a",
      "09c010aa1be7462c896c3dab277f9a39",
      "603e1f863be84661bc6c151a91baa467",
      "136767bb518e4029aab8d6b18ec7e326",
      "958f134ff518492f80903ec24188e39a",
      "5cb558765dfa476ba60c21e8f56581a5",
      "0bb4cff8c9fe4dc28140f911cf47a539",
      "22434236ecb1429c95785d4ebf9a3ef4",
      "52081c766ea44f9aa6d5397226124fb2",
      "a54d658349754b209e91cdb2384544ee",
      "f532585123364d088042e1b461b343b4",
      "18b65fcdfb8a4c499e3391bbd04b3aad",
      "2b5e578eea004cf08462ce566d125c31",
      "4b198da73add447d817291fcf3326610",
      "e40b1e6e293f4d71a9b814d99b1fc2b6",
      "1447bb34637e413c9c0bc8166e74c691",
      "3a359212d7e940fb8115cf39e92b3ab1",
      "876a387f9db84b6c86935cdd2312ff92",
      "10225de3459949ffb52b798b6b817bfc",
      "7e0901f0fc5e47c5a79afe6d016e818a",
      "fc45c862459b425da7b66eafb9e36c3d",
      "e9c0998cc72241e4867dcd23d7065c2b",
      "d5f869684c0747c18f605ea4338fb4a8",
      "976abeb14698469f9e862af023ecf2eb",
      "1454f2fa588c4a84be441e537ceb77ba",
      "71539a8fc6264b8fab88ac91d26d395e",
      "8ab8d177dcb741bebbda246e1b86f08f"
     ]
    },
    "id": "Z474sSC6oe7A",
    "outputId": "ac20cc62-c06d-4f60-d484-0f85ede1b866"
   },
   "outputs": [
    {
     "name": "stdout",
     "output_type": "stream",
     "text": [
      "Loading BERT tokenizer...\n"
     ]
    },
    {
     "data": {
      "application/vnd.jupyter.widget-view+json": {
       "model_id": "e4085bd825654e15a353768e929bbf91",
       "version_major": 2,
       "version_minor": 0
      },
      "text/plain": [
       "Downloading (…)lve/main/config.json:   0%|          | 0.00/747 [00:00<?, ?B/s]"
      ]
     },
     "metadata": {},
     "output_type": "display_data"
    },
    {
     "data": {
      "application/vnd.jupyter.widget-view+json": {
       "model_id": "e7e52afe0cbb4f23b514e441d9025882",
       "version_major": 2,
       "version_minor": 0
      },
      "text/plain": [
       "Downloading (…)olve/main/vocab.json:   0%|          | 0.00/899k [00:00<?, ?B/s]"
      ]
     },
     "metadata": {},
     "output_type": "display_data"
    },
    {
     "data": {
      "application/vnd.jupyter.widget-view+json": {
       "model_id": "5cb558765dfa476ba60c21e8f56581a5",
       "version_major": 2,
       "version_minor": 0
      },
      "text/plain": [
       "Downloading (…)olve/main/merges.txt:   0%|          | 0.00/456k [00:00<?, ?B/s]"
      ]
     },
     "metadata": {},
     "output_type": "display_data"
    },
    {
     "data": {
      "application/vnd.jupyter.widget-view+json": {
       "model_id": "3a359212d7e940fb8115cf39e92b3ab1",
       "version_major": 2,
       "version_minor": 0
      },
      "text/plain": [
       "Downloading (…)cial_tokens_map.json:   0%|          | 0.00/150 [00:00<?, ?B/s]"
      ]
     },
     "metadata": {},
     "output_type": "display_data"
    }
   ],
   "source": [
    "# Load the BERT tokenizer.\n",
    "print('Loading BERT tokenizer...')\n",
    "tokenizer = AutoTokenizer.from_pretrained(MODEL, do_lower_case=False)"
   ]
  },
  {
   "cell_type": "code",
   "execution_count": null,
   "metadata": {
    "colab": {
     "base_uri": "https://localhost:8080/"
    },
    "id": "dLIbudgfh6F0",
    "outputId": "b82114b1-c496-4add-a686-e139d747a089"
   },
   "outputs": [
    {
     "name": "stdout",
     "output_type": "stream",
     "text": [
      " Original:  My fave place in the world #nyc #hurricane #sandy #statueofliberty 🗽 http://t.co/Ex61doZk\n",
      "Tokenized:  ['My', 'Ġf', 'ave', 'Ġplace', 'Ġin', 'Ġthe', 'Ġworld', 'Ġ#', 'ny', 'c', 'Ġ#', 'hur', 'ricane', 'Ġ#', 's', 'andy', 'Ġ#', 'stat', 'ue', 'of', 'liber', 'ty', 'ĠðŁ', 'Ĺ', '½', 'Ġhttp', '://', 't', '.', 'co', '/', 'Ex', '61', 'do', 'Z', 'k']\n",
      "Token IDs:  [2387, 856, 4097, 317, 11, 5, 232, 849, 2855, 438, 849, 14898, 33280, 849, 29, 10708, 849, 24344, 1780, 1116, 39176, 2553, 8103, 6800, 10809, 2054, 640, 90, 4, 876, 73, 9089, 5606, 5016, 1301, 330]\n"
     ]
    }
   ],
   "source": [
    "print(' Original: ', train_sent[4])\n",
    "print('Tokenized: ', tokenizer.tokenize(train_sent[4]))\n",
    "print('Token IDs: ', tokenizer.convert_tokens_to_ids(tokenizer.tokenize(train_sent[4])))"
   ]
  },
  {
   "cell_type": "markdown",
   "metadata": {
    "id": "viKGCCh8izww"
   },
   "source": [
    "## Find max length"
   ]
  },
  {
   "cell_type": "code",
   "execution_count": null,
   "metadata": {
    "colab": {
     "base_uri": "https://localhost:8080/",
     "height": 240,
     "referenced_widgets": [
      "f6588cd1b9bb4cbc9e4da4e733c81b52",
      "5b0fb1c4e92744f2a19b5331a05f94f4",
      "90ac1445b826408491b4f19f9f7769c8",
      "ac9e972021574e0497df0279b7df9758",
      "7cdca58699af4b67b78113a37391acdb",
      "1b0507b8c33b4a04be82e07bbea8c721",
      "71eceaad12eb43aeb3d852a0dba99499",
      "dbdb03a4c03b4d4f84b290fa0a580170",
      "94722cdd43ab435f903d43a17aac792a",
      "ce9953d41b66435ea5c9eaf9458160a3",
      "5d61bad877dd40efaa1c038786352fda",
      "3ae245a6a4d24ef78144ac84130e3332",
      "056ed87162164c8aaa0e9efe96f8eb64",
      "26c777ce6e0c43b68852607755b6f04b",
      "00c4a04f6c374b3c978571a1f0b655c9",
      "7c82926c5ecf4fc985a92b6a05834776",
      "5becbc14adf34a12a3cb89aff2c384b4",
      "eaa8305eb6024fbd905902b157ab0e33",
      "455ae2d8c2a14201810688d7c2bc6ec4",
      "ca77130fcdc54cca8247131204b98ba9",
      "3d182a04aed74f15af641707f711298d",
      "99938cd909494966bbdefe8d42418f69"
     ]
    },
    "id": "cKsH2sU0OCQA",
    "outputId": "a1a10943-7781-4e02-c28d-1962c88c3337"
   },
   "outputs": [
    {
     "data": {
      "application/vnd.jupyter.widget-view+json": {
       "model_id": "f6588cd1b9bb4cbc9e4da4e733c81b52",
       "version_major": 2,
       "version_minor": 0
      },
      "text/plain": [
       "  0%|          | 0/14175 [00:00<?, ?it/s]"
      ]
     },
     "metadata": {},
     "output_type": "display_data"
    },
    {
     "name": "stdout",
     "output_type": "stream",
     "text": [
      "\n",
      "Max sentence length in train data:  2437\n"
     ]
    },
    {
     "data": {
      "application/vnd.jupyter.widget-view+json": {
       "model_id": "3ae245a6a4d24ef78144ac84130e3332",
       "version_major": 2,
       "version_minor": 0
      },
      "text/plain": [
       "0it [00:00, ?it/s]"
      ]
     },
     "metadata": {},
     "output_type": "display_data"
    },
    {
     "name": "stdout",
     "output_type": "stream",
     "text": [
      "1846 @Austynzogs: The historic Dharahara tower, a landmark in Nepal's capital collapsed during a 7.8 magnitude earthquake http://t.co/owF6NJHbk6 378809160 nepal_25 Gidi_Traffic Sat Apr 25 18:32:02 +0000 2015 real 591988110356910081 Nepal's historic Dharahara Tower collapses in massive earthquake: The historic Dharahara tower, a la... http://t.co/0xV9Ia2WQr #mashable 2499901884 nepal_25 jamsmith54 Sat Apr 25 15:32:18 +0000 2015 real 591987485816721408 Nepal's historic Dharahara Tower collapses in massive earthquake: The historic Dharahara tower, a landmark in ... http://t.co/B2KC7V9Jbr 1619859326 nepal_25 SSMAAds Sat Apr 25 15:29:49 +0000 2015 real 591987634530099202 Nepal's historic Dharahara Tower collapses in massive earthquake: The historic Dharahara tower, a landmark in ... http://t.co/Y7XXWjYJcK 3187243479 nepal_25 JiggySNE Sat Apr 25 15:30:25 +0000 2015 real 591987586610135041 Nepal's historic Dharahara Tower collapses in massive earthquake. http://t.co/xjxJyGK60S http://t.co/FN6rdxpNNI 972651 nepal_25 mashable Sat Apr 25 15:30:13 +0000 2015 real 592016080647905280 Nepal's historic Dharahara tower collapses in massive earthquake http://t.co/aPb97euwoZ #Startup #Entrepreneurs #Ideas 808902416 nepal_25 my_duwad Sat Apr 25 17:23:27 +0000 2015 real 592120164180721664 Nepal's historic Dharahara tower collapses in massive earthquake http://t.co/aPb97euwoZ #Startup #Entrepreneurs #Ideas 808902416 nepal_25 my_duwad Sun Apr 26 00:17:02 +0000 2015 real 583525713040445440 #Kenya -UPDATE #GarissaAttack - Security Forces Rescue Mission Continuous, Police Chief Himself On The Ground http://t.co/JrvsDAuz4h 3055067522 garissa_02 Terror_Monitor Thu Apr 02 07:05:46 +0000 2015 fake 583525892552531968 #Kenya -UPDATE #GarissaAttack - Security Forces Rescue Mission Continuous, Police Chief Himself On The Ground http://t.co/4i2ogA0Nod\n",
      "1910 The horror image from inside #Kenya campus #GarissaAttack 147 students reported killed from #AlShabaab attack.#NEWS! http://t.co/LL0vlasqHl 2946060304 garissa_04 streetdisciplin Fri Apr 03 06:37:44 +0000 2015 real 583900120548302848 The horror image from inside #Kenya campus #GarissaAttack 147 students reported killed from #AlShabaab attack. http://t.co/XMsuLqYxAD\n",
      "3199 SYRIA! SYRIAN HERO BOY rescue girl# in shootout. S YouTube - SYRIA! SYRIAN HERO BOY rescue girl in shootout. S…: http://t.co/BQsaM7UWP5 2813746225 syrianboy_1 05815Saif Mon Nov 10 21:26:16 +0000 2014 fake 531927292188975105 SYRIA! SYRIAN HERO BOY rescue girl in shootout. S…: http://t.co/1PrmlAWdt2 327258368 syrianboy_1 Turki_wwo Mon Nov 10 21:52:03 +0000 2014 fake 531929879965483009 rescue girl in shootout. S… YouTube - SYRIA! SYRIAN HERO BOY rescue girl in shootout. S…: http://t.co/8gMNvCfr5H\n",
      "3325 @Alialdhyan: SYRIA! SYRIAN HERO BOY rescue girl in shootout. S…: http://t.co/Ix9y6btp5F\\n\\nطفل سوري ينقذ أختة\\nرغم اصابته اكثر من مرة\\n#سوريا 564776951 syrianboy_1 MO7AMD_ALFAR7AN Wed Nov 12 17:57:37 +0000 2014 fake 532619196337627136 SYRIA! SYRIAN HERO BOY rescue girl in shootout. S…: http://t.co/DBXOVmagBI 2188870998 syrianboy_1 bshahranii Wed Nov 12 19:41:26 +0000 2014 fake 532643304479797248 - SYRIA! SYRIAN HERO BOY rescue girl in shootout. S…: http://t.co/FSSkMB4uaa 2195085078 syrianboy_1 001Masha3el Wed Nov 12 21:17:14 +0000 2014 fake 532666550625386496 SYRIA! SYRIAN HERO BOY rescue girl in shootout. S…: http://t.co/05xJT603DB 1155990050 syrianboy_1 mohd7897891 Wed Nov 12 22:49:36 +0000 2014 fake 532972889725599744 SYRIA! SYRIAN HERO BOY rescue girl in shootout. S…: http://t.co/WnZWOPcdPU 1721652799 syrianboy_1 moteeem Thu Nov 13 19:06:53 +0000 2014 fake 533095821277798400 SYRIA! SYRIAN HERO BOY rescue girl in shootout. S…: http://t.co/Wd0kia4E9q اتمنا يستنسخ هاذا البطل 2373882862 syrianboy_1 oaagg2014 Fri Nov 14 03:15:22 +0000 2014 fake 533173491462180864 SYRIA! SYRIAN HERO BOY rescue girl in shootout. S…: http://t.co/XwByFjxbQr 57000591 syrianboy_1 m7md_utd Fri Nov 14 08:24:00 +0000 2014 fake 532061955817631744 SYRIA! SYRIAN HERO BOY rescue girl in shootout. S…: http://t.co/BtueK6e6hN 558680934 syrianboy_1 hamada191111 Tue Nov 11 06:47:10 +0000 2014 fake 532097321488486400 SYRIA! SYRIAN HERO BOY rescue girl in shootout. S…: http://t.co/QoyJ5xxJp0 لعنة الله على بشار ومن عاونه 849876800 syrianboy_1 fahad_moe689 Tue Nov 11 09:07:41 +0000 2014 fake 532879481728294912 SYRIA! SYRIAN HERO BOY rescue girl in shootout الطفل السوري البطل http://t.co/Qx54irnHEQ 9013332 syrianboy_1 nekoma1021 Thu Nov 13 12:55:43 +0000 2014 fake 531846192439652352 SYRIA! SYRIAN HERO BOY rescue girl in shootout. SEE THIS!! الصبي السوري ...: http://t.co/7RvLTQkOOY عبر @YouTube 323098455 syrianboy_1 mahe35 Mon Nov 10 16:29:48 +0000 2014 fake 531795873521356800 SYRIA! SYRIAN HERO BOY rescue girl in shootout. SEE THIS!! الصبي السوري ...: http://t.co/wVh8M2aCTO عبر @YouTube 535726684 syrianboy_1 TomasFadi Mon Nov 10 13:09:51 +0000 2014 fake 531913503200657409 SYRIA! SYRIAN HERO BOY rescue girl in shootout. SEE THIS!! الصبي السوري ...: http://t.co/X8ZxLjcOpL عبر @YouTube 392125786 syrianboy_1 jjiu87 Mon Nov 10 20:57:16 +0000 2014 fake 533076147387375616 SYRIA! SYRIAN HERO BOY rescue girl in shootout. SEE THIS!! الصبي السوري ...: http://t.co/8YJMTjx2LT عبر @YouTube 253112013 syrianboy_1 moh_849 Fri Nov 14 01:57:12 +0000 2014 fake 533251586664202240 Watched the clip of that 'Syrian hero boy'. How warped do you have to be mentally, to shoot at kids?! Messed up Bruh. 97625510 syrianboy_1 miskoom Fri Nov 14 13:34:20 +0000 2014 fake 533255867362471936 Agreed. Warped/Weak.@miskoom: Watched the clip of that 'Syrian hero boy'. How warped do you have to be mentally, to shoot at kids?! Messed\n",
      "\n",
      "Max sentence length in both train and val data:  2437\n"
     ]
    }
   ],
   "source": [
    "max_len = 0\n",
    "stat = []\n",
    "for sent in tqdm(train_sent):\n",
    "    input_ids   = tokenizer.encode(sent, add_special_tokens=True)\n",
    "#    if(len(input_ids)>96):\n",
    "#      print(sent)\n",
    "    max_len     = max(max_len, len(input_ids))\n",
    "    stat.append(len(input_ids))\n",
    "\n",
    "print('\\nMax sentence length in train data: ', max_len)\n",
    "\n",
    "# for sent in tqdm(val_sent):\n",
    "#     input_ids   = tokenizer.encode(sent, add_special_tokens=True)\n",
    "#  #   if(len(input_ids)>96):\n",
    "#  #     print(sent)\n",
    "#     max_len     = max(max_len, len(input_ids))\n",
    "#     stat.append(len(input_ids))\n",
    "\n",
    "# print('\\nMax sentence length in both train and val data: ', max_len)\n",
    "\n",
    "for index,sent in tqdm(enumerate(test_sent)):\n",
    "   input_ids   = tokenizer.encode(sent, add_special_tokens=True)\n",
    "   if(len(input_ids)>96):\n",
    "     print(index, sent)\n",
    "   max_len     = max(max_len, len(input_ids))\n",
    "   stat.append(len(input_ids))\n",
    "\n",
    "print('\\nMax sentence length in both train and val data: ', max_len)"
   ]
  },
  {
   "cell_type": "markdown",
   "metadata": {
    "id": "gaunFPWIFZzJ"
   },
   "source": [
    "## Tokenize"
   ]
  },
  {
   "cell_type": "markdown",
   "metadata": {
    "id": "jjademTSD0VA"
   },
   "source": [
    "### Train"
   ]
  },
  {
   "cell_type": "code",
   "execution_count": null,
   "metadata": {
    "colab": {
     "base_uri": "https://localhost:8080/",
     "height": 121,
     "referenced_widgets": [
      "887c6bd270ab479da7f9297b0d22c591",
      "3549d7dc3f39469e97696285b4fa497a",
      "ba71f4f54f5a40168f411ecbc0ac1243",
      "50b5949f59ce474c840529bac2860cd1",
      "88684084578e407091e6465578bab3bb",
      "75da276cecbf4888a2f01b4ecb1afa5c",
      "12efee776229484aba2579b3c927d99d",
      "0a95a8e46d7d4ad09c7ac084146fbb50",
      "a251df5b0db14208b3af288b05edc653",
      "7bd4fe81e52e45d0879c0cadfbe4fcb5",
      "d0bfbc0dcaca48159c5748db69d114bf"
     ]
    },
    "id": "2bBdb3pt8LuQ",
    "outputId": "1835547d-7956-48fb-87ee-02f49181bc29"
   },
   "outputs": [
    {
     "data": {
      "application/vnd.jupyter.widget-view+json": {
       "model_id": "887c6bd270ab479da7f9297b0d22c591",
       "version_major": 2,
       "version_minor": 0
      },
      "text/plain": [
       "  0%|          | 0/14175 [00:00<?, ?it/s]"
      ]
     },
     "metadata": {},
     "output_type": "display_data"
    },
    {
     "name": "stderr",
     "output_type": "stream",
     "text": [
      "/usr/local/lib/python3.10/dist-packages/transformers/tokenization_utils_base.py:2364: FutureWarning: The `pad_to_max_length` argument is deprecated and will be removed in a future version, use `padding=True` or `padding='longest'` to pad to the longest sequence in the batch, or use `padding='max_length'` to pad to a max length. In this case, you can give a specific length with `max_length` (e.g. `max_length=45`) or leave max_length to None to pad to the maximal input size of the model (e.g. 512 for Bert).\n",
      "  warnings.warn(\n"
     ]
    },
    {
     "data": {
      "text/plain": [
       "((14175, 32), (14175, 32), (14175,))"
      ]
     },
     "execution_count": 29,
     "metadata": {},
     "output_type": "execute_result"
    }
   ],
   "source": [
    "input_ids       = []\n",
    "attention_masks = []\n",
    "\n",
    "for sent in tqdm(train_sent):\n",
    "    encoded_dict = tokenizer.encode_plus(\n",
    "                        sent,\n",
    "                        add_special_tokens = True,\n",
    "                        max_length = MAX_LENGTH,\n",
    "                        pad_to_max_length = True,\n",
    "                        return_attention_mask = True,\n",
    "                        return_tensors = 'np',\n",
    "                        truncation = True,\n",
    "                   )\n",
    "    input_ids.append(encoded_dict['input_ids'])\n",
    "    attention_masks.append(encoded_dict['attention_mask'])\n",
    "\n",
    "\n",
    "id_train        = np.concatenate(input_ids)\n",
    "mask_train      = np.concatenate(attention_masks)\n",
    "y_train         = train_labels\n",
    "id_train.shape, mask_train.shape, y_train.shape"
   ]
  },
  {
   "cell_type": "markdown",
   "metadata": {
    "id": "uvidOCpCAtQ4"
   },
   "source": [
    "## Create iterator for data"
   ]
  },
  {
   "cell_type": "code",
   "execution_count": null,
   "metadata": {
    "id": "XGUqOCtgqGhP"
   },
   "outputs": [],
   "source": [
    "BATCH_SIZE      = 32\n",
    "\n",
    "X_train         = [\n",
    "    id_train,\n",
    "    mask_train,\n",
    "    img_train\n",
    "]\n"
   ]
  },
  {
   "cell_type": "markdown",
   "metadata": {
    "id": "8bwa6Rts-02-"
   },
   "source": [
    "# Train TFBertForSequenceClassification Model"
   ]
  },
  {
   "cell_type": "code",
   "execution_count": null,
   "metadata": {
    "id": "yvdfkSl1YZto"
   },
   "outputs": [],
   "source": [
    "from tensorflow.keras.applications.regnet import RegNetY032                                  #Change here for different models\n",
    "from tensorflow.keras.applications.regnet import preprocess_input                 #Change here for different models\n",
    "\n",
    "def create_cnn(input_shape):\n",
    "  inputs = Input(shape=input_shape)\n",
    "  x = Lambda(preprocess_input)(inputs)\n",
    "  # load the VGG16 network, ensuring the head FC layer sets are left\n",
    "  # off                                                                           - Change here for different models\n",
    "  baseModel = RegNetY032(weights=\"imagenet\", include_top=True, input_tensor=x)\n",
    "\n",
    "  # construct the head of the model that will be placed on top of the\n",
    "  # the base model\n",
    "  headModel_cnn = baseModel.layers[22].output\n",
    "  headModel_fc  = baseModel.layers[25].output\n",
    "  ###Attention\n",
    "  headModel_cnn = Reshape((-1,headModel_cnn.shape[-1]))(headModel_cnn)\n",
    "\n",
    "  ###Non-attention\n",
    "  # headModel = Flatten()(headModel)\n",
    "  # headModel = Dense(512)(headModel)\n",
    "  # headModel = BatchNormalization()(headModel)\n",
    "  # headModel = Activation(\"relu\")(headModel)\n",
    "  # headModel = Dropout(0.2)(headModel)\n",
    "\n",
    "  # headModel = Dense(512)(headModel)\n",
    "  # headModel = BatchNormalization()(headModel)\n",
    "  # headModel = Activation(\"relu\")(headModel)\n",
    "  # headModel = Dropout(0.2)(headModel)\n",
    "\n",
    "  model = Model(inputs=baseModel.input, outputs=[headModel_cnn, headModel_fc])\n",
    "\n",
    "  # loop over all layers in the base model and freeze them so they will\n",
    "  # *not* be updated during the first training process\n",
    "  for layer in baseModel.layers:\n",
    "    layer.trainable = False\n",
    "\n",
    "  return model\n"
   ]
  },
  {
   "cell_type": "code",
   "execution_count": null,
   "metadata": {
    "id": "KhrTo5SfruVb"
   },
   "outputs": [],
   "source": [
    "def create_model(transformer, max_len=256):\n",
    "    merge = []\n",
    "\n",
    "    input_ids           = Input(shape=(max_len,), dtype=tf.int32, name='input_ids')\n",
    "    attention_mask      = Input(shape=(max_len,), dtype=tf.int32, name='attention_mask')\n",
    "    image               = create_cnn((224,224,3))\n",
    "    sequence_output_1     = transformer(input_ids, attention_mask=attention_mask)[2][-1]\n",
    "    sequence_output_2     = transformer(input_ids, attention_mask=attention_mask)[2][-2]\n",
    "    sequence_output_3     = transformer(input_ids, attention_mask=attention_mask)[2][-3]\n",
    "    sequence_output_4     = transformer(input_ids, attention_mask=attention_mask)[2][-4]\n",
    "    sequence_output       = Concatenate(axis=2)([sequence_output_1, sequence_output_2, sequence_output_3, sequence_output_4])\n",
    "\n",
    "   #cls_token           = sequence_output[:, 0, :]\n",
    "\n",
    "    #merge.append(cls_token)\n",
    "\n",
    "   # Yoon Kim model (https://arxiv.org/abs/1408.5882)\n",
    "    convs = []\n",
    "    filter_sizes = [2,3,4,5]\n",
    "    size_pool = 3\n",
    "    drop_rate = 0.2\n",
    "    final_hid = 32\n",
    "\n",
    "    for filter_size in filter_sizes:\n",
    "        l_conv = Conv1D(filters=768, kernel_size=filter_size)(sequence_output)\n",
    "        l_conv = BatchNormalization()(l_conv)\n",
    "        l_conv = Activation('relu')(l_conv)\n",
    "        # l_pool = MaxPooling1D(pool_size=max_len-filter_size+1)(l_conv)\n",
    "        l_pool = MaxPooling1D(pool_size=size_pool)(l_conv)\n",
    "        convs.append(l_pool)\n",
    "        #merge.append(Flatten()(l_pool))\n",
    "\n",
    "    l2_pool = Concatenate(axis=1)(convs)\n",
    "    # l2_pool = BatchNormalization()(l2_pool)\n",
    "    for _ in range(2):\n",
    "        origin  = l2_pool\n",
    "        l2_conv = Conv1D(filters=768, kernel_size=size_pool,padding='same')(l2_pool)\n",
    "        l2_conv = BatchNormalization()(l2_conv)\n",
    "        l2_conv = Activation('relu')(l2_conv)\n",
    "        #print(origin.shape, l2_conv.shape)\n",
    "        # l2_conv = Add()([Lambda(lambda x: x[0]*x[1])([origin,0.1]), l2_conv])\n",
    "        l2_pool = MaxPooling1D(pool_size=size_pool)(l2_conv)\n",
    "\n",
    "    text = Flatten()(l2_pool)\n",
    "    #append to merge\n",
    "    text_append = Dense(512)(text)\n",
    "    text_append = BatchNormalization()(text_append)\n",
    "    text_append = Activation('relu')(text_append)\n",
    "    text_append = Dropout(drop_rate)(text_append)\n",
    "    text_append = Dense(final_hid)(text_append)\n",
    "    text_append = BatchNormalization()(text_append)\n",
    "    text_append = Activation('relu')(text_append)\n",
    "\n",
    "    # merge.append(text_append)\n",
    "    # text_append = l2_pool\n",
    "\n",
    "    #text for attention\n",
    "    # text = Dropout(0.2)(text)\n",
    "    # text = Dense(128)(text)\n",
    "    # text = BatchNormalization()(text)\n",
    "    # text = Activation(\"tanh\")(text)                  #change to tanh?\n",
    "    # text = Dropout(0.2)(text)\n",
    "    image_append = Dense(2048)(image.output[1])\n",
    "    image_append = BatchNormalization()(image_append)\n",
    "    image_append = Activation('relu')(image_append)\n",
    "    image_append = Dropout(drop_rate)(image_append)\n",
    "    image_append = Dense(final_hid)(image_append)\n",
    "    image_append = BatchNormalization()(image_append)\n",
    "    image_append = Activation('relu')(image_append)\n",
    "\n",
    "    img = Dense(final_hid)(image.output[0])\n",
    "    img = BatchNormalization()(img)\n",
    "    img = Activation('relu')(img)\n",
    "\n",
    "\n",
    "    # image_append = image.output[1]\n",
    "    # merge.append(image_append)\n",
    "    # image_append = image.output[0]\n",
    "\n",
    "    ## Self Attention Mechanism\n",
    "    head = 1\n",
    "    att_layers = 1\n",
    "    att_hid = 32\n",
    "    ##With attention - text on image\n",
    "    inpAttImg_key = img\n",
    "    inpAttImg_query = text_append\n",
    "    for layer in range(1):\n",
    "      att_img = []\n",
    "      concat_key = []\n",
    "      for _ in range(head):\n",
    "        img_key = Dense(att_hid/head, use_bias=False)(inpAttImg_key) #change to tanh?\n",
    "        text_query = Dense(att_hid/head, use_bias=False)(inpAttImg_query)\n",
    "        # img_key = BatchNormalization()(img_key)\n",
    "        # img_key = Activation('tanh')(img_key)\n",
    "        # text_query = BatchNormalization()(text_query)\n",
    "        # text_query = Activation('tanh')(text_query)\n",
    "\n",
    "        img_value = Dense(att_hid/head, use_bias=False)(inpAttImg_key)\n",
    "        # img_value = BatchNormalization()(img_value)\n",
    "        # img_value = Activation('tanh')(img_value)\n",
    "\n",
    "        attention = Dot(axes=(1,2))([text_query, img_key])\n",
    "        attention = Lambda(lambda x: x[0]/x[1])([attention,np.sqrt(att_hid/head)])\n",
    "        attention = Activation(\"softmax\")(attention)\n",
    "        head_att_img = Dot(axes=(1,1))([attention, img_value])\n",
    "        att_img = head_att_img\n",
    "        concat_key = img_key\n",
    "      # att_img = Concatenate(axis=1)(att_img)\n",
    "      # att_img = Dense(512, use_bias=False)(att_img)\n",
    "      # att_img = Dropout(0.3)(att_img)\n",
    "      # att_img = Add()([att_img, inpAttImg_query])\n",
    "      # att_img = LayerNormalization()(att_img)\n",
    "      # att_img2 = Dense(1024,activation='relu')(att_img)\n",
    "      # att_img2 = Dense(512)(att_img)\n",
    "      # att_img2 = Dropout(0.1)(att_img2)\n",
    "      # att_img = Add()([att_img, att_img2])\n",
    "      # att_img = LayerNormalization()(att_img)\n",
    "      att_img2 = Average()([ Activation('relu')(BatchNormalization()(Dense(final_hid)(att_img))),\n",
    "                             Activation('relu')(BatchNormalization()(Dense(final_hid)(att_img))),\n",
    "                             Activation('relu')(BatchNormalization()(Dense(final_hid)(att_img))),\n",
    "                             Activation('relu')(BatchNormalization()(Dense(final_hid)(att_img)))])\n",
    "      att_img2 = Dense(final_hid)(att_img2)\n",
    "      att_img2 = BatchNormalization()(att_img2)\n",
    "      att_img2 = Activation('relu')(att_img2)\n",
    "      att_img2 = Dropout(drop_rate)(att_img2)\n",
    "      att_img = Add()([inpAttImg_query, att_img2])\n",
    "      att_img = LayerNormalization()(att_img)\n",
    "\n",
    "\n",
    "\n",
    "      # concat_key = Concatenate(axis=1)(concat_key)\n",
    "      # concat_key = Dense(512)(concat_key)\n",
    "      # concat_key = Dropout(0.3)(inpAttImg_key)\n",
    "      # concat_key = Add()([concat_key, inpAttImg_key])\n",
    "      # concat_key = LayerNormalization()(concat_key)\n",
    "      # concat_key2 = Dense(1024,activation='relu')(concat_key)\n",
    "      # concat_key2 = Dense(512)(concat_key)\n",
    "      # concat_key2 = Dropout(0.1)(concat_key2)\n",
    "      # concat_key = Add()([concat_key, concat_key2])\n",
    "      # concat_key = LayerNormalization()(concat_key)\n",
    "\n",
    "      inpAttImg_query = att_img\n",
    "      inpAttImg_key = concat_key\n",
    "\n",
    "    # merge.append(att_img)\n",
    "\n",
    "    ##attention image on text\n",
    "    inpAttText_key = l2_pool\n",
    "    inpAttText_query = image_append\n",
    "    for layer in range(1):\n",
    "      att_text = []\n",
    "      concat_key = []\n",
    "      for _ in range(head):\n",
    "        img_query = Dense(att_hid/head, use_bias=False)(inpAttText_query)\n",
    "    #     # # img_query = BatchNormalization()(img_query)\n",
    "    #     # # img_query = Activation('tanh')(img_query)\n",
    "        text_key = Dense(att_hid/head, use_bias=False)(inpAttText_key)\n",
    "    #     # # text_key = BatchNormalization()(text_key)\n",
    "    #     # # text_key = Activation('tanh')(text_key)\n",
    "        text_value = Dense(att_hid/head, use_bias=False)(inpAttText_key)\n",
    "        attention = Dot(axes=(1,2))([img_query, text_key])\n",
    "        attention = Lambda(lambda x: x[0]/x[1])([attention,np.sqrt(att_hid/head)])\n",
    "        attention = Activation(\"softmax\")(attention)\n",
    "        head_att_text = Dot(axes=(1,1))([attention, text_value])\n",
    "        att_text = head_att_text\n",
    "        concat_key = text_key\n",
    "      # att_text = Concatenate(axis=1)(att_text)\n",
    "      # att_text = Dense(512, use_bias=False)(att_text)\n",
    "      # att_text = Dropout(0.3)(att_text)\n",
    "      # att_text = Add()([att_text, inpAttText_query])\n",
    "      # att_text = LayerNormalization()(att_text)\n",
    "      # att_text2 = Dense(1024,activation='relu')(att_text)\n",
    "      # att_text2 = Dense(512)(att_text)\n",
    "      # att_text2 = Dropout(0.1)(att_text2)\n",
    "      # att_text = Add()([att_text, att_text2])\n",
    "      # att_text = LayerNormalization()(att_text)\n",
    "\n",
    "      # concat_key = Concatenate(axis=1)(concat_key)\n",
    "      # concat_key = Dense(512)(concat_key)\n",
    "      # concat_key = Dropout(0.3)(concat_key)\n",
    "      # concat_key = Add()([concat_key, inpAttText_key])\n",
    "      # concat_key = LayerNormalization()(concat_key)\n",
    "      # concat_key2 = Dense(1024,activation='relu')(concat_key)\n",
    "      # concat_key2 = Dense(512)(concat_key)\n",
    "      # concat_key2 = Dropout(0.1)(concat_key2)\n",
    "      # concat_key = Add()([concat_key, concat_key2])\n",
    "      # concat_key = LayerNormalization()(concat_key)\n",
    "      att_text2 = Average()([Activation('relu')(BatchNormalization()(Dense(final_hid)(att_text))),\n",
    "                             Activation('relu')(BatchNormalization()(Dense(final_hid)(att_text))),\n",
    "                             Activation('relu')(BatchNormalization()(Dense(final_hid)(att_text))),\n",
    "                             Activation('relu')(BatchNormalization()(Dense(final_hid)(att_text)))])\n",
    "      att_text2 = Dense(final_hid)(att_text2)\n",
    "      att_text2 = BatchNormalization()(att_text2)\n",
    "      att_text2 = Activation('relu')(att_text2)\n",
    "      att_text2 = Dropout(drop_rate)(att_text2)\n",
    "      att_text = Add()([inpAttText_query, att_text2])\n",
    "      att_text = LayerNormalization()(att_text)\n",
    "\n",
    "      inpAttText_query = att_text\n",
    "      inpAttText_key = concat_key\n",
    "\n",
    "    head = 1\n",
    "    ###Self attention image\n",
    "    inpAttSelf_key = img\n",
    "    inpAttSelf_query = img\n",
    "    for layer in range(att_layers):\n",
    "      self_img = []\n",
    "      for _ in range(head):\n",
    "        self_query = Dense(att_hid/head, use_bias=False)(inpAttSelf_query)\n",
    "        self_key = Dense(att_hid/head, use_bias=False)(inpAttSelf_key)\n",
    "        self_value = Dense(att_hid/head, use_bias=False)(inpAttSelf_key)\n",
    "\n",
    "        attention = Dot(axes=(2,2))([self_query, self_key])\n",
    "        attention = Lambda(lambda x: x[0]/x[1])([attention,np.sqrt(att_hid/head)])\n",
    "        attention = Activation(\"softmax\")(attention)\n",
    "        head_att_self = Dot(axes=(2,1))([attention, self_value])\n",
    "        self_img = head_att_self\n",
    "\n",
    "      # self_img = Concatenate(axis=2)(self_img)\n",
    "      # self_img = Dense(512, use_bias=False)(self_img)\n",
    "      # self_img = Dropout(0.3)(self_img)\n",
    "      # self_img = Add()([self_img, inpAttSelf_query])\n",
    "      # self_img = LayerNormalization()(self_img)\n",
    "      # self_img2 = Dense(1024,activation='relu')(self_img)\n",
    "      # self_img2 = Dense(512)(self_img2)\n",
    "      # self_img2 = Dropout(0.3)(self_img2)\n",
    "      # self_img = Add()([self_img, self_img2])\n",
    "      # self_img = LayerNormalization()(self_img)\n",
    "      self_img2 = Average()([Activation('relu')(BatchNormalization()(Dense(final_hid)(self_img))),\n",
    "                             Activation('relu')(BatchNormalization()(Dense(final_hid)(self_img))),\n",
    "                             Activation('relu')(BatchNormalization()(Dense(final_hid)(self_img))),\n",
    "                             Activation('relu')(BatchNormalization()(Dense(final_hid)(self_img)))])\n",
    "      self_img2 = Dense(final_hid)(self_img2)\n",
    "      self_img2 = BatchNormalization()(self_img2)\n",
    "      self_img2 = Activation('relu')(self_img2)\n",
    "      self_img2 = Dropout(drop_rate)(self_img2)\n",
    "      self_img = Add()([inpAttSelf_query, self_img2])\n",
    "      self_img = LayerNormalization()(self_img)\n",
    "\n",
    "      inpAttSelf_query = self_img\n",
    "      inpAttSelf_key = self_img\n",
    "\n",
    "\n",
    "    # merge.append(att_text)\n",
    "    self_img =  Flatten()(self_img)\n",
    "    # att_img =  Dense(32)(Flatten()(att_img))\n",
    "    # # # att_img = BatchNormalization()(att_img)\n",
    "    # att_img = Activation('relu')(att_img)\n",
    "\n",
    "    # att_text = Flatten()(att_text)\n",
    "    # # # att_text = Concatenate(axis=1)([att_text,self_img])\n",
    "    # att_text = Dense(32)(att_text)\n",
    "    # # # att_text = BatchNormalization()(att_text)\n",
    "    # att_text = Activation('relu')(att_text)\n",
    "\n",
    "    self_img =  Dense(final_hid)(self_img)\n",
    "    self_img = BatchNormalization()(self_img)\n",
    "    self_img = Activation('relu')(self_img)\n",
    "\n",
    "    # self_img =  Dense(32)(self_img)\n",
    "    # # # self_img = BatchNormalization()(self_img)\n",
    "    # self_img = Activation('relu')(self_img)\n",
    "\n",
    "    # text_append =  Dense(512)(Flatten()(text_append))\n",
    "    # text_append = BatchNormalization()(text_append)\n",
    "    # text_append = Activation('relu')(text_append)\n",
    "\n",
    "    # image_append =  Dense(512)(Flatten()(image_append))\n",
    "    # image_append = BatchNormalization()(image_append)\n",
    "    # image_append = Activation('relu')(image_append)\n",
    "\n",
    "    # merge.append(att_img)\n",
    "    # merge.append(att_text)\n",
    "    merge.append(self_img)\n",
    "\n",
    "    # merge.append(Dense(512,activation='relu')(Flatten()(self_img)))\n",
    "    # merge.append(text_append)\n",
    "    merge.append(image_append)\n",
    "    l_merge             = Concatenate(axis=1)(merge)\n",
    "    # l_merge = image_append\n",
    "    l_merge = Dropout(drop_rate)(l_merge)\n",
    "    l_merge = Dense(final_hid)(l_merge)\n",
    "    l_merge = BatchNormalization()(l_merge)\n",
    "    l_merge = Activation('relu')(l_merge)\n",
    "    l_merge = Dropout(drop_rate)(l_merge)\n",
    "    # l_merge             = Average()(merge)\n",
    "    out                 = Dense(N_LABELS, activation='sigmoid')(l_merge)\n",
    "    model               = Model(inputs=[input_ids, attention_mask, image.input],\n",
    "                            outputs=out)\n",
    "    return model"
   ]
  },
  {
   "cell_type": "code",
   "execution_count": null,
   "metadata": {
    "colab": {
     "base_uri": "https://localhost:8080/",
     "height": 1000,
     "referenced_widgets": [
      "74a35109309344df9fff0dab0e1da3eb",
      "efdd58eda5f54cb3ad6b98f7ed290986",
      "32bc848c08584e9bb6a98eef4436c20e",
      "20d8fcba9c974e4cbb7ffd7d1d9203bf",
      "8570da664c1f4bb0bad44d621515cd56",
      "72c3fc14bab8432a99de3658aaf4ff68",
      "5910bd6ce5ec4dbeb07dcb988d136cfa",
      "57519aa649ec4b129a979528e1a041cd",
      "f23c8561b42148e8bf08f7f3046e13c8",
      "775fb24aca1d4fd6864906a7992ce735",
      "2e97fc371d7c43f499bc21334f164d0d"
     ]
    },
    "id": "GLs72DuMODJO",
    "outputId": "1ee64ead-e956-4e69-af29-3cb5d5ed5cde"
   },
   "outputs": [
    {
     "data": {
      "application/vnd.jupyter.widget-view+json": {
       "model_id": "74a35109309344df9fff0dab0e1da3eb",
       "version_major": 2,
       "version_minor": 0
      },
      "text/plain": [
       "Downloading tf_model.h5:   0%|          | 0.00/501M [00:00<?, ?B/s]"
      ]
     },
     "metadata": {},
     "output_type": "display_data"
    },
    {
     "name": "stderr",
     "output_type": "stream",
     "text": [
      "Some layers from the model checkpoint at cardiffnlp/twitter-roberta-base-sentiment were not used when initializing TFRobertaModel: ['classifier']\n",
      "- This IS expected if you are initializing TFRobertaModel from the checkpoint of a model trained on another task or with another architecture (e.g. initializing a BertForSequenceClassification model from a BertForPreTraining model).\n",
      "- This IS NOT expected if you are initializing TFRobertaModel from the checkpoint of a model that you expect to be exactly identical (initializing a BertForSequenceClassification model from a BertForSequenceClassification model).\n",
      "All the layers of TFRobertaModel were initialized from the model checkpoint at cardiffnlp/twitter-roberta-base-sentiment.\n",
      "If your task is similar to the task the model of the checkpoint was trained on, you can already use TFRobertaModel for predictions without further training.\n"
     ]
    },
    {
     "name": "stdout",
     "output_type": "stream",
     "text": [
      "Downloading data from https://storage.googleapis.com/tensorflow/keras-applications/vgg19/vgg19_weights_tf_dim_ordering_tf_kernels.h5\n",
      "574710816/574710816 [==============================] - 5s 0us/step\n",
      "Model: \"model_1\"\n",
      "__________________________________________________________________________________________________\n",
      " Layer (type)                   Output Shape         Param #     Connected to                     \n",
      "==================================================================================================\n",
      " input_1 (InputLayer)           [(None, 224, 224, 3  0           []                               \n",
      "                                )]                                                                \n",
      "                                                                                                  \n",
      " lambda (Lambda)                (None, 224, 224, 3)  0           ['input_1[0][0]']                \n",
      "                                                                                                  \n",
      " block1_conv1 (Conv2D)          (None, 224, 224, 64  1792        ['lambda[0][0]']                 \n",
      "                                )                                                                 \n",
      "                                                                                                  \n",
      " block1_conv2 (Conv2D)          (None, 224, 224, 64  36928       ['block1_conv1[0][0]']           \n",
      "                                )                                                                 \n",
      "                                                                                                  \n",
      " block1_pool (MaxPooling2D)     (None, 112, 112, 64  0           ['block1_conv2[0][0]']           \n",
      "                                )                                                                 \n",
      "                                                                                                  \n",
      " block2_conv1 (Conv2D)          (None, 112, 112, 12  73856       ['block1_pool[0][0]']            \n",
      "                                8)                                                                \n",
      "                                                                                                  \n",
      " block2_conv2 (Conv2D)          (None, 112, 112, 12  147584      ['block2_conv1[0][0]']           \n",
      "                                8)                                                                \n",
      "                                                                                                  \n",
      " block2_pool (MaxPooling2D)     (None, 56, 56, 128)  0           ['block2_conv2[0][0]']           \n",
      "                                                                                                  \n",
      " block3_conv1 (Conv2D)          (None, 56, 56, 256)  295168      ['block2_pool[0][0]']            \n",
      "                                                                                                  \n",
      " block3_conv2 (Conv2D)          (None, 56, 56, 256)  590080      ['block3_conv1[0][0]']           \n",
      "                                                                                                  \n",
      " block3_conv3 (Conv2D)          (None, 56, 56, 256)  590080      ['block3_conv2[0][0]']           \n",
      "                                                                                                  \n",
      " block3_conv4 (Conv2D)          (None, 56, 56, 256)  590080      ['block3_conv3[0][0]']           \n",
      "                                                                                                  \n",
      " block3_pool (MaxPooling2D)     (None, 28, 28, 256)  0           ['block3_conv4[0][0]']           \n",
      "                                                                                                  \n",
      " block4_conv1 (Conv2D)          (None, 28, 28, 512)  1180160     ['block3_pool[0][0]']            \n",
      "                                                                                                  \n",
      " block4_conv2 (Conv2D)          (None, 28, 28, 512)  2359808     ['block4_conv1[0][0]']           \n",
      "                                                                                                  \n",
      " block4_conv3 (Conv2D)          (None, 28, 28, 512)  2359808     ['block4_conv2[0][0]']           \n",
      "                                                                                                  \n",
      " block4_conv4 (Conv2D)          (None, 28, 28, 512)  2359808     ['block4_conv3[0][0]']           \n",
      "                                                                                                  \n",
      " block4_pool (MaxPooling2D)     (None, 14, 14, 512)  0           ['block4_conv4[0][0]']           \n",
      "                                                                                                  \n",
      " block5_conv1 (Conv2D)          (None, 14, 14, 512)  2359808     ['block4_pool[0][0]']            \n",
      "                                                                                                  \n",
      " block5_conv2 (Conv2D)          (None, 14, 14, 512)  2359808     ['block5_conv1[0][0]']           \n",
      "                                                                                                  \n",
      " block5_conv3 (Conv2D)          (None, 14, 14, 512)  2359808     ['block5_conv2[0][0]']           \n",
      "                                                                                                  \n",
      " block5_conv4 (Conv2D)          (None, 14, 14, 512)  2359808     ['block5_conv3[0][0]']           \n",
      "                                                                                                  \n",
      " block5_pool (MaxPooling2D)     (None, 7, 7, 512)    0           ['block5_conv4[0][0]']           \n",
      "                                                                                                  \n",
      " reshape (Reshape)              (None, 49, 512)      0           ['block5_pool[0][0]']            \n",
      "                                                                                                  \n",
      " dense_4 (Dense)                (None, 49, 32)       16416       ['reshape[0][0]']                \n",
      "                                                                                                  \n",
      " batch_normalization_10 (BatchN  (None, 49, 32)      128         ['dense_4[0][0]']                \n",
      " ormalization)                                                                                    \n",
      "                                                                                                  \n",
      " activation_10 (Activation)     (None, 49, 32)       0           ['batch_normalization_10[0][0]'] \n",
      "                                                                                                  \n",
      " dense_21 (Dense)               (None, 49, 32)       1024        ['activation_10[0][0]']          \n",
      "                                                                                                  \n",
      " dense_22 (Dense)               (None, 49, 32)       1024        ['activation_10[0][0]']          \n",
      "                                                                                                  \n",
      " dot_4 (Dot)                    (None, 49, 49)       0           ['dense_21[0][0]',               \n",
      "                                                                  'dense_22[0][0]']               \n",
      "                                                                                                  \n",
      " lambda_3 (Lambda)              (None, 49, 49)       0           ['dot_4[0][0]']                  \n",
      "                                                                                                  \n",
      " activation_23 (Activation)     (None, 49, 49)       0           ['lambda_3[0][0]']               \n",
      "                                                                                                  \n",
      " dense_23 (Dense)               (None, 49, 32)       1024        ['activation_10[0][0]']          \n",
      "                                                                                                  \n",
      " dot_5 (Dot)                    (None, 49, 32)       0           ['activation_23[0][0]',          \n",
      "                                                                  'dense_23[0][0]']               \n",
      "                                                                                                  \n",
      " dense_24 (Dense)               (None, 49, 32)       1056        ['dot_5[0][0]']                  \n",
      "                                                                                                  \n",
      " dense_25 (Dense)               (None, 49, 32)       1056        ['dot_5[0][0]']                  \n",
      "                                                                                                  \n",
      " dense_26 (Dense)               (None, 49, 32)       1056        ['dot_5[0][0]']                  \n",
      "                                                                                                  \n",
      " dense_27 (Dense)               (None, 49, 32)       1056        ['dot_5[0][0]']                  \n",
      "                                                                                                  \n",
      " batch_normalization_21 (BatchN  (None, 49, 32)      128         ['dense_24[0][0]']               \n",
      " ormalization)                                                                                    \n",
      "                                                                                                  \n",
      " batch_normalization_22 (BatchN  (None, 49, 32)      128         ['dense_25[0][0]']               \n",
      " ormalization)                                                                                    \n",
      "                                                                                                  \n",
      " batch_normalization_23 (BatchN  (None, 49, 32)      128         ['dense_26[0][0]']               \n",
      " ormalization)                                                                                    \n",
      "                                                                                                  \n",
      " batch_normalization_24 (BatchN  (None, 49, 32)      128         ['dense_27[0][0]']               \n",
      " ormalization)                                                                                    \n",
      "                                                                                                  \n",
      " activation_24 (Activation)     (None, 49, 32)       0           ['batch_normalization_21[0][0]'] \n",
      "                                                                                                  \n",
      " activation_25 (Activation)     (None, 49, 32)       0           ['batch_normalization_22[0][0]'] \n",
      "                                                                                                  \n",
      " activation_26 (Activation)     (None, 49, 32)       0           ['batch_normalization_23[0][0]'] \n",
      "                                                                                                  \n",
      " activation_27 (Activation)     (None, 49, 32)       0           ['batch_normalization_24[0][0]'] \n",
      "                                                                                                  \n",
      " average_2 (Average)            (None, 49, 32)       0           ['activation_24[0][0]',          \n",
      "                                                                  'activation_25[0][0]',          \n",
      "                                                                  'activation_26[0][0]',          \n",
      "                                                                  'activation_27[0][0]']          \n",
      "                                                                                                  \n",
      " dense_28 (Dense)               (None, 49, 32)       1056        ['average_2[0][0]']              \n",
      "                                                                                                  \n",
      " flatten (Flatten)              (None, 25088)        0           ['block5_pool[0][0]']            \n",
      "                                                                                                  \n",
      " batch_normalization_25 (BatchN  (None, 49, 32)      128         ['dense_28[0][0]']               \n",
      " ormalization)                                                                                    \n",
      "                                                                                                  \n",
      " fc1 (Dense)                    (None, 4096)         102764544   ['flatten[0][0]']                \n",
      "                                                                                                  \n",
      " activation_28 (Activation)     (None, 49, 32)       0           ['batch_normalization_25[0][0]'] \n",
      "                                                                                                  \n",
      " fc2 (Dense)                    (None, 4096)         16781312    ['fc1[0][0]']                    \n",
      "                                                                                                  \n",
      " dropout_41 (Dropout)           (None, 49, 32)       0           ['activation_28[0][0]']          \n",
      "                                                                                                  \n",
      " dense_2 (Dense)                (None, 2048)         8390656     ['fc2[0][0]']                    \n",
      "                                                                                                  \n",
      " add_2 (Add)                    (None, 49, 32)       0           ['activation_10[0][0]',          \n",
      "                                                                  'dropout_41[0][0]']             \n",
      "                                                                                                  \n",
      " batch_normalization_8 (BatchNo  (None, 2048)        8192        ['dense_2[0][0]']                \n",
      " rmalization)                                                                                     \n",
      "                                                                                                  \n",
      " layer_normalization_2 (LayerNo  (None, 49, 32)      64          ['add_2[0][0]']                  \n",
      " rmalization)                                                                                     \n",
      "                                                                                                  \n",
      " activation_8 (Activation)      (None, 2048)         0           ['batch_normalization_8[0][0]']  \n",
      "                                                                                                  \n",
      " flatten_1 (Flatten)            (None, 1568)         0           ['layer_normalization_2[0][0]']  \n",
      "                                                                                                  \n",
      " dropout_38 (Dropout)           (None, 2048)         0           ['activation_8[0][0]']           \n",
      "                                                                                                  \n",
      " dense_29 (Dense)               (None, 32)           50208       ['flatten_1[0][0]']              \n",
      "                                                                                                  \n",
      " dense_3 (Dense)                (None, 32)           65568       ['dropout_38[0][0]']             \n",
      "                                                                                                  \n",
      " batch_normalization_26 (BatchN  (None, 32)          128         ['dense_29[0][0]']               \n",
      " ormalization)                                                                                    \n",
      "                                                                                                  \n",
      " batch_normalization_9 (BatchNo  (None, 32)          128         ['dense_3[0][0]']                \n",
      " rmalization)                                                                                     \n",
      "                                                                                                  \n",
      " activation_29 (Activation)     (None, 32)           0           ['batch_normalization_26[0][0]'] \n",
      "                                                                                                  \n",
      " activation_9 (Activation)      (None, 32)           0           ['batch_normalization_9[0][0]']  \n",
      "                                                                                                  \n",
      " concatenate_2 (Concatenate)    (None, 64)           0           ['activation_29[0][0]',          \n",
      "                                                                  'activation_9[0][0]']           \n",
      "                                                                                                  \n",
      " dropout_42 (Dropout)           (None, 64)           0           ['concatenate_2[0][0]']          \n",
      "                                                                                                  \n",
      " dense_30 (Dense)               (None, 32)           2080        ['dropout_42[0][0]']             \n",
      "                                                                                                  \n",
      " batch_normalization_27 (BatchN  (None, 32)          128         ['dense_30[0][0]']               \n",
      " ormalization)                                                                                    \n",
      "                                                                                                  \n",
      " activation_30 (Activation)     (None, 32)           0           ['batch_normalization_27[0][0]'] \n",
      "                                                                                                  \n",
      " dropout_43 (Dropout)           (None, 32)           0           ['activation_30[0][0]']          \n",
      "                                                                                                  \n",
      " input_ids (InputLayer)         [(None, 32)]         0           []                               \n",
      "                                                                                                  \n",
      " attention_mask (InputLayer)    [(None, 32)]         0           []                               \n",
      "                                                                                                  \n",
      " dense_31 (Dense)               (None, 1)            33          ['dropout_43[0][0]']             \n",
      "                                                                                                  \n",
      "==================================================================================================\n",
      "Total params: 148,112,961\n",
      "Trainable params: 8,538,049\n",
      "Non-trainable params: 139,574,912\n",
      "__________________________________________________________________________________________________\n",
      "CPU times: user 17.7 s, sys: 2.87 s, total: 20.6 s\n",
      "Wall time: 30.5 s\n"
     ]
    }
   ],
   "source": [
    "%%time\n",
    "EPOCHS          = 15\n",
    "total_steps     = len(y_train) * BATCH_SIZE\n",
    "train_data_size = len(y_train)\n",
    "steps_per_epoch = int(train_data_size / BATCH_SIZE) + 1\n",
    "num_train_steps = steps_per_epoch * EPOCHS\n",
    "warmup_steps    = int(steps_per_epoch * 1)\n",
    "#warmup_steps    = 0\n",
    "\n",
    "# Create the learning rate scheduler.\n",
    "decay_schedule = tf.keras.optimizers.schedules.PolynomialDecay(\n",
    "      initial_learning_rate=1e-4,\n",
    "      decay_steps=num_train_steps,\n",
    "      end_learning_rate=0)\n",
    "\n",
    "warmup_schedule = nlp.optimization.WarmUp(\n",
    "        initial_learning_rate=7e-5,\n",
    "        decay_schedule_fn=decay_schedule,\n",
    "        warmup_steps=warmup_steps)\n",
    "\n",
    "optimizer       = nlp.optimization.AdamWeightDecay(\n",
    "        learning_rate=warmup_schedule,\n",
    "        epsilon=1e-8,\n",
    "        exclude_from_weight_decay=['LayerNorm', 'layer_norm', 'bias'])\n",
    "\n",
    "#Load bert4news\n",
    "# config = AutoConfig.from_pretrained('/content/drive/MyDrive/bert4news/config.json')\n",
    "# transformer = TFAutoModel.from_pretrained('/content/drive/MyDrive/bert4news/pytorch_model.bin', from_pt=True, config=config)\n",
    "\n",
    "transformer = TFAutoModel.from_pretrained(MODEL,output_attentions=False,output_hidden_states=True,return_dict =True)\n",
    "transformer.trainable = False\n",
    "model = create_model(transformer, max_len=MAX_LENGTH)\n",
    "model.compile(optimizer=tf.keras.optimizers.Adam(learning_rate=1e-5),\n",
    "                loss='binary_crossentropy',\n",
    "                metrics='accuracy')\n",
    "\n",
    "model.summary()"
   ]
  },
  {
   "cell_type": "markdown",
   "metadata": {
    "id": "LM5WbtoiUAz2"
   },
   "source": [
    "## Train model"
   ]
  },
  {
   "cell_type": "code",
   "execution_count": null,
   "metadata": {
    "id": "Q_CEl-sY4Trd"
   },
   "outputs": [],
   "source": [
    "from keras.utils import np_utils\n",
    "from keras.callbacks import Callback, EarlyStopping\n",
    "from sklearn.metrics import f1_score\n",
    "from sklearn.datasets import make_classification\n",
    "\n",
    "class roc_auc_callback(Callback):\n",
    "    def __init__(self,training_data):#,validation_data):\n",
    "        self.x = training_data[0]\n",
    "        self.y = training_data[1]\n",
    "        #self.x_val = validation_data[0]\n",
    "        #self.y_val = validation_data[1]\n",
    "\n",
    "\n",
    "    def on_train_begin(self, logs={}):\n",
    "        return\n",
    "\n",
    "    def on_train_end(self, logs={}):\n",
    "        return\n",
    "\n",
    "    def on_epoch_begin(self, epoch, logs={}):\n",
    "        return\n",
    "\n",
    "\n",
    "    def on_batch_begin(self, batch, logs={}):\n",
    "        return\n",
    "\n",
    "    def on_batch_end(self, batch, logs={}):\n",
    "        return"
   ]
  },
  {
   "cell_type": "code",
   "execution_count": null,
   "metadata": {
    "colab": {
     "base_uri": "https://localhost:8080/"
    },
    "id": "Ktez2KF-UCVT",
    "outputId": "469546ed-968d-4e60-ba22-13bc9a4e22a2"
   },
   "outputs": [
    {
     "name": "stdout",
     "output_type": "stream",
     "text": [
      "Epoch 1/15\n",
      "443/443 [==============================] - ETA: 0s - loss: 0.5944 - accuracy: 0.7043"
     ]
    },
    {
     "name": "stderr",
     "output_type": "stream",
     "text": [
      "WARNING:tensorflow:Early stopping conditioned on metric `val_loss` which is not available. Available metrics are: loss,accuracy\n"
     ]
    },
    {
     "name": "stdout",
     "output_type": "stream",
     "text": [
      "\b\b\b\b\b\b\b\b\b\b\b\b\b\b\b\b\b\b\b\b\b\b\b\b\b\b\b\b\b\b\b\b\b\b\b\b\b\b\b\b\b\b\b\b\b\b\b\b\b\b\b\b\b\b\b\b\b\b\b\b\b\b\b\b\b\b\b\b\b\b\b\b\b\b\b\b\b\b\b\b\b\b\b\b\r",
      "443/443 [==============================] - 108s 198ms/step - loss: 0.5944 - accuracy: 0.7043\n",
      "Epoch 2/15\n",
      "443/443 [==============================] - ETA: 0s - loss: 0.5404 - accuracy: 0.7256"
     ]
    },
    {
     "name": "stderr",
     "output_type": "stream",
     "text": [
      "WARNING:tensorflow:Early stopping conditioned on metric `val_loss` which is not available. Available metrics are: loss,accuracy\n"
     ]
    },
    {
     "name": "stdout",
     "output_type": "stream",
     "text": [
      "\b\b\b\b\b\b\b\b\b\b\b\b\b\b\b\b\b\b\b\b\b\b\b\b\b\b\b\b\b\b\b\b\b\b\b\b\b\b\b\b\b\b\b\b\b\b\b\b\b\b\b\b\b\b\b\b\b\b\b\b\b\b\b\b\b\b\b\b\b\b\b\b\b\b\b\b\b\b\b\b\b\b\b\b\r",
      "443/443 [==============================] - 83s 187ms/step - loss: 0.5404 - accuracy: 0.7256\n",
      "Epoch 3/15\n",
      "443/443 [==============================] - ETA: 0s - loss: 0.4966 - accuracy: 0.7551"
     ]
    },
    {
     "name": "stderr",
     "output_type": "stream",
     "text": [
      "WARNING:tensorflow:Early stopping conditioned on metric `val_loss` which is not available. Available metrics are: loss,accuracy\n"
     ]
    },
    {
     "name": "stdout",
     "output_type": "stream",
     "text": [
      "\b\b\b\b\b\b\b\b\b\b\b\b\b\b\b\b\b\b\b\b\b\b\b\b\b\b\b\b\b\b\b\b\b\b\b\b\b\b\b\b\b\b\b\b\b\b\b\b\b\b\b\b\b\b\b\b\b\b\b\b\b\b\b\b\b\b\b\b\b\b\b\b\b\b\b\b\b\b\b\b\b\b\b\b\r",
      "443/443 [==============================] - 83s 186ms/step - loss: 0.4966 - accuracy: 0.7551\n",
      "Epoch 4/15\n",
      "443/443 [==============================] - ETA: 0s - loss: 0.4488 - accuracy: 0.7856"
     ]
    },
    {
     "name": "stderr",
     "output_type": "stream",
     "text": [
      "WARNING:tensorflow:Early stopping conditioned on metric `val_loss` which is not available. Available metrics are: loss,accuracy\n"
     ]
    },
    {
     "name": "stdout",
     "output_type": "stream",
     "text": [
      "\b\b\b\b\b\b\b\b\b\b\b\b\b\b\b\b\b\b\b\b\b\b\b\b\b\b\b\b\b\b\b\b\b\b\b\b\b\b\b\b\b\b\b\b\b\b\b\b\b\b\b\b\b\b\b\b\b\b\b\b\b\b\b\b\b\b\b\b\b\b\b\b\b\b\b\b\b\b\b\b\b\b\b\b\r",
      "443/443 [==============================] - 82s 186ms/step - loss: 0.4488 - accuracy: 0.7856\n",
      "Epoch 5/15\n",
      "443/443 [==============================] - ETA: 0s - loss: 0.4062 - accuracy: 0.8205"
     ]
    },
    {
     "name": "stderr",
     "output_type": "stream",
     "text": [
      "WARNING:tensorflow:Early stopping conditioned on metric `val_loss` which is not available. Available metrics are: loss,accuracy\n"
     ]
    },
    {
     "name": "stdout",
     "output_type": "stream",
     "text": [
      "\b\b\b\b\b\b\b\b\b\b\b\b\b\b\b\b\b\b\b\b\b\b\b\b\b\b\b\b\b\b\b\b\b\b\b\b\b\b\b\b\b\b\b\b\b\b\b\b\b\b\b\b\b\b\b\b\b\b\b\b\b\b\b\b\b\b\b\b\b\b\b\b\b\b\b\b\b\b\b\b\b\b\b\b\r",
      "443/443 [==============================] - 82s 185ms/step - loss: 0.4062 - accuracy: 0.8205\n",
      "Epoch 6/15\n",
      "443/443 [==============================] - ETA: 0s - loss: 0.3554 - accuracy: 0.8564"
     ]
    },
    {
     "name": "stderr",
     "output_type": "stream",
     "text": [
      "WARNING:tensorflow:Early stopping conditioned on metric `val_loss` which is not available. Available metrics are: loss,accuracy\n"
     ]
    },
    {
     "name": "stdout",
     "output_type": "stream",
     "text": [
      "\b\b\b\b\b\b\b\b\b\b\b\b\b\b\b\b\b\b\b\b\b\b\b\b\b\b\b\b\b\b\b\b\b\b\b\b\b\b\b\b\b\b\b\b\b\b\b\b\b\b\b\b\b\b\b\b\b\b\b\b\b\b\b\b\b\b\b\b\b\b\b\b\b\b\b\b\b\b\b\b\b\b\b\b\r",
      "443/443 [==============================] - 82s 186ms/step - loss: 0.3554 - accuracy: 0.8564\n",
      "Epoch 7/15\n",
      "443/443 [==============================] - ETA: 0s - loss: 0.3127 - accuracy: 0.8892"
     ]
    },
    {
     "name": "stderr",
     "output_type": "stream",
     "text": [
      "WARNING:tensorflow:Early stopping conditioned on metric `val_loss` which is not available. Available metrics are: loss,accuracy\n"
     ]
    },
    {
     "name": "stdout",
     "output_type": "stream",
     "text": [
      "\b\b\b\b\b\b\b\b\b\b\b\b\b\b\b\b\b\b\b\b\b\b\b\b\b\b\b\b\b\b\b\b\b\b\b\b\b\b\b\b\b\b\b\b\b\b\b\b\b\b\b\b\b\b\b\b\b\b\b\b\b\b\b\b\b\b\b\b\b\b\b\b\b\b\b\b\b\b\b\b\b\b\b\b\r",
      "443/443 [==============================] - 83s 186ms/step - loss: 0.3127 - accuracy: 0.8892\n",
      "Epoch 8/15\n",
      "443/443 [==============================] - ETA: 0s - loss: 0.2679 - accuracy: 0.9138"
     ]
    },
    {
     "name": "stderr",
     "output_type": "stream",
     "text": [
      "WARNING:tensorflow:Early stopping conditioned on metric `val_loss` which is not available. Available metrics are: loss,accuracy\n"
     ]
    },
    {
     "name": "stdout",
     "output_type": "stream",
     "text": [
      "\b\b\b\b\b\b\b\b\b\b\b\b\b\b\b\b\b\b\b\b\b\b\b\b\b\b\b\b\b\b\b\b\b\b\b\b\b\b\b\b\b\b\b\b\b\b\b\b\b\b\b\b\b\b\b\b\b\b\b\b\b\b\b\b\b\b\b\b\b\b\b\b\b\b\b\b\b\b\b\b\b\b\b\b\r",
      "443/443 [==============================] - 83s 186ms/step - loss: 0.2679 - accuracy: 0.9138\n",
      "Epoch 9/15\n",
      "443/443 [==============================] - ETA: 0s - loss: 0.2328 - accuracy: 0.9302"
     ]
    },
    {
     "name": "stderr",
     "output_type": "stream",
     "text": [
      "WARNING:tensorflow:Early stopping conditioned on metric `val_loss` which is not available. Available metrics are: loss,accuracy\n"
     ]
    },
    {
     "name": "stdout",
     "output_type": "stream",
     "text": [
      "\b\b\b\b\b\b\b\b\b\b\b\b\b\b\b\b\b\b\b\b\b\b\b\b\b\b\b\b\b\b\b\b\b\b\b\b\b\b\b\b\b\b\b\b\b\b\b\b\b\b\b\b\b\b\b\b\b\b\b\b\b\b\b\b\b\b\b\b\b\b\b\b\b\b\b\b\b\b\b\b\b\b\b\b\r",
      "443/443 [==============================] - 82s 186ms/step - loss: 0.2328 - accuracy: 0.9302\n",
      "Epoch 10/15\n",
      "443/443 [==============================] - ETA: 0s - loss: 0.2018 - accuracy: 0.9436"
     ]
    },
    {
     "name": "stderr",
     "output_type": "stream",
     "text": [
      "WARNING:tensorflow:Early stopping conditioned on metric `val_loss` which is not available. Available metrics are: loss,accuracy\n"
     ]
    },
    {
     "name": "stdout",
     "output_type": "stream",
     "text": [
      "\b\b\b\b\b\b\b\b\b\b\b\b\b\b\b\b\b\b\b\b\b\b\b\b\b\b\b\b\b\b\b\b\b\b\b\b\b\b\b\b\b\b\b\b\b\b\b\b\b\b\b\b\b\b\b\b\b\b\b\b\b\b\b\b\b\b\b\b\b\b\b\b\b\b\b\b\b\b\b\b\b\b\b\b\r",
      "443/443 [==============================] - 85s 191ms/step - loss: 0.2018 - accuracy: 0.9436\n",
      "Epoch 11/15\n",
      "443/443 [==============================] - ETA: 0s - loss: 0.1742 - accuracy: 0.9547"
     ]
    },
    {
     "name": "stderr",
     "output_type": "stream",
     "text": [
      "WARNING:tensorflow:Early stopping conditioned on metric `val_loss` which is not available. Available metrics are: loss,accuracy\n"
     ]
    },
    {
     "name": "stdout",
     "output_type": "stream",
     "text": [
      "\b\b\b\b\b\b\b\b\b\b\b\b\b\b\b\b\b\b\b\b\b\b\b\b\b\b\b\b\b\b\b\b\b\b\b\b\b\b\b\b\b\b\b\b\b\b\b\b\b\b\b\b\b\b\b\b\b\b\b\b\b\b\b\b\b\b\b\b\b\b\b\b\b\b\b\b\b\b\b\b\b\b\b\b\r",
      "443/443 [==============================] - 83s 187ms/step - loss: 0.1742 - accuracy: 0.9547\n",
      "Epoch 12/15\n",
      "443/443 [==============================] - ETA: 0s - loss: 0.1624 - accuracy: 0.9575"
     ]
    },
    {
     "name": "stderr",
     "output_type": "stream",
     "text": [
      "WARNING:tensorflow:Early stopping conditioned on metric `val_loss` which is not available. Available metrics are: loss,accuracy\n"
     ]
    },
    {
     "name": "stdout",
     "output_type": "stream",
     "text": [
      "\b\b\b\b\b\b\b\b\b\b\b\b\b\b\b\b\b\b\b\b\b\b\b\b\b\b\b\b\b\b\b\b\b\b\b\b\b\b\b\b\b\b\b\b\b\b\b\b\b\b\b\b\b\b\b\b\b\b\b\b\b\b\b\b\b\b\b\b\b\b\b\b\b\b\b\b\b\b\b\b\b\b\b\b\r",
      "443/443 [==============================] - 83s 186ms/step - loss: 0.1624 - accuracy: 0.9575\n",
      "Epoch 13/15\n",
      "443/443 [==============================] - ETA: 0s - loss: 0.1459 - accuracy: 0.9619"
     ]
    },
    {
     "name": "stderr",
     "output_type": "stream",
     "text": [
      "WARNING:tensorflow:Early stopping conditioned on metric `val_loss` which is not available. Available metrics are: loss,accuracy\n"
     ]
    },
    {
     "name": "stdout",
     "output_type": "stream",
     "text": [
      "\b\b\b\b\b\b\b\b\b\b\b\b\b\b\b\b\b\b\b\b\b\b\b\b\b\b\b\b\b\b\b\b\b\b\b\b\b\b\b\b\b\b\b\b\b\b\b\b\b\b\b\b\b\b\b\b\b\b\b\b\b\b\b\b\b\b\b\b\b\b\b\b\b\b\b\b\b\b\b\b\b\b\b\b\r",
      "443/443 [==============================] - 82s 185ms/step - loss: 0.1459 - accuracy: 0.9619\n",
      "Epoch 14/15\n",
      "443/443 [==============================] - ETA: 0s - loss: 0.1393 - accuracy: 0.9620"
     ]
    },
    {
     "name": "stderr",
     "output_type": "stream",
     "text": [
      "WARNING:tensorflow:Early stopping conditioned on metric `val_loss` which is not available. Available metrics are: loss,accuracy\n"
     ]
    },
    {
     "name": "stdout",
     "output_type": "stream",
     "text": [
      "\b\b\b\b\b\b\b\b\b\b\b\b\b\b\b\b\b\b\b\b\b\b\b\b\b\b\b\b\b\b\b\b\b\b\b\b\b\b\b\b\b\b\b\b\b\b\b\b\b\b\b\b\b\b\b\b\b\b\b\b\b\b\b\b\b\b\b\b\b\b\b\b\b\b\b\b\b\b\b\b\b\b\b\b\r",
      "443/443 [==============================] - 83s 187ms/step - loss: 0.1393 - accuracy: 0.9620\n",
      "Epoch 15/15\n",
      "443/443 [==============================] - ETA: 0s - loss: 0.1279 - accuracy: 0.9653"
     ]
    },
    {
     "name": "stderr",
     "output_type": "stream",
     "text": [
      "WARNING:tensorflow:Early stopping conditioned on metric `val_loss` which is not available. Available metrics are: loss,accuracy\n"
     ]
    },
    {
     "name": "stdout",
     "output_type": "stream",
     "text": [
      "\b\b\b\b\b\b\b\b\b\b\b\b\b\b\b\b\b\b\b\b\b\b\b\b\b\b\b\b\b\b\b\b\b\b\b\b\b\b\b\b\b\b\b\b\b\b\b\b\b\b\b\b\b\b\b\b\b\b\b\b\b\b\b\b\b\b\b\b\b\b\b\b\b\b\b\b\b\b\b\b\b\b\b\b\r",
      "443/443 [==============================] - 83s 188ms/step - loss: 0.1279 - accuracy: 0.9653\n"
     ]
    }
   ],
   "source": [
    "n_steps = int(np.ceil(y_train.shape[0] / BATCH_SIZE))\n",
    "\n",
    "# Checkpoint path\n",
    "ckpt_path     = f'/content/drive/My Drive/mediaeval2016/checkpoint-test/{MODEL_NAME}/'\n",
    "if not os.path.exists(ckpt_path):\n",
    "    os.makedirs(ckpt_path)\n",
    "ckpt_path     += 'cp-{epoch:02d}.h5'\n",
    "\n",
    "# Callback\n",
    "my_callbacks  = [tf.keras.callbacks.ModelCheckpoint(filepath=ckpt_path,\n",
    "                                                    #monitor='val_loss',\n",
    "                                                    save_weights_only=True,\n",
    "                                                    save_freq='epoch'),\n",
    "                 tf.keras.callbacks.EarlyStopping(monitor='val_loss', patience=10, verbose=1),\n",
    "                 roc_auc_callback(training_data=(X_train, y_train))]#,validation_data=(X_test_data, test_labels))]\n",
    "\n",
    "H = model.fit(\n",
    "    X_train, y_train,\n",
    "    #validation_data=(X_val, y_val),\n",
    "    batch_size=BATCH_SIZE,\n",
    "    epochs=EPOCHS,\n",
    "    #steps_per_epoch=n_steps,\n",
    "    # class_weight=class_weights,\n",
    "    shuffle=False,\n",
    "    callbacks=my_callbacks\n",
    ")"
   ]
  },
  {
   "cell_type": "markdown",
   "metadata": {
    "id": "q2079Qyn8Mt8"
   },
   "source": [
    "# Saving Fine-Tuned Model"
   ]
  },
  {
   "cell_type": "code",
   "execution_count": null,
   "metadata": {
    "id": "T9HguCcq_Gap"
   },
   "outputs": [],
   "source": [
    "model.save_weights(os.path.join(base_dir, f'{MODEL_NAME}.h5'))"
   ]
  },
  {
   "cell_type": "code",
   "execution_count": null,
   "metadata": {
    "id": "gf4FcvzddoYI"
   },
   "outputs": [],
   "source": [
    "EPOCHS = 15"
   ]
  },
  {
   "cell_type": "code",
   "execution_count": null,
   "metadata": {
    "colab": {
     "base_uri": "https://localhost:8080/"
    },
    "id": "8m2qXpjMwmPH",
    "outputId": "3e5b58f6-8ae2-4919-eed9-437069abf2fb"
   },
   "outputs": [
    {
     "name": "stderr",
     "output_type": "stream",
     "text": [
      "Some layers from the model checkpoint at cardiffnlp/twitter-roberta-base-sentiment were not used when initializing TFRobertaModel: ['classifier']\n",
      "- This IS expected if you are initializing TFRobertaModel from the checkpoint of a model trained on another task or with another architecture (e.g. initializing a BertForSequenceClassification model from a BertForPreTraining model).\n",
      "- This IS NOT expected if you are initializing TFRobertaModel from the checkpoint of a model that you expect to be exactly identical (initializing a BertForSequenceClassification model from a BertForSequenceClassification model).\n",
      "All the layers of TFRobertaModel were initialized from the model checkpoint at cardiffnlp/twitter-roberta-base-sentiment.\n",
      "If your task is similar to the task the model of the checkpoint was trained on, you can already use TFRobertaModel for predictions without further training.\n"
     ]
    },
    {
     "name": "stdout",
     "output_type": "stream",
     "text": [
      "Model: \"model_3\"\n",
      "__________________________________________________________________________________________________\n",
      " Layer (type)                   Output Shape         Param #     Connected to                     \n",
      "==================================================================================================\n",
      " input_2 (InputLayer)           [(None, 224, 224, 3  0           []                               \n",
      "                                )]                                                                \n",
      "                                                                                                  \n",
      " lambda_4 (Lambda)              (None, 224, 224, 3)  0           ['input_2[0][0]']                \n",
      "                                                                                                  \n",
      " block1_conv1 (Conv2D)          (None, 224, 224, 64  1792        ['lambda_4[0][0]']               \n",
      "                                )                                                                 \n",
      "                                                                                                  \n",
      " block1_conv2 (Conv2D)          (None, 224, 224, 64  36928       ['block1_conv1[0][0]']           \n",
      "                                )                                                                 \n",
      "                                                                                                  \n",
      " block1_pool (MaxPooling2D)     (None, 112, 112, 64  0           ['block1_conv2[0][0]']           \n",
      "                                )                                                                 \n",
      "                                                                                                  \n",
      " block2_conv1 (Conv2D)          (None, 112, 112, 12  73856       ['block1_pool[0][0]']            \n",
      "                                8)                                                                \n",
      "                                                                                                  \n",
      " block2_conv2 (Conv2D)          (None, 112, 112, 12  147584      ['block2_conv1[0][0]']           \n",
      "                                8)                                                                \n",
      "                                                                                                  \n",
      " block2_pool (MaxPooling2D)     (None, 56, 56, 128)  0           ['block2_conv2[0][0]']           \n",
      "                                                                                                  \n",
      " block3_conv1 (Conv2D)          (None, 56, 56, 256)  295168      ['block2_pool[0][0]']            \n",
      "                                                                                                  \n",
      " block3_conv2 (Conv2D)          (None, 56, 56, 256)  590080      ['block3_conv1[0][0]']           \n",
      "                                                                                                  \n",
      " block3_conv3 (Conv2D)          (None, 56, 56, 256)  590080      ['block3_conv2[0][0]']           \n",
      "                                                                                                  \n",
      " block3_conv4 (Conv2D)          (None, 56, 56, 256)  590080      ['block3_conv3[0][0]']           \n",
      "                                                                                                  \n",
      " block3_pool (MaxPooling2D)     (None, 28, 28, 256)  0           ['block3_conv4[0][0]']           \n",
      "                                                                                                  \n",
      " block4_conv1 (Conv2D)          (None, 28, 28, 512)  1180160     ['block3_pool[0][0]']            \n",
      "                                                                                                  \n",
      " block4_conv2 (Conv2D)          (None, 28, 28, 512)  2359808     ['block4_conv1[0][0]']           \n",
      "                                                                                                  \n",
      " block4_conv3 (Conv2D)          (None, 28, 28, 512)  2359808     ['block4_conv2[0][0]']           \n",
      "                                                                                                  \n",
      " block4_conv4 (Conv2D)          (None, 28, 28, 512)  2359808     ['block4_conv3[0][0]']           \n",
      "                                                                                                  \n",
      " block4_pool (MaxPooling2D)     (None, 14, 14, 512)  0           ['block4_conv4[0][0]']           \n",
      "                                                                                                  \n",
      " block5_conv1 (Conv2D)          (None, 14, 14, 512)  2359808     ['block4_pool[0][0]']            \n",
      "                                                                                                  \n",
      " block5_conv2 (Conv2D)          (None, 14, 14, 512)  2359808     ['block5_conv1[0][0]']           \n",
      "                                                                                                  \n",
      " block5_conv3 (Conv2D)          (None, 14, 14, 512)  2359808     ['block5_conv2[0][0]']           \n",
      "                                                                                                  \n",
      " block5_conv4 (Conv2D)          (None, 14, 14, 512)  2359808     ['block5_conv3[0][0]']           \n",
      "                                                                                                  \n",
      " block5_pool (MaxPooling2D)     (None, 7, 7, 512)    0           ['block5_conv4[0][0]']           \n",
      "                                                                                                  \n",
      " reshape_1 (Reshape)            (None, 49, 512)      0           ['block5_pool[0][0]']            \n",
      "                                                                                                  \n",
      " dense_36 (Dense)               (None, 49, 32)       16416       ['reshape_1[0][0]']              \n",
      "                                                                                                  \n",
      " batch_normalization_38 (BatchN  (None, 49, 32)      128         ['dense_36[0][0]']               \n",
      " ormalization)                                                                                    \n",
      "                                                                                                  \n",
      " activation_41 (Activation)     (None, 49, 32)       0           ['batch_normalization_38[0][0]'] \n",
      "                                                                                                  \n",
      " dense_53 (Dense)               (None, 49, 32)       1024        ['activation_41[0][0]']          \n",
      "                                                                                                  \n",
      " dense_54 (Dense)               (None, 49, 32)       1024        ['activation_41[0][0]']          \n",
      "                                                                                                  \n",
      " dot_10 (Dot)                   (None, 49, 49)       0           ['dense_53[0][0]',               \n",
      "                                                                  'dense_54[0][0]']               \n",
      "                                                                                                  \n",
      " lambda_7 (Lambda)              (None, 49, 49)       0           ['dot_10[0][0]']                 \n",
      "                                                                                                  \n",
      " activation_54 (Activation)     (None, 49, 49)       0           ['lambda_7[0][0]']               \n",
      "                                                                                                  \n",
      " dense_55 (Dense)               (None, 49, 32)       1024        ['activation_41[0][0]']          \n",
      "                                                                                                  \n",
      " dot_11 (Dot)                   (None, 49, 32)       0           ['activation_54[0][0]',          \n",
      "                                                                  'dense_55[0][0]']               \n",
      "                                                                                                  \n",
      " dense_56 (Dense)               (None, 49, 32)       1056        ['dot_11[0][0]']                 \n",
      "                                                                                                  \n",
      " dense_57 (Dense)               (None, 49, 32)       1056        ['dot_11[0][0]']                 \n",
      "                                                                                                  \n",
      " dense_58 (Dense)               (None, 49, 32)       1056        ['dot_11[0][0]']                 \n",
      "                                                                                                  \n",
      " dense_59 (Dense)               (None, 49, 32)       1056        ['dot_11[0][0]']                 \n",
      "                                                                                                  \n",
      " batch_normalization_49 (BatchN  (None, 49, 32)      128         ['dense_56[0][0]']               \n",
      " ormalization)                                                                                    \n",
      "                                                                                                  \n",
      " batch_normalization_50 (BatchN  (None, 49, 32)      128         ['dense_57[0][0]']               \n",
      " ormalization)                                                                                    \n",
      "                                                                                                  \n",
      " batch_normalization_51 (BatchN  (None, 49, 32)      128         ['dense_58[0][0]']               \n",
      " ormalization)                                                                                    \n",
      "                                                                                                  \n",
      " batch_normalization_52 (BatchN  (None, 49, 32)      128         ['dense_59[0][0]']               \n",
      " ormalization)                                                                                    \n",
      "                                                                                                  \n",
      " activation_55 (Activation)     (None, 49, 32)       0           ['batch_normalization_49[0][0]'] \n",
      "                                                                                                  \n",
      " activation_56 (Activation)     (None, 49, 32)       0           ['batch_normalization_50[0][0]'] \n",
      "                                                                                                  \n",
      " activation_57 (Activation)     (None, 49, 32)       0           ['batch_normalization_51[0][0]'] \n",
      "                                                                                                  \n",
      " activation_58 (Activation)     (None, 49, 32)       0           ['batch_normalization_52[0][0]'] \n",
      "                                                                                                  \n",
      " average_5 (Average)            (None, 49, 32)       0           ['activation_55[0][0]',          \n",
      "                                                                  'activation_56[0][0]',          \n",
      "                                                                  'activation_57[0][0]',          \n",
      "                                                                  'activation_58[0][0]']          \n",
      "                                                                                                  \n",
      " dense_60 (Dense)               (None, 49, 32)       1056        ['average_5[0][0]']              \n",
      "                                                                                                  \n",
      " flatten (Flatten)              (None, 25088)        0           ['block5_pool[0][0]']            \n",
      "                                                                                                  \n",
      " batch_normalization_53 (BatchN  (None, 49, 32)      128         ['dense_60[0][0]']               \n",
      " ormalization)                                                                                    \n",
      "                                                                                                  \n",
      " fc1 (Dense)                    (None, 4096)         102764544   ['flatten[0][0]']                \n",
      "                                                                                                  \n",
      " activation_59 (Activation)     (None, 49, 32)       0           ['batch_normalization_53[0][0]'] \n",
      "                                                                                                  \n",
      " fc2 (Dense)                    (None, 4096)         16781312    ['fc1[0][0]']                    \n",
      "                                                                                                  \n",
      " dropout_85 (Dropout)           (None, 49, 32)       0           ['activation_59[0][0]']          \n",
      "                                                                                                  \n",
      " dense_34 (Dense)               (None, 2048)         8390656     ['fc2[0][0]']                    \n",
      "                                                                                                  \n",
      " add_5 (Add)                    (None, 49, 32)       0           ['activation_41[0][0]',          \n",
      "                                                                  'dropout_85[0][0]']             \n",
      "                                                                                                  \n",
      " batch_normalization_36 (BatchN  (None, 2048)        8192        ['dense_34[0][0]']               \n",
      " ormalization)                                                                                    \n",
      "                                                                                                  \n",
      " layer_normalization_5 (LayerNo  (None, 49, 32)      64          ['add_5[0][0]']                  \n",
      " rmalization)                                                                                     \n",
      "                                                                                                  \n",
      " activation_39 (Activation)     (None, 2048)         0           ['batch_normalization_36[0][0]'] \n",
      "                                                                                                  \n",
      " flatten_3 (Flatten)            (None, 1568)         0           ['layer_normalization_5[0][0]']  \n",
      "                                                                                                  \n",
      " dropout_82 (Dropout)           (None, 2048)         0           ['activation_39[0][0]']          \n",
      "                                                                                                  \n",
      " dense_61 (Dense)               (None, 32)           50208       ['flatten_3[0][0]']              \n",
      "                                                                                                  \n",
      " dense_35 (Dense)               (None, 32)           65568       ['dropout_82[0][0]']             \n",
      "                                                                                                  \n",
      " batch_normalization_54 (BatchN  (None, 32)          128         ['dense_61[0][0]']               \n",
      " ormalization)                                                                                    \n",
      "                                                                                                  \n",
      " batch_normalization_37 (BatchN  (None, 32)          128         ['dense_35[0][0]']               \n",
      " ormalization)                                                                                    \n",
      "                                                                                                  \n",
      " activation_60 (Activation)     (None, 32)           0           ['batch_normalization_54[0][0]'] \n",
      "                                                                                                  \n",
      " activation_40 (Activation)     (None, 32)           0           ['batch_normalization_37[0][0]'] \n",
      "                                                                                                  \n",
      " concatenate_5 (Concatenate)    (None, 64)           0           ['activation_60[0][0]',          \n",
      "                                                                  'activation_40[0][0]']          \n",
      "                                                                                                  \n",
      " dropout_86 (Dropout)           (None, 64)           0           ['concatenate_5[0][0]']          \n",
      "                                                                                                  \n",
      " dense_62 (Dense)               (None, 32)           2080        ['dropout_86[0][0]']             \n",
      "                                                                                                  \n",
      " batch_normalization_55 (BatchN  (None, 32)          128         ['dense_62[0][0]']               \n",
      " ormalization)                                                                                    \n",
      "                                                                                                  \n",
      " activation_61 (Activation)     (None, 32)           0           ['batch_normalization_55[0][0]'] \n",
      "                                                                                                  \n",
      " dropout_87 (Dropout)           (None, 32)           0           ['activation_61[0][0]']          \n",
      "                                                                                                  \n",
      " input_ids (InputLayer)         [(None, 32)]         0           []                               \n",
      "                                                                                                  \n",
      " attention_mask (InputLayer)    [(None, 32)]         0           []                               \n",
      "                                                                                                  \n",
      " dense_63 (Dense)               (None, 1)            33          ['dropout_87[0][0]']             \n",
      "                                                                                                  \n",
      "==================================================================================================\n",
      "Total params: 148,112,961\n",
      "Trainable params: 8,538,049\n",
      "Non-trainable params: 139,574,912\n",
      "__________________________________________________________________________________________________\n",
      "CPU times: user 12.9 s, sys: 1.72 s, total: 14.6 s\n",
      "Wall time: 23.1 s\n"
     ]
    }
   ],
   "source": [
    "%%time\n",
    "EPOCHS          = EPOCHS\n",
    "total_steps     = len(y_train) * BATCH_SIZE\n",
    "train_data_size = len(y_train)\n",
    "steps_per_epoch = int(train_data_size / BATCH_SIZE) + 1\n",
    "num_train_steps = steps_per_epoch * EPOCHS\n",
    "# warmup_steps    = int(num_train_steps * 0.1)\n",
    "warmup_steps    = 0\n",
    "\n",
    "# Create the learning rate scheduler.\n",
    "decay_schedule = tf.keras.optimizers.schedules.PolynomialDecay(\n",
    "      initial_learning_rate=2e-5,\n",
    "      decay_steps=num_train_steps,\n",
    "      end_learning_rate=0)\n",
    "\n",
    "warmup_schedule = nlp.optimization.WarmUp(\n",
    "        initial_learning_rate=2e-5,\n",
    "        decay_schedule_fn=decay_schedule,\n",
    "        warmup_steps=warmup_steps)\n",
    "\n",
    "optimizer       = nlp.optimization.AdamWeightDecay(\n",
    "        learning_rate=warmup_schedule,\n",
    "        epsilon=1e-8,\n",
    "        exclude_from_weight_decay=['LayerNorm', 'layer_norm', 'bias'])\n",
    "\n",
    "\n",
    "#Load bert4news\n",
    "# config = AutoConfig.from_pretrained('/content/drive/MyDrive/bert4news/config.json')\n",
    "# transformer = TFAutoModel.from_pretrained('/content/drive/MyDrive/bert4news/pytorch_model.bin', from_pt=True, config=config)\n",
    "\n",
    "transformer = TFAutoModel.from_pretrained(MODEL,output_attentions=False,output_hidden_states=True,return_dict =True)\n",
    "transformer.trainable = False\n",
    "model2      = create_model(transformer, max_len=MAX_LENGTH)\n",
    "model2.compile(optimizer=optimizer,\n",
    "                loss='binary_crossentropy',\n",
    "                metrics='accuracy')\n",
    "\n",
    "model2.summary()"
   ]
  },
  {
   "cell_type": "code",
   "execution_count": null,
   "metadata": {
    "id": "v4QPutEehi3D"
   },
   "outputs": [],
   "source": [
    "model2.load_weights(os.path.join(base_dir, f'checkpoint-test/{MODEL_NAME}/cp-03.h5'))\n",
    "# model2.evaluate(X_val,y_val)"
   ]
  },
  {
   "cell_type": "markdown",
   "metadata": {
    "id": "1CGnI1pI68Ek"
   },
   "source": [
    "#Predict"
   ]
  },
  {
   "cell_type": "code",
   "execution_count": null,
   "metadata": {
    "colab": {
     "base_uri": "https://localhost:8080/",
     "height": 66,
     "referenced_widgets": [
      "d1eff9f86af740c6b8a333e1b1bf324c",
      "ced95a9e834842cc8e0ce29d2d810aed",
      "f47dd961fc824f72a10729c960796ff7",
      "37630e724c9249058cd3f678b2efd179",
      "88e53c8a4557498e88b2969aba2e2cde",
      "aa4198e67aab435bbf745a7e0e8ee5ac",
      "787a330eae3249a7aff77c67957ddf21",
      "0a0e1fc7f7c240c7bceec9bded5a8725",
      "5d94a783e671448b9f7e5e0ef9c2bbfe",
      "804d8d751fce4533aaf4255d53c79995",
      "6304435a71ea4785b1837114147bbb9f"
     ]
    },
    "id": "pol4YZ1x7Xie",
    "outputId": "e3263397-335e-4ba4-c6c8-b29c2a8fa275"
   },
   "outputs": [
    {
     "data": {
      "application/vnd.jupyter.widget-view+json": {
       "model_id": "d1eff9f86af740c6b8a333e1b1bf324c",
       "version_major": 2,
       "version_minor": 0
      },
      "text/plain": [
       "  0%|          | 0/3753 [00:00<?, ?it/s]"
      ]
     },
     "metadata": {},
     "output_type": "display_data"
    },
    {
     "data": {
      "text/plain": [
       "((3753, 32), (3753, 32))"
      ]
     },
     "execution_count": 40,
     "metadata": {},
     "output_type": "execute_result"
    }
   ],
   "source": [
    "input_ids       = []\n",
    "attention_masks = []\n",
    "\n",
    "for sent in tqdm(test_sent):\n",
    "    encoded_dict = tokenizer.encode_plus(\n",
    "                        sent,\n",
    "                        add_special_tokens = True,\n",
    "                        max_length = MAX_LENGTH,\n",
    "                        pad_to_max_length = True,\n",
    "                        return_attention_mask = True,\n",
    "                        return_tensors = 'np',\n",
    "                        truncation = True,\n",
    "                   )\n",
    "    input_ids.append(encoded_dict['input_ids'])\n",
    "    attention_masks.append(encoded_dict['attention_mask'])\n",
    "\n",
    "\n",
    "id_test_data        = np.concatenate(input_ids)\n",
    "mask_test_data      = np.concatenate(attention_masks)\n",
    "id_test_data.shape, mask_test_data.shape"
   ]
  },
  {
   "cell_type": "code",
   "execution_count": null,
   "metadata": {
    "id": "nx6k6iXM82wF"
   },
   "outputs": [],
   "source": [
    "X_test_data         = [\n",
    "    id_test_data,\n",
    "    mask_test_data,\n",
    "    img_test\n",
    "]"
   ]
  },
  {
   "cell_type": "code",
   "execution_count": null,
   "metadata": {
    "colab": {
     "base_uri": "https://localhost:8080/"
    },
    "id": "k7wArOK-9HdO",
    "outputId": "d5029035-1ce0-4b00-df12-f94ecb2a46bd"
   },
   "outputs": [
    {
     "name": "stdout",
     "output_type": "stream",
     "text": [
      "118/118 [==============================] - 22s 173ms/step\n"
     ]
    },
    {
     "data": {
      "text/plain": [
       "((3753,), (3753, 1))"
      ]
     },
     "execution_count": 42,
     "metadata": {},
     "output_type": "execute_result"
    }
   ],
   "source": [
    "pred = model.predict(X_test_data, verbose=1)\n",
    "test_true = test_labels\n",
    "test_true.shape, pred.shape"
   ]
  },
  {
   "cell_type": "code",
   "execution_count": null,
   "metadata": {
    "colab": {
     "base_uri": "https://localhost:8080/",
     "height": 541
    },
    "id": "Pzb9YUORoVNZ",
    "outputId": "749ba655-ff54-4c19-d090-8d92118db0e1"
   },
   "outputs": [
    {
     "data": {
      "image/png": "[encoded data removed]",
      "text/plain": [
       "<Figure size 640x480 with 1 Axes>"
      ]
     },
     "metadata": {},
     "output_type": "display_data"
    },
    {
     "name": "stdout",
     "output_type": "stream",
     "text": [
      "----------------------------------------------------------------------\n",
      "Accuracy Score:  0.866240341060485\n",
      "Precision Score:  0.8152444076222038\n",
      "Recall Score:  0.7790973871733967\n"
     ]
    }
   ],
   "source": [
    "from sklearn import metrics\n",
    "import seaborn as sns\n",
    "theta = 0.4\n",
    "# Print the confusion matrix\n",
    "predicted = (pred>theta).astype(int)\n",
    "cm = metrics.confusion_matrix(test_true,  predicted)\n",
    "sns.heatmap(cm, annot=True, fmt=\"d\", cmap=\"Blues\", cbar=False)\n",
    "plt.title(\"Confusion Matrix\")\n",
    "plt.xlabel(\"Predicted Labels\")\n",
    "plt.ylabel(\"True Labels\")\n",
    "plt.show()\n",
    "\n",
    "# Print the precision and recall, among other metrics\n",
    "print('Evaluation Metrics')\n",
    "print('-'*70)\n",
    "print(\"Accuracy Score: \",metrics.accuracy_score(test_true,  predicted))\n",
    "print(\"Precision Score: \",metrics.precision_score(test_true,  predicted))\n",
    "print(\"Recall Score: \",metrics.recall_score(test_true,  predicted))"
   ]
  },
  {
   "cell_type": "code",
   "execution_count": null,
   "metadata": {
    "id": "RSSvWzgafG8i"
   },
   "outputs": [],
   "source": [
    "import pickle\n",
    "\n",
    "pickle.dump(model, open(base_dir+MODEL_NAME+'.pkl', 'wb'))"
   ]
  }
 ],
 "metadata": {
  "colab": {
   "collapsed_sections": [
    "2ElsnSNUridI"
   ],
   "provenance": []
  },
  "gpuClass": "standard",
  "kernelspec": {
   "display_name": "Python 3 (ipykernel)",
   "language": "python",
   "name": "python3"
  },
  "language_info": {
   "codemirror_mode": {
    "name": "ipython",
    "version": 3
   },
   "file_extension": ".py",
   "mimetype": "text/x-python",
   "name": "python",
   "nbconvert_exporter": "python",
   "pygments_lexer": "ipython3",
   "version": "3.11.3"
  },
  "toc": {
   "base_numbering": 1,
   "nav_menu": {},
   "number_sections": true,
   "sideBar": true,
   "skip_h1_title": false,
   "title_cell": "Table of Contents",
   "title_sidebar": "Contents",
   "toc_cell": false,
   "toc_position": {},
   "toc_section_display": true,
   "toc_window_display": false
  },
  "widgets": {
   "application/vnd.jupyter.widget-state+json": {
    "00c4a04f6c374b3c978571a1f0b655c9": {
     "model_module": "@jupyter-widgets/controls",
     "model_module_version": "1.5.0",
     "model_name": "HTMLModel",
     "state": {
      "_dom_classes": [],
      "_model_module": "@jupyter-widgets/controls",
      "_model_module_version": "1.5.0",
      "_model_name": "HTMLModel",
      "_view_count": null,
      "_view_module": "@jupyter-widgets/controls",
      "_view_module_version": "1.5.0",
      "_view_name": "HTMLView",
      "description": "",
      "description_tooltip": null,
      "layout": "IPY_MODEL_3d182a04aed74f15af641707f711298d",
      "placeholder": "​",
      "style": "IPY_MODEL_99938cd909494966bbdefe8d42418f69",
      "value": " 3753/? [00:00&lt;00:00, 7185.87it/s]"
     }
    },
    "056ed87162164c8aaa0e9efe96f8eb64": {
     "model_module": "@jupyter-widgets/controls",
     "model_module_version": "1.5.0",
     "model_name": "HTMLModel",
     "state": {
      "_dom_classes": [],
      "_model_module": "@jupyter-widgets/controls",
      "_model_module_version": "1.5.0",
      "_model_name": "HTMLModel",
      "_view_count": null,
      "_view_module": "@jupyter-widgets/controls",
      "_view_module_version": "1.5.0",
      "_view_name": "HTMLView",
      "description": "",
      "description_tooltip": null,
      "layout": "IPY_MODEL_5becbc14adf34a12a3cb89aff2c384b4",
      "placeholder": "​",
      "style": "IPY_MODEL_eaa8305eb6024fbd905902b157ab0e33",
      "value": ""
     }
    },
    "063839c1882c4ccbbc032189524de14f": {
     "model_module": "@jupyter-widgets/controls",
     "model_module_version": "1.5.0",
     "model_name": "DescriptionStyleModel",
     "state": {
      "_model_module": "@jupyter-widgets/controls",
      "_model_module_version": "1.5.0",
      "_model_name": "DescriptionStyleModel",
      "_view_count": null,
      "_view_module": "@jupyter-widgets/base",
      "_view_module_version": "1.2.0",
      "_view_name": "StyleView",
      "description_width": ""
     }
    },
    "07b2916781bb4ab9b491df539c3e20b4": {
     "model_module": "@jupyter-widgets/controls",
     "model_module_version": "1.5.0",
     "model_name": "HTMLModel",
     "state": {
      "_dom_classes": [],
      "_model_module": "@jupyter-widgets/controls",
      "_model_module_version": "1.5.0",
      "_model_name": "HTMLModel",
      "_view_count": null,
      "_view_module": "@jupyter-widgets/controls",
      "_view_module_version": "1.5.0",
      "_view_name": "HTMLView",
      "description": "",
      "description_tooltip": null,
      "layout": "IPY_MODEL_136767bb518e4029aab8d6b18ec7e326",
      "placeholder": "​",
      "style": "IPY_MODEL_958f134ff518492f80903ec24188e39a",
      "value": " 899k/899k [00:00&lt;00:00, 6.24MB/s]"
     }
    },
    "09c010aa1be7462c896c3dab277f9a39": {
     "model_module": "@jupyter-widgets/base",
     "model_module_version": "1.2.0",
     "model_name": "LayoutModel",
     "state": {
      "_model_module": "@jupyter-widgets/base",
      "_model_module_version": "1.2.0",
      "_model_name": "LayoutModel",
      "_view_count": null,
      "_view_module": "@jupyter-widgets/base",
      "_view_module_version": "1.2.0",
      "_view_name": "LayoutView",
      "align_content": null,
      "align_items": null,
      "align_self": null,
      "border": null,
      "bottom": null,
      "display": null,
      "flex": null,
      "flex_flow": null,
      "grid_area": null,
      "grid_auto_columns": null,
      "grid_auto_flow": null,
      "grid_auto_rows": null,
      "grid_column": null,
      "grid_gap": null,
      "grid_row": null,
      "grid_template_areas": null,
      "grid_template_columns": null,
      "grid_template_rows": null,
      "height": null,
      "justify_content": null,
      "justify_items": null,
      "left": null,
      "margin": null,
      "max_height": null,
      "max_width": null,
      "min_height": null,
      "min_width": null,
      "object_fit": null,
      "object_position": null,
      "order": null,
      "overflow": null,
      "overflow_x": null,
      "overflow_y": null,
      "padding": null,
      "right": null,
      "top": null,
      "visibility": null,
      "width": null
     }
    },
    "0a0e1fc7f7c240c7bceec9bded5a8725": {
     "model_module": "@jupyter-widgets/base",
     "model_module_version": "1.2.0",
     "model_name": "LayoutModel",
     "state": {
      "_model_module": "@jupyter-widgets/base",
      "_model_module_version": "1.2.0",
      "_model_name": "LayoutModel",
      "_view_count": null,
      "_view_module": "@jupyter-widgets/base",
      "_view_module_version": "1.2.0",
      "_view_name": "LayoutView",
      "align_content": null,
      "align_items": null,
      "align_self": null,
      "border": null,
      "bottom": null,
      "display": null,
      "flex": null,
      "flex_flow": null,
      "grid_area": null,
      "grid_auto_columns": null,
      "grid_auto_flow": null,
      "grid_auto_rows": null,
      "grid_column": null,
      "grid_gap": null,
      "grid_row": null,
      "grid_template_areas": null,
      "grid_template_columns": null,
      "grid_template_rows": null,
      "height": null,
      "justify_content": null,
      "justify_items": null,
      "left": null,
      "margin": null,
      "max_height": null,
      "max_width": null,
      "min_height": null,
      "min_width": null,
      "object_fit": null,
      "object_position": null,
      "order": null,
      "overflow": null,
      "overflow_x": null,
      "overflow_y": null,
      "padding": null,
      "right": null,
      "top": null,
      "visibility": null,
      "width": null
     }
    },
    "0a95a8e46d7d4ad09c7ac084146fbb50": {
     "model_module": "@jupyter-widgets/base",
     "model_module_version": "1.2.0",
     "model_name": "LayoutModel",
     "state": {
      "_model_module": "@jupyter-widgets/base",
      "_model_module_version": "1.2.0",
      "_model_name": "LayoutModel",
      "_view_count": null,
      "_view_module": "@jupyter-widgets/base",
      "_view_module_version": "1.2.0",
      "_view_name": "LayoutView",
      "align_content": null,
      "align_items": null,
      "align_self": null,
      "border": null,
      "bottom": null,
      "display": null,
      "flex": null,
      "flex_flow": null,
      "grid_area": null,
      "grid_auto_columns": null,
      "grid_auto_flow": null,
      "grid_auto_rows": null,
      "grid_column": null,
      "grid_gap": null,
      "grid_row": null,
      "grid_template_areas": null,
      "grid_template_columns": null,
      "grid_template_rows": null,
      "height": null,
      "justify_content": null,
      "justify_items": null,
      "left": null,
      "margin": null,
      "max_height": null,
      "max_width": null,
      "min_height": null,
      "min_width": null,
      "object_fit": null,
      "object_position": null,
      "order": null,
      "overflow": null,
      "overflow_x": null,
      "overflow_y": null,
      "padding": null,
      "right": null,
      "top": null,
      "visibility": null,
      "width": null
     }
    },
    "0bb4cff8c9fe4dc28140f911cf47a539": {
     "model_module": "@jupyter-widgets/controls",
     "model_module_version": "1.5.0",
     "model_name": "HTMLModel",
     "state": {
      "_dom_classes": [],
      "_model_module": "@jupyter-widgets/controls",
      "_model_module_version": "1.5.0",
      "_model_name": "HTMLModel",
      "_view_count": null,
      "_view_module": "@jupyter-widgets/controls",
      "_view_module_version": "1.5.0",
      "_view_name": "HTMLView",
      "description": "",
      "description_tooltip": null,
      "layout": "IPY_MODEL_f532585123364d088042e1b461b343b4",
      "placeholder": "​",
      "style": "IPY_MODEL_18b65fcdfb8a4c499e3391bbd04b3aad",
      "value": "Downloading (…)olve/main/merges.txt: 100%"
     }
    },
    "10225de3459949ffb52b798b6b817bfc": {
     "model_module": "@jupyter-widgets/controls",
     "model_module_version": "1.5.0",
     "model_name": "FloatProgressModel",
     "state": {
      "_dom_classes": [],
      "_model_module": "@jupyter-widgets/controls",
      "_model_module_version": "1.5.0",
      "_model_name": "FloatProgressModel",
      "_view_count": null,
      "_view_module": "@jupyter-widgets/controls",
      "_view_module_version": "1.5.0",
      "_view_name": "ProgressView",
      "bar_style": "success",
      "description": "",
      "description_tooltip": null,
      "layout": "IPY_MODEL_976abeb14698469f9e862af023ecf2eb",
      "max": 150,
      "min": 0,
      "orientation": "horizontal",
      "style": "IPY_MODEL_1454f2fa588c4a84be441e537ceb77ba",
      "value": 150
     }
    },
    "12efee776229484aba2579b3c927d99d": {
     "model_module": "@jupyter-widgets/controls",
     "model_module_version": "1.5.0",
     "model_name": "DescriptionStyleModel",
     "state": {
      "_model_module": "@jupyter-widgets/controls",
      "_model_module_version": "1.5.0",
      "_model_name": "DescriptionStyleModel",
      "_view_count": null,
      "_view_module": "@jupyter-widgets/base",
      "_view_module_version": "1.2.0",
      "_view_name": "StyleView",
      "description_width": ""
     }
    },
    "136767bb518e4029aab8d6b18ec7e326": {
     "model_module": "@jupyter-widgets/base",
     "model_module_version": "1.2.0",
     "model_name": "LayoutModel",
     "state": {
      "_model_module": "@jupyter-widgets/base",
      "_model_module_version": "1.2.0",
      "_model_name": "LayoutModel",
      "_view_count": null,
      "_view_module": "@jupyter-widgets/base",
      "_view_module_version": "1.2.0",
      "_view_name": "LayoutView",
      "align_content": null,
      "align_items": null,
      "align_self": null,
      "border": null,
      "bottom": null,
      "display": null,
      "flex": null,
      "flex_flow": null,
      "grid_area": null,
      "grid_auto_columns": null,
      "grid_auto_flow": null,
      "grid_auto_rows": null,
      "grid_column": null,
      "grid_gap": null,
      "grid_row": null,
      "grid_template_areas": null,
      "grid_template_columns": null,
      "grid_template_rows": null,
      "height": null,
      "justify_content": null,
      "justify_items": null,
      "left": null,
      "margin": null,
      "max_height": null,
      "max_width": null,
      "min_height": null,
      "min_width": null,
      "object_fit": null,
      "object_position": null,
      "order": null,
      "overflow": null,
      "overflow_x": null,
      "overflow_y": null,
      "padding": null,
      "right": null,
      "top": null,
      "visibility": null,
      "width": null
     }
    },
    "1447bb34637e413c9c0bc8166e74c691": {
     "model_module": "@jupyter-widgets/controls",
     "model_module_version": "1.5.0",
     "model_name": "DescriptionStyleModel",
     "state": {
      "_model_module": "@jupyter-widgets/controls",
      "_model_module_version": "1.5.0",
      "_model_name": "DescriptionStyleModel",
      "_view_count": null,
      "_view_module": "@jupyter-widgets/base",
      "_view_module_version": "1.2.0",
      "_view_name": "StyleView",
      "description_width": ""
     }
    },
    "1454f2fa588c4a84be441e537ceb77ba": {
     "model_module": "@jupyter-widgets/controls",
     "model_module_version": "1.5.0",
     "model_name": "ProgressStyleModel",
     "state": {
      "_model_module": "@jupyter-widgets/controls",
      "_model_module_version": "1.5.0",
      "_model_name": "ProgressStyleModel",
      "_view_count": null,
      "_view_module": "@jupyter-widgets/base",
      "_view_module_version": "1.2.0",
      "_view_name": "StyleView",
      "bar_color": null,
      "description_width": ""
     }
    },
    "18b65fcdfb8a4c499e3391bbd04b3aad": {
     "model_module": "@jupyter-widgets/controls",
     "model_module_version": "1.5.0",
     "model_name": "DescriptionStyleModel",
     "state": {
      "_model_module": "@jupyter-widgets/controls",
      "_model_module_version": "1.5.0",
      "_model_name": "DescriptionStyleModel",
      "_view_count": null,
      "_view_module": "@jupyter-widgets/base",
      "_view_module_version": "1.2.0",
      "_view_name": "StyleView",
      "description_width": ""
     }
    },
    "1b0507b8c33b4a04be82e07bbea8c721": {
     "model_module": "@jupyter-widgets/base",
     "model_module_version": "1.2.0",
     "model_name": "LayoutModel",
     "state": {
      "_model_module": "@jupyter-widgets/base",
      "_model_module_version": "1.2.0",
      "_model_name": "LayoutModel",
      "_view_count": null,
      "_view_module": "@jupyter-widgets/base",
      "_view_module_version": "1.2.0",
      "_view_name": "LayoutView",
      "align_content": null,
      "align_items": null,
      "align_self": null,
      "border": null,
      "bottom": null,
      "display": null,
      "flex": null,
      "flex_flow": null,
      "grid_area": null,
      "grid_auto_columns": null,
      "grid_auto_flow": null,
      "grid_auto_rows": null,
      "grid_column": null,
      "grid_gap": null,
      "grid_row": null,
      "grid_template_areas": null,
      "grid_template_columns": null,
      "grid_template_rows": null,
      "height": null,
      "justify_content": null,
      "justify_items": null,
      "left": null,
      "margin": null,
      "max_height": null,
      "max_width": null,
      "min_height": null,
      "min_width": null,
      "object_fit": null,
      "object_position": null,
      "order": null,
      "overflow": null,
      "overflow_x": null,
      "overflow_y": null,
      "padding": null,
      "right": null,
      "top": null,
      "visibility": null,
      "width": null
     }
    },
    "20d8fcba9c974e4cbb7ffd7d1d9203bf": {
     "model_module": "@jupyter-widgets/controls",
     "model_module_version": "1.5.0",
     "model_name": "HTMLModel",
     "state": {
      "_dom_classes": [],
      "_model_module": "@jupyter-widgets/controls",
      "_model_module_version": "1.5.0",
      "_model_name": "HTMLModel",
      "_view_count": null,
      "_view_module": "@jupyter-widgets/controls",
      "_view_module_version": "1.5.0",
      "_view_name": "HTMLView",
      "description": "",
      "description_tooltip": null,
      "layout": "IPY_MODEL_775fb24aca1d4fd6864906a7992ce735",
      "placeholder": "​",
      "style": "IPY_MODEL_2e97fc371d7c43f499bc21334f164d0d",
      "value": " 501M/501M [00:05&lt;00:00, 96.0MB/s]"
     }
    },
    "22434236ecb1429c95785d4ebf9a3ef4": {
     "model_module": "@jupyter-widgets/controls",
     "model_module_version": "1.5.0",
     "model_name": "FloatProgressModel",
     "state": {
      "_dom_classes": [],
      "_model_module": "@jupyter-widgets/controls",
      "_model_module_version": "1.5.0",
      "_model_name": "FloatProgressModel",
      "_view_count": null,
      "_view_module": "@jupyter-widgets/controls",
      "_view_module_version": "1.5.0",
      "_view_name": "ProgressView",
      "bar_style": "success",
      "description": "",
      "description_tooltip": null,
      "layout": "IPY_MODEL_2b5e578eea004cf08462ce566d125c31",
      "max": 456318,
      "min": 0,
      "orientation": "horizontal",
      "style": "IPY_MODEL_4b198da73add447d817291fcf3326610",
      "value": 456318
     }
    },
    "26c777ce6e0c43b68852607755b6f04b": {
     "model_module": "@jupyter-widgets/controls",
     "model_module_version": "1.5.0",
     "model_name": "FloatProgressModel",
     "state": {
      "_dom_classes": [],
      "_model_module": "@jupyter-widgets/controls",
      "_model_module_version": "1.5.0",
      "_model_name": "FloatProgressModel",
      "_view_count": null,
      "_view_module": "@jupyter-widgets/controls",
      "_view_module_version": "1.5.0",
      "_view_name": "ProgressView",
      "bar_style": "success",
      "description": "",
      "description_tooltip": null,
      "layout": "IPY_MODEL_455ae2d8c2a14201810688d7c2bc6ec4",
      "max": 1,
      "min": 0,
      "orientation": "horizontal",
      "style": "IPY_MODEL_ca77130fcdc54cca8247131204b98ba9",
      "value": 1
     }
    },
    "2b5e578eea004cf08462ce566d125c31": {
     "model_module": "@jupyter-widgets/base",
     "model_module_version": "1.2.0",
     "model_name": "LayoutModel",
     "state": {
      "_model_module": "@jupyter-widgets/base",
      "_model_module_version": "1.2.0",
      "_model_name": "LayoutModel",
      "_view_count": null,
      "_view_module": "@jupyter-widgets/base",
      "_view_module_version": "1.2.0",
      "_view_name": "LayoutView",
      "align_content": null,
      "align_items": null,
      "align_self": null,
      "border": null,
      "bottom": null,
      "display": null,
      "flex": null,
      "flex_flow": null,
      "grid_area": null,
      "grid_auto_columns": null,
      "grid_auto_flow": null,
      "grid_auto_rows": null,
      "grid_column": null,
      "grid_gap": null,
      "grid_row": null,
      "grid_template_areas": null,
      "grid_template_columns": null,
      "grid_template_rows": null,
      "height": null,
      "justify_content": null,
      "justify_items": null,
      "left": null,
      "margin": null,
      "max_height": null,
      "max_width": null,
      "min_height": null,
      "min_width": null,
      "object_fit": null,
      "object_position": null,
      "order": null,
      "overflow": null,
      "overflow_x": null,
      "overflow_y": null,
      "padding": null,
      "right": null,
      "top": null,
      "visibility": null,
      "width": null
     }
    },
    "2e97fc371d7c43f499bc21334f164d0d": {
     "model_module": "@jupyter-widgets/controls",
     "model_module_version": "1.5.0",
     "model_name": "DescriptionStyleModel",
     "state": {
      "_model_module": "@jupyter-widgets/controls",
      "_model_module_version": "1.5.0",
      "_model_name": "DescriptionStyleModel",
      "_view_count": null,
      "_view_module": "@jupyter-widgets/base",
      "_view_module_version": "1.2.0",
      "_view_name": "StyleView",
      "description_width": ""
     }
    },
    "32bc848c08584e9bb6a98eef4436c20e": {
     "model_module": "@jupyter-widgets/controls",
     "model_module_version": "1.5.0",
     "model_name": "FloatProgressModel",
     "state": {
      "_dom_classes": [],
      "_model_module": "@jupyter-widgets/controls",
      "_model_module_version": "1.5.0",
      "_model_name": "FloatProgressModel",
      "_view_count": null,
      "_view_module": "@jupyter-widgets/controls",
      "_view_module_version": "1.5.0",
      "_view_name": "ProgressView",
      "bar_style": "success",
      "description": "",
      "description_tooltip": null,
      "layout": "IPY_MODEL_57519aa649ec4b129a979528e1a041cd",
      "max": 501229896,
      "min": 0,
      "orientation": "horizontal",
      "style": "IPY_MODEL_f23c8561b42148e8bf08f7f3046e13c8",
      "value": 501229896
     }
    },
    "34a218677f4a45c6b9e9ab121e736cda": {
     "model_module": "@jupyter-widgets/base",
     "model_module_version": "1.2.0",
     "model_name": "LayoutModel",
     "state": {
      "_model_module": "@jupyter-widgets/base",
      "_model_module_version": "1.2.0",
      "_model_name": "LayoutModel",
      "_view_count": null,
      "_view_module": "@jupyter-widgets/base",
      "_view_module_version": "1.2.0",
      "_view_name": "LayoutView",
      "align_content": null,
      "align_items": null,
      "align_self": null,
      "border": null,
      "bottom": null,
      "display": null,
      "flex": null,
      "flex_flow": null,
      "grid_area": null,
      "grid_auto_columns": null,
      "grid_auto_flow": null,
      "grid_auto_rows": null,
      "grid_column": null,
      "grid_gap": null,
      "grid_row": null,
      "grid_template_areas": null,
      "grid_template_columns": null,
      "grid_template_rows": null,
      "height": null,
      "justify_content": null,
      "justify_items": null,
      "left": null,
      "margin": null,
      "max_height": null,
      "max_width": null,
      "min_height": null,
      "min_width": null,
      "object_fit": null,
      "object_position": null,
      "order": null,
      "overflow": null,
      "overflow_x": null,
      "overflow_y": null,
      "padding": null,
      "right": null,
      "top": null,
      "visibility": null,
      "width": null
     }
    },
    "3549d7dc3f39469e97696285b4fa497a": {
     "model_module": "@jupyter-widgets/controls",
     "model_module_version": "1.5.0",
     "model_name": "HTMLModel",
     "state": {
      "_dom_classes": [],
      "_model_module": "@jupyter-widgets/controls",
      "_model_module_version": "1.5.0",
      "_model_name": "HTMLModel",
      "_view_count": null,
      "_view_module": "@jupyter-widgets/controls",
      "_view_module_version": "1.5.0",
      "_view_name": "HTMLView",
      "description": "",
      "description_tooltip": null,
      "layout": "IPY_MODEL_75da276cecbf4888a2f01b4ecb1afa5c",
      "placeholder": "​",
      "style": "IPY_MODEL_12efee776229484aba2579b3c927d99d",
      "value": "100%"
     }
    },
    "37630e724c9249058cd3f678b2efd179": {
     "model_module": "@jupyter-widgets/controls",
     "model_module_version": "1.5.0",
     "model_name": "HTMLModel",
     "state": {
      "_dom_classes": [],
      "_model_module": "@jupyter-widgets/controls",
      "_model_module_version": "1.5.0",
      "_model_name": "HTMLModel",
      "_view_count": null,
      "_view_module": "@jupyter-widgets/controls",
      "_view_module_version": "1.5.0",
      "_view_name": "HTMLView",
      "description": "",
      "description_tooltip": null,
      "layout": "IPY_MODEL_804d8d751fce4533aaf4255d53c79995",
      "placeholder": "​",
      "style": "IPY_MODEL_6304435a71ea4785b1837114147bbb9f",
      "value": " 3753/3753 [00:00&lt;00:00, 4769.86it/s]"
     }
    },
    "3a359212d7e940fb8115cf39e92b3ab1": {
     "model_module": "@jupyter-widgets/controls",
     "model_module_version": "1.5.0",
     "model_name": "HBoxModel",
     "state": {
      "_dom_classes": [],
      "_model_module": "@jupyter-widgets/controls",
      "_model_module_version": "1.5.0",
      "_model_name": "HBoxModel",
      "_view_count": null,
      "_view_module": "@jupyter-widgets/controls",
      "_view_module_version": "1.5.0",
      "_view_name": "HBoxView",
      "box_style": "",
      "children": [
       "IPY_MODEL_876a387f9db84b6c86935cdd2312ff92",
       "IPY_MODEL_10225de3459949ffb52b798b6b817bfc",
       "IPY_MODEL_7e0901f0fc5e47c5a79afe6d016e818a"
      ],
      "layout": "IPY_MODEL_fc45c862459b425da7b66eafb9e36c3d"
     }
    },
    "3ae245a6a4d24ef78144ac84130e3332": {
     "model_module": "@jupyter-widgets/controls",
     "model_module_version": "1.5.0",
     "model_name": "HBoxModel",
     "state": {
      "_dom_classes": [],
      "_model_module": "@jupyter-widgets/controls",
      "_model_module_version": "1.5.0",
      "_model_name": "HBoxModel",
      "_view_count": null,
      "_view_module": "@jupyter-widgets/controls",
      "_view_module_version": "1.5.0",
      "_view_name": "HBoxView",
      "box_style": "",
      "children": [
       "IPY_MODEL_056ed87162164c8aaa0e9efe96f8eb64",
       "IPY_MODEL_26c777ce6e0c43b68852607755b6f04b",
       "IPY_MODEL_00c4a04f6c374b3c978571a1f0b655c9"
      ],
      "layout": "IPY_MODEL_7c82926c5ecf4fc985a92b6a05834776"
     }
    },
    "3d182a04aed74f15af641707f711298d": {
     "model_module": "@jupyter-widgets/base",
     "model_module_version": "1.2.0",
     "model_name": "LayoutModel",
     "state": {
      "_model_module": "@jupyter-widgets/base",
      "_model_module_version": "1.2.0",
      "_model_name": "LayoutModel",
      "_view_count": null,
      "_view_module": "@jupyter-widgets/base",
      "_view_module_version": "1.2.0",
      "_view_name": "LayoutView",
      "align_content": null,
      "align_items": null,
      "align_self": null,
      "border": null,
      "bottom": null,
      "display": null,
      "flex": null,
      "flex_flow": null,
      "grid_area": null,
      "grid_auto_columns": null,
      "grid_auto_flow": null,
      "grid_auto_rows": null,
      "grid_column": null,
      "grid_gap": null,
      "grid_row": null,
      "grid_template_areas": null,
      "grid_template_columns": null,
      "grid_template_rows": null,
      "height": null,
      "justify_content": null,
      "justify_items": null,
      "left": null,
      "margin": null,
      "max_height": null,
      "max_width": null,
      "min_height": null,
      "min_width": null,
      "object_fit": null,
      "object_position": null,
      "order": null,
      "overflow": null,
      "overflow_x": null,
      "overflow_y": null,
      "padding": null,
      "right": null,
      "top": null,
      "visibility": null,
      "width": null
     }
    },
    "455ae2d8c2a14201810688d7c2bc6ec4": {
     "model_module": "@jupyter-widgets/base",
     "model_module_version": "1.2.0",
     "model_name": "LayoutModel",
     "state": {
      "_model_module": "@jupyter-widgets/base",
      "_model_module_version": "1.2.0",
      "_model_name": "LayoutModel",
      "_view_count": null,
      "_view_module": "@jupyter-widgets/base",
      "_view_module_version": "1.2.0",
      "_view_name": "LayoutView",
      "align_content": null,
      "align_items": null,
      "align_self": null,
      "border": null,
      "bottom": null,
      "display": null,
      "flex": null,
      "flex_flow": null,
      "grid_area": null,
      "grid_auto_columns": null,
      "grid_auto_flow": null,
      "grid_auto_rows": null,
      "grid_column": null,
      "grid_gap": null,
      "grid_row": null,
      "grid_template_areas": null,
      "grid_template_columns": null,
      "grid_template_rows": null,
      "height": null,
      "justify_content": null,
      "justify_items": null,
      "left": null,
      "margin": null,
      "max_height": null,
      "max_width": null,
      "min_height": null,
      "min_width": null,
      "object_fit": null,
      "object_position": null,
      "order": null,
      "overflow": null,
      "overflow_x": null,
      "overflow_y": null,
      "padding": null,
      "right": null,
      "top": null,
      "visibility": null,
      "width": "20px"
     }
    },
    "4b198da73add447d817291fcf3326610": {
     "model_module": "@jupyter-widgets/controls",
     "model_module_version": "1.5.0",
     "model_name": "ProgressStyleModel",
     "state": {
      "_model_module": "@jupyter-widgets/controls",
      "_model_module_version": "1.5.0",
      "_model_name": "ProgressStyleModel",
      "_view_count": null,
      "_view_module": "@jupyter-widgets/base",
      "_view_module_version": "1.2.0",
      "_view_name": "StyleView",
      "bar_color": null,
      "description_width": ""
     }
    },
    "50b5949f59ce474c840529bac2860cd1": {
     "model_module": "@jupyter-widgets/controls",
     "model_module_version": "1.5.0",
     "model_name": "HTMLModel",
     "state": {
      "_dom_classes": [],
      "_model_module": "@jupyter-widgets/controls",
      "_model_module_version": "1.5.0",
      "_model_name": "HTMLModel",
      "_view_count": null,
      "_view_module": "@jupyter-widgets/controls",
      "_view_module_version": "1.5.0",
      "_view_name": "HTMLView",
      "description": "",
      "description_tooltip": null,
      "layout": "IPY_MODEL_7bd4fe81e52e45d0879c0cadfbe4fcb5",
      "placeholder": "​",
      "style": "IPY_MODEL_d0bfbc0dcaca48159c5748db69d114bf",
      "value": " 14175/14175 [00:02&lt;00:00, 4892.34it/s]"
     }
    },
    "52081c766ea44f9aa6d5397226124fb2": {
     "model_module": "@jupyter-widgets/controls",
     "model_module_version": "1.5.0",
     "model_name": "HTMLModel",
     "state": {
      "_dom_classes": [],
      "_model_module": "@jupyter-widgets/controls",
      "_model_module_version": "1.5.0",
      "_model_name": "HTMLModel",
      "_view_count": null,
      "_view_module": "@jupyter-widgets/controls",
      "_view_module_version": "1.5.0",
      "_view_name": "HTMLView",
      "description": "",
      "description_tooltip": null,
      "layout": "IPY_MODEL_e40b1e6e293f4d71a9b814d99b1fc2b6",
      "placeholder": "​",
      "style": "IPY_MODEL_1447bb34637e413c9c0bc8166e74c691",
      "value": " 456k/456k [00:00&lt;00:00, 29.7MB/s]"
     }
    },
    "57519aa649ec4b129a979528e1a041cd": {
     "model_module": "@jupyter-widgets/base",
     "model_module_version": "1.2.0",
     "model_name": "LayoutModel",
     "state": {
      "_model_module": "@jupyter-widgets/base",
      "_model_module_version": "1.2.0",
      "_model_name": "LayoutModel",
      "_view_count": null,
      "_view_module": "@jupyter-widgets/base",
      "_view_module_version": "1.2.0",
      "_view_name": "LayoutView",
      "align_content": null,
      "align_items": null,
      "align_self": null,
      "border": null,
      "bottom": null,
      "display": null,
      "flex": null,
      "flex_flow": null,
      "grid_area": null,
      "grid_auto_columns": null,
      "grid_auto_flow": null,
      "grid_auto_rows": null,
      "grid_column": null,
      "grid_gap": null,
      "grid_row": null,
      "grid_template_areas": null,
      "grid_template_columns": null,
      "grid_template_rows": null,
      "height": null,
      "justify_content": null,
      "justify_items": null,
      "left": null,
      "margin": null,
      "max_height": null,
      "max_width": null,
      "min_height": null,
      "min_width": null,
      "object_fit": null,
      "object_position": null,
      "order": null,
      "overflow": null,
      "overflow_x": null,
      "overflow_y": null,
      "padding": null,
      "right": null,
      "top": null,
      "visibility": null,
      "width": null
     }
    },
    "5910bd6ce5ec4dbeb07dcb988d136cfa": {
     "model_module": "@jupyter-widgets/controls",
     "model_module_version": "1.5.0",
     "model_name": "DescriptionStyleModel",
     "state": {
      "_model_module": "@jupyter-widgets/controls",
      "_model_module_version": "1.5.0",
      "_model_name": "DescriptionStyleModel",
      "_view_count": null,
      "_view_module": "@jupyter-widgets/base",
      "_view_module_version": "1.2.0",
      "_view_name": "StyleView",
      "description_width": ""
     }
    },
    "5911b2fcfc5643468da3a30407d8bcfe": {
     "model_module": "@jupyter-widgets/controls",
     "model_module_version": "1.5.0",
     "model_name": "ProgressStyleModel",
     "state": {
      "_model_module": "@jupyter-widgets/controls",
      "_model_module_version": "1.5.0",
      "_model_name": "ProgressStyleModel",
      "_view_count": null,
      "_view_module": "@jupyter-widgets/base",
      "_view_module_version": "1.2.0",
      "_view_name": "StyleView",
      "bar_color": null,
      "description_width": ""
     }
    },
    "5b0fb1c4e92744f2a19b5331a05f94f4": {
     "model_module": "@jupyter-widgets/controls",
     "model_module_version": "1.5.0",
     "model_name": "HTMLModel",
     "state": {
      "_dom_classes": [],
      "_model_module": "@jupyter-widgets/controls",
      "_model_module_version": "1.5.0",
      "_model_name": "HTMLModel",
      "_view_count": null,
      "_view_module": "@jupyter-widgets/controls",
      "_view_module_version": "1.5.0",
      "_view_name": "HTMLView",
      "description": "",
      "description_tooltip": null,
      "layout": "IPY_MODEL_1b0507b8c33b4a04be82e07bbea8c721",
      "placeholder": "​",
      "style": "IPY_MODEL_71eceaad12eb43aeb3d852a0dba99499",
      "value": "100%"
     }
    },
    "5becbc14adf34a12a3cb89aff2c384b4": {
     "model_module": "@jupyter-widgets/base",
     "model_module_version": "1.2.0",
     "model_name": "LayoutModel",
     "state": {
      "_model_module": "@jupyter-widgets/base",
      "_model_module_version": "1.2.0",
      "_model_name": "LayoutModel",
      "_view_count": null,
      "_view_module": "@jupyter-widgets/base",
      "_view_module_version": "1.2.0",
      "_view_name": "LayoutView",
      "align_content": null,
      "align_items": null,
      "align_self": null,
      "border": null,
      "bottom": null,
      "display": null,
      "flex": null,
      "flex_flow": null,
      "grid_area": null,
      "grid_auto_columns": null,
      "grid_auto_flow": null,
      "grid_auto_rows": null,
      "grid_column": null,
      "grid_gap": null,
      "grid_row": null,
      "grid_template_areas": null,
      "grid_template_columns": null,
      "grid_template_rows": null,
      "height": null,
      "justify_content": null,
      "justify_items": null,
      "left": null,
      "margin": null,
      "max_height": null,
      "max_width": null,
      "min_height": null,
      "min_width": null,
      "object_fit": null,
      "object_position": null,
      "order": null,
      "overflow": null,
      "overflow_x": null,
      "overflow_y": null,
      "padding": null,
      "right": null,
      "top": null,
      "visibility": null,
      "width": null
     }
    },
    "5cb558765dfa476ba60c21e8f56581a5": {
     "model_module": "@jupyter-widgets/controls",
     "model_module_version": "1.5.0",
     "model_name": "HBoxModel",
     "state": {
      "_dom_classes": [],
      "_model_module": "@jupyter-widgets/controls",
      "_model_module_version": "1.5.0",
      "_model_name": "HBoxModel",
      "_view_count": null,
      "_view_module": "@jupyter-widgets/controls",
      "_view_module_version": "1.5.0",
      "_view_name": "HBoxView",
      "box_style": "",
      "children": [
       "IPY_MODEL_0bb4cff8c9fe4dc28140f911cf47a539",
       "IPY_MODEL_22434236ecb1429c95785d4ebf9a3ef4",
       "IPY_MODEL_52081c766ea44f9aa6d5397226124fb2"
      ],
      "layout": "IPY_MODEL_a54d658349754b209e91cdb2384544ee"
     }
    },
    "5d61bad877dd40efaa1c038786352fda": {
     "model_module": "@jupyter-widgets/controls",
     "model_module_version": "1.5.0",
     "model_name": "DescriptionStyleModel",
     "state": {
      "_model_module": "@jupyter-widgets/controls",
      "_model_module_version": "1.5.0",
      "_model_name": "DescriptionStyleModel",
      "_view_count": null,
      "_view_module": "@jupyter-widgets/base",
      "_view_module_version": "1.2.0",
      "_view_name": "StyleView",
      "description_width": ""
     }
    },
    "5d94a783e671448b9f7e5e0ef9c2bbfe": {
     "model_module": "@jupyter-widgets/controls",
     "model_module_version": "1.5.0",
     "model_name": "ProgressStyleModel",
     "state": {
      "_model_module": "@jupyter-widgets/controls",
      "_model_module_version": "1.5.0",
      "_model_name": "ProgressStyleModel",
      "_view_count": null,
      "_view_module": "@jupyter-widgets/base",
      "_view_module_version": "1.2.0",
      "_view_name": "StyleView",
      "bar_color": null,
      "description_width": ""
     }
    },
    "5eb878a05d454b81ae8acdba2cfbb111": {
     "model_module": "@jupyter-widgets/controls",
     "model_module_version": "1.5.0",
     "model_name": "HTMLModel",
     "state": {
      "_dom_classes": [],
      "_model_module": "@jupyter-widgets/controls",
      "_model_module_version": "1.5.0",
      "_model_name": "HTMLModel",
      "_view_count": null,
      "_view_module": "@jupyter-widgets/controls",
      "_view_module_version": "1.5.0",
      "_view_name": "HTMLView",
      "description": "",
      "description_tooltip": null,
      "layout": "IPY_MODEL_8a3490f008f4436c98ee0bfbeba94f74",
      "placeholder": "​",
      "style": "IPY_MODEL_063839c1882c4ccbbc032189524de14f",
      "value": " 747/747 [00:00&lt;00:00, 82.6kB/s]"
     }
    },
    "603e1f863be84661bc6c151a91baa467": {
     "model_module": "@jupyter-widgets/controls",
     "model_module_version": "1.5.0",
     "model_name": "ProgressStyleModel",
     "state": {
      "_model_module": "@jupyter-widgets/controls",
      "_model_module_version": "1.5.0",
      "_model_name": "ProgressStyleModel",
      "_view_count": null,
      "_view_module": "@jupyter-widgets/base",
      "_view_module_version": "1.2.0",
      "_view_name": "StyleView",
      "bar_color": null,
      "description_width": ""
     }
    },
    "6304435a71ea4785b1837114147bbb9f": {
     "model_module": "@jupyter-widgets/controls",
     "model_module_version": "1.5.0",
     "model_name": "DescriptionStyleModel",
     "state": {
      "_model_module": "@jupyter-widgets/controls",
      "_model_module_version": "1.5.0",
      "_model_name": "DescriptionStyleModel",
      "_view_count": null,
      "_view_module": "@jupyter-widgets/base",
      "_view_module_version": "1.2.0",
      "_view_name": "StyleView",
      "description_width": ""
     }
    },
    "71539a8fc6264b8fab88ac91d26d395e": {
     "model_module": "@jupyter-widgets/base",
     "model_module_version": "1.2.0",
     "model_name": "LayoutModel",
     "state": {
      "_model_module": "@jupyter-widgets/base",
      "_model_module_version": "1.2.0",
      "_model_name": "LayoutModel",
      "_view_count": null,
      "_view_module": "@jupyter-widgets/base",
      "_view_module_version": "1.2.0",
      "_view_name": "LayoutView",
      "align_content": null,
      "align_items": null,
      "align_self": null,
      "border": null,
      "bottom": null,
      "display": null,
      "flex": null,
      "flex_flow": null,
      "grid_area": null,
      "grid_auto_columns": null,
      "grid_auto_flow": null,
      "grid_auto_rows": null,
      "grid_column": null,
      "grid_gap": null,
      "grid_row": null,
      "grid_template_areas": null,
      "grid_template_columns": null,
      "grid_template_rows": null,
      "height": null,
      "justify_content": null,
      "justify_items": null,
      "left": null,
      "margin": null,
      "max_height": null,
      "max_width": null,
      "min_height": null,
      "min_width": null,
      "object_fit": null,
      "object_position": null,
      "order": null,
      "overflow": null,
      "overflow_x": null,
      "overflow_y": null,
      "padding": null,
      "right": null,
      "top": null,
      "visibility": null,
      "width": null
     }
    },
    "71eceaad12eb43aeb3d852a0dba99499": {
     "model_module": "@jupyter-widgets/controls",
     "model_module_version": "1.5.0",
     "model_name": "DescriptionStyleModel",
     "state": {
      "_model_module": "@jupyter-widgets/controls",
      "_model_module_version": "1.5.0",
      "_model_name": "DescriptionStyleModel",
      "_view_count": null,
      "_view_module": "@jupyter-widgets/base",
      "_view_module_version": "1.2.0",
      "_view_name": "StyleView",
      "description_width": ""
     }
    },
    "722baa57507f499da43fd2657bbfd243": {
     "model_module": "@jupyter-widgets/controls",
     "model_module_version": "1.5.0",
     "model_name": "HTMLModel",
     "state": {
      "_dom_classes": [],
      "_model_module": "@jupyter-widgets/controls",
      "_model_module_version": "1.5.0",
      "_model_name": "HTMLModel",
      "_view_count": null,
      "_view_module": "@jupyter-widgets/controls",
      "_view_module_version": "1.5.0",
      "_view_name": "HTMLView",
      "description": "",
      "description_tooltip": null,
      "layout": "IPY_MODEL_df179eae8dca4f60b2d67db032e3371b",
      "placeholder": "​",
      "style": "IPY_MODEL_d8c159a0b6754d01aa4a602939eba69a",
      "value": "Downloading (…)olve/main/vocab.json: 100%"
     }
    },
    "72c3fc14bab8432a99de3658aaf4ff68": {
     "model_module": "@jupyter-widgets/base",
     "model_module_version": "1.2.0",
     "model_name": "LayoutModel",
     "state": {
      "_model_module": "@jupyter-widgets/base",
      "_model_module_version": "1.2.0",
      "_model_name": "LayoutModel",
      "_view_count": null,
      "_view_module": "@jupyter-widgets/base",
      "_view_module_version": "1.2.0",
      "_view_name": "LayoutView",
      "align_content": null,
      "align_items": null,
      "align_self": null,
      "border": null,
      "bottom": null,
      "display": null,
      "flex": null,
      "flex_flow": null,
      "grid_area": null,
      "grid_auto_columns": null,
      "grid_auto_flow": null,
      "grid_auto_rows": null,
      "grid_column": null,
      "grid_gap": null,
      "grid_row": null,
      "grid_template_areas": null,
      "grid_template_columns": null,
      "grid_template_rows": null,
      "height": null,
      "justify_content": null,
      "justify_items": null,
      "left": null,
      "margin": null,
      "max_height": null,
      "max_width": null,
      "min_height": null,
      "min_width": null,
      "object_fit": null,
      "object_position": null,
      "order": null,
      "overflow": null,
      "overflow_x": null,
      "overflow_y": null,
      "padding": null,
      "right": null,
      "top": null,
      "visibility": null,
      "width": null
     }
    },
    "74a35109309344df9fff0dab0e1da3eb": {
     "model_module": "@jupyter-widgets/controls",
     "model_module_version": "1.5.0",
     "model_name": "HBoxModel",
     "state": {
      "_dom_classes": [],
      "_model_module": "@jupyter-widgets/controls",
      "_model_module_version": "1.5.0",
      "_model_name": "HBoxModel",
      "_view_count": null,
      "_view_module": "@jupyter-widgets/controls",
      "_view_module_version": "1.5.0",
      "_view_name": "HBoxView",
      "box_style": "",
      "children": [
       "IPY_MODEL_efdd58eda5f54cb3ad6b98f7ed290986",
       "IPY_MODEL_32bc848c08584e9bb6a98eef4436c20e",
       "IPY_MODEL_20d8fcba9c974e4cbb7ffd7d1d9203bf"
      ],
      "layout": "IPY_MODEL_8570da664c1f4bb0bad44d621515cd56"
     }
    },
    "75da276cecbf4888a2f01b4ecb1afa5c": {
     "model_module": "@jupyter-widgets/base",
     "model_module_version": "1.2.0",
     "model_name": "LayoutModel",
     "state": {
      "_model_module": "@jupyter-widgets/base",
      "_model_module_version": "1.2.0",
      "_model_name": "LayoutModel",
      "_view_count": null,
      "_view_module": "@jupyter-widgets/base",
      "_view_module_version": "1.2.0",
      "_view_name": "LayoutView",
      "align_content": null,
      "align_items": null,
      "align_self": null,
      "border": null,
      "bottom": null,
      "display": null,
      "flex": null,
      "flex_flow": null,
      "grid_area": null,
      "grid_auto_columns": null,
      "grid_auto_flow": null,
      "grid_auto_rows": null,
      "grid_column": null,
      "grid_gap": null,
      "grid_row": null,
      "grid_template_areas": null,
      "grid_template_columns": null,
      "grid_template_rows": null,
      "height": null,
      "justify_content": null,
      "justify_items": null,
      "left": null,
      "margin": null,
      "max_height": null,
      "max_width": null,
      "min_height": null,
      "min_width": null,
      "object_fit": null,
      "object_position": null,
      "order": null,
      "overflow": null,
      "overflow_x": null,
      "overflow_y": null,
      "padding": null,
      "right": null,
      "top": null,
      "visibility": null,
      "width": null
     }
    },
    "775fb24aca1d4fd6864906a7992ce735": {
     "model_module": "@jupyter-widgets/base",
     "model_module_version": "1.2.0",
     "model_name": "LayoutModel",
     "state": {
      "_model_module": "@jupyter-widgets/base",
      "_model_module_version": "1.2.0",
      "_model_name": "LayoutModel",
      "_view_count": null,
      "_view_module": "@jupyter-widgets/base",
      "_view_module_version": "1.2.0",
      "_view_name": "LayoutView",
      "align_content": null,
      "align_items": null,
      "align_self": null,
      "border": null,
      "bottom": null,
      "display": null,
      "flex": null,
      "flex_flow": null,
      "grid_area": null,
      "grid_auto_columns": null,
      "grid_auto_flow": null,
      "grid_auto_rows": null,
      "grid_column": null,
      "grid_gap": null,
      "grid_row": null,
      "grid_template_areas": null,
      "grid_template_columns": null,
      "grid_template_rows": null,
      "height": null,
      "justify_content": null,
      "justify_items": null,
      "left": null,
      "margin": null,
      "max_height": null,
      "max_width": null,
      "min_height": null,
      "min_width": null,
      "object_fit": null,
      "object_position": null,
      "order": null,
      "overflow": null,
      "overflow_x": null,
      "overflow_y": null,
      "padding": null,
      "right": null,
      "top": null,
      "visibility": null,
      "width": null
     }
    },
    "787a330eae3249a7aff77c67957ddf21": {
     "model_module": "@jupyter-widgets/controls",
     "model_module_version": "1.5.0",
     "model_name": "DescriptionStyleModel",
     "state": {
      "_model_module": "@jupyter-widgets/controls",
      "_model_module_version": "1.5.0",
      "_model_name": "DescriptionStyleModel",
      "_view_count": null,
      "_view_module": "@jupyter-widgets/base",
      "_view_module_version": "1.2.0",
      "_view_name": "StyleView",
      "description_width": ""
     }
    },
    "7bd4fe81e52e45d0879c0cadfbe4fcb5": {
     "model_module": "@jupyter-widgets/base",
     "model_module_version": "1.2.0",
     "model_name": "LayoutModel",
     "state": {
      "_model_module": "@jupyter-widgets/base",
      "_model_module_version": "1.2.0",
      "_model_name": "LayoutModel",
      "_view_count": null,
      "_view_module": "@jupyter-widgets/base",
      "_view_module_version": "1.2.0",
      "_view_name": "LayoutView",
      "align_content": null,
      "align_items": null,
      "align_self": null,
      "border": null,
      "bottom": null,
      "display": null,
      "flex": null,
      "flex_flow": null,
      "grid_area": null,
      "grid_auto_columns": null,
      "grid_auto_flow": null,
      "grid_auto_rows": null,
      "grid_column": null,
      "grid_gap": null,
      "grid_row": null,
      "grid_template_areas": null,
      "grid_template_columns": null,
      "grid_template_rows": null,
      "height": null,
      "justify_content": null,
      "justify_items": null,
      "left": null,
      "margin": null,
      "max_height": null,
      "max_width": null,
      "min_height": null,
      "min_width": null,
      "object_fit": null,
      "object_position": null,
      "order": null,
      "overflow": null,
      "overflow_x": null,
      "overflow_y": null,
      "padding": null,
      "right": null,
      "top": null,
      "visibility": null,
      "width": null
     }
    },
    "7c82926c5ecf4fc985a92b6a05834776": {
     "model_module": "@jupyter-widgets/base",
     "model_module_version": "1.2.0",
     "model_name": "LayoutModel",
     "state": {
      "_model_module": "@jupyter-widgets/base",
      "_model_module_version": "1.2.0",
      "_model_name": "LayoutModel",
      "_view_count": null,
      "_view_module": "@jupyter-widgets/base",
      "_view_module_version": "1.2.0",
      "_view_name": "LayoutView",
      "align_content": null,
      "align_items": null,
      "align_self": null,
      "border": null,
      "bottom": null,
      "display": null,
      "flex": null,
      "flex_flow": null,
      "grid_area": null,
      "grid_auto_columns": null,
      "grid_auto_flow": null,
      "grid_auto_rows": null,
      "grid_column": null,
      "grid_gap": null,
      "grid_row": null,
      "grid_template_areas": null,
      "grid_template_columns": null,
      "grid_template_rows": null,
      "height": null,
      "justify_content": null,
      "justify_items": null,
      "left": null,
      "margin": null,
      "max_height": null,
      "max_width": null,
      "min_height": null,
      "min_width": null,
      "object_fit": null,
      "object_position": null,
      "order": null,
      "overflow": null,
      "overflow_x": null,
      "overflow_y": null,
      "padding": null,
      "right": null,
      "top": null,
      "visibility": null,
      "width": null
     }
    },
    "7cdca58699af4b67b78113a37391acdb": {
     "model_module": "@jupyter-widgets/base",
     "model_module_version": "1.2.0",
     "model_name": "LayoutModel",
     "state": {
      "_model_module": "@jupyter-widgets/base",
      "_model_module_version": "1.2.0",
      "_model_name": "LayoutModel",
      "_view_count": null,
      "_view_module": "@jupyter-widgets/base",
      "_view_module_version": "1.2.0",
      "_view_name": "LayoutView",
      "align_content": null,
      "align_items": null,
      "align_self": null,
      "border": null,
      "bottom": null,
      "display": null,
      "flex": null,
      "flex_flow": null,
      "grid_area": null,
      "grid_auto_columns": null,
      "grid_auto_flow": null,
      "grid_auto_rows": null,
      "grid_column": null,
      "grid_gap": null,
      "grid_row": null,
      "grid_template_areas": null,
      "grid_template_columns": null,
      "grid_template_rows": null,
      "height": null,
      "justify_content": null,
      "justify_items": null,
      "left": null,
      "margin": null,
      "max_height": null,
      "max_width": null,
      "min_height": null,
      "min_width": null,
      "object_fit": null,
      "object_position": null,
      "order": null,
      "overflow": null,
      "overflow_x": null,
      "overflow_y": null,
      "padding": null,
      "right": null,
      "top": null,
      "visibility": null,
      "width": null
     }
    },
    "7e0901f0fc5e47c5a79afe6d016e818a": {
     "model_module": "@jupyter-widgets/controls",
     "model_module_version": "1.5.0",
     "model_name": "HTMLModel",
     "state": {
      "_dom_classes": [],
      "_model_module": "@jupyter-widgets/controls",
      "_model_module_version": "1.5.0",
      "_model_name": "HTMLModel",
      "_view_count": null,
      "_view_module": "@jupyter-widgets/controls",
      "_view_module_version": "1.5.0",
      "_view_name": "HTMLView",
      "description": "",
      "description_tooltip": null,
      "layout": "IPY_MODEL_71539a8fc6264b8fab88ac91d26d395e",
      "placeholder": "​",
      "style": "IPY_MODEL_8ab8d177dcb741bebbda246e1b86f08f",
      "value": " 150/150 [00:00&lt;00:00, 11.1kB/s]"
     }
    },
    "804d8d751fce4533aaf4255d53c79995": {
     "model_module": "@jupyter-widgets/base",
     "model_module_version": "1.2.0",
     "model_name": "LayoutModel",
     "state": {
      "_model_module": "@jupyter-widgets/base",
      "_model_module_version": "1.2.0",
      "_model_name": "LayoutModel",
      "_view_count": null,
      "_view_module": "@jupyter-widgets/base",
      "_view_module_version": "1.2.0",
      "_view_name": "LayoutView",
      "align_content": null,
      "align_items": null,
      "align_self": null,
      "border": null,
      "bottom": null,
      "display": null,
      "flex": null,
      "flex_flow": null,
      "grid_area": null,
      "grid_auto_columns": null,
      "grid_auto_flow": null,
      "grid_auto_rows": null,
      "grid_column": null,
      "grid_gap": null,
      "grid_row": null,
      "grid_template_areas": null,
      "grid_template_columns": null,
      "grid_template_rows": null,
      "height": null,
      "justify_content": null,
      "justify_items": null,
      "left": null,
      "margin": null,
      "max_height": null,
      "max_width": null,
      "min_height": null,
      "min_width": null,
      "object_fit": null,
      "object_position": null,
      "order": null,
      "overflow": null,
      "overflow_x": null,
      "overflow_y": null,
      "padding": null,
      "right": null,
      "top": null,
      "visibility": null,
      "width": null
     }
    },
    "8570da664c1f4bb0bad44d621515cd56": {
     "model_module": "@jupyter-widgets/base",
     "model_module_version": "1.2.0",
     "model_name": "LayoutModel",
     "state": {
      "_model_module": "@jupyter-widgets/base",
      "_model_module_version": "1.2.0",
      "_model_name": "LayoutModel",
      "_view_count": null,
      "_view_module": "@jupyter-widgets/base",
      "_view_module_version": "1.2.0",
      "_view_name": "LayoutView",
      "align_content": null,
      "align_items": null,
      "align_self": null,
      "border": null,
      "bottom": null,
      "display": null,
      "flex": null,
      "flex_flow": null,
      "grid_area": null,
      "grid_auto_columns": null,
      "grid_auto_flow": null,
      "grid_auto_rows": null,
      "grid_column": null,
      "grid_gap": null,
      "grid_row": null,
      "grid_template_areas": null,
      "grid_template_columns": null,
      "grid_template_rows": null,
      "height": null,
      "justify_content": null,
      "justify_items": null,
      "left": null,
      "margin": null,
      "max_height": null,
      "max_width": null,
      "min_height": null,
      "min_width": null,
      "object_fit": null,
      "object_position": null,
      "order": null,
      "overflow": null,
      "overflow_x": null,
      "overflow_y": null,
      "padding": null,
      "right": null,
      "top": null,
      "visibility": null,
      "width": null
     }
    },
    "876a387f9db84b6c86935cdd2312ff92": {
     "model_module": "@jupyter-widgets/controls",
     "model_module_version": "1.5.0",
     "model_name": "HTMLModel",
     "state": {
      "_dom_classes": [],
      "_model_module": "@jupyter-widgets/controls",
      "_model_module_version": "1.5.0",
      "_model_name": "HTMLModel",
      "_view_count": null,
      "_view_module": "@jupyter-widgets/controls",
      "_view_module_version": "1.5.0",
      "_view_name": "HTMLView",
      "description": "",
      "description_tooltip": null,
      "layout": "IPY_MODEL_e9c0998cc72241e4867dcd23d7065c2b",
      "placeholder": "​",
      "style": "IPY_MODEL_d5f869684c0747c18f605ea4338fb4a8",
      "value": "Downloading (…)cial_tokens_map.json: 100%"
     }
    },
    "88684084578e407091e6465578bab3bb": {
     "model_module": "@jupyter-widgets/base",
     "model_module_version": "1.2.0",
     "model_name": "LayoutModel",
     "state": {
      "_model_module": "@jupyter-widgets/base",
      "_model_module_version": "1.2.0",
      "_model_name": "LayoutModel",
      "_view_count": null,
      "_view_module": "@jupyter-widgets/base",
      "_view_module_version": "1.2.0",
      "_view_name": "LayoutView",
      "align_content": null,
      "align_items": null,
      "align_self": null,
      "border": null,
      "bottom": null,
      "display": null,
      "flex": null,
      "flex_flow": null,
      "grid_area": null,
      "grid_auto_columns": null,
      "grid_auto_flow": null,
      "grid_auto_rows": null,
      "grid_column": null,
      "grid_gap": null,
      "grid_row": null,
      "grid_template_areas": null,
      "grid_template_columns": null,
      "grid_template_rows": null,
      "height": null,
      "justify_content": null,
      "justify_items": null,
      "left": null,
      "margin": null,
      "max_height": null,
      "max_width": null,
      "min_height": null,
      "min_width": null,
      "object_fit": null,
      "object_position": null,
      "order": null,
      "overflow": null,
      "overflow_x": null,
      "overflow_y": null,
      "padding": null,
      "right": null,
      "top": null,
      "visibility": null,
      "width": null
     }
    },
    "887c6bd270ab479da7f9297b0d22c591": {
     "model_module": "@jupyter-widgets/controls",
     "model_module_version": "1.5.0",
     "model_name": "HBoxModel",
     "state": {
      "_dom_classes": [],
      "_model_module": "@jupyter-widgets/controls",
      "_model_module_version": "1.5.0",
      "_model_name": "HBoxModel",
      "_view_count": null,
      "_view_module": "@jupyter-widgets/controls",
      "_view_module_version": "1.5.0",
      "_view_name": "HBoxView",
      "box_style": "",
      "children": [
       "IPY_MODEL_3549d7dc3f39469e97696285b4fa497a",
       "IPY_MODEL_ba71f4f54f5a40168f411ecbc0ac1243",
       "IPY_MODEL_50b5949f59ce474c840529bac2860cd1"
      ],
      "layout": "IPY_MODEL_88684084578e407091e6465578bab3bb"
     }
    },
    "88e53c8a4557498e88b2969aba2e2cde": {
     "model_module": "@jupyter-widgets/base",
     "model_module_version": "1.2.0",
     "model_name": "LayoutModel",
     "state": {
      "_model_module": "@jupyter-widgets/base",
      "_model_module_version": "1.2.0",
      "_model_name": "LayoutModel",
      "_view_count": null,
      "_view_module": "@jupyter-widgets/base",
      "_view_module_version": "1.2.0",
      "_view_name": "LayoutView",
      "align_content": null,
      "align_items": null,
      "align_self": null,
      "border": null,
      "bottom": null,
      "display": null,
      "flex": null,
      "flex_flow": null,
      "grid_area": null,
      "grid_auto_columns": null,
      "grid_auto_flow": null,
      "grid_auto_rows": null,
      "grid_column": null,
      "grid_gap": null,
      "grid_row": null,
      "grid_template_areas": null,
      "grid_template_columns": null,
      "grid_template_rows": null,
      "height": null,
      "justify_content": null,
      "justify_items": null,
      "left": null,
      "margin": null,
      "max_height": null,
      "max_width": null,
      "min_height": null,
      "min_width": null,
      "object_fit": null,
      "object_position": null,
      "order": null,
      "overflow": null,
      "overflow_x": null,
      "overflow_y": null,
      "padding": null,
      "right": null,
      "top": null,
      "visibility": null,
      "width": null
     }
    },
    "8a3490f008f4436c98ee0bfbeba94f74": {
     "model_module": "@jupyter-widgets/base",
     "model_module_version": "1.2.0",
     "model_name": "LayoutModel",
     "state": {
      "_model_module": "@jupyter-widgets/base",
      "_model_module_version": "1.2.0",
      "_model_name": "LayoutModel",
      "_view_count": null,
      "_view_module": "@jupyter-widgets/base",
      "_view_module_version": "1.2.0",
      "_view_name": "LayoutView",
      "align_content": null,
      "align_items": null,
      "align_self": null,
      "border": null,
      "bottom": null,
      "display": null,
      "flex": null,
      "flex_flow": null,
      "grid_area": null,
      "grid_auto_columns": null,
      "grid_auto_flow": null,
      "grid_auto_rows": null,
      "grid_column": null,
      "grid_gap": null,
      "grid_row": null,
      "grid_template_areas": null,
      "grid_template_columns": null,
      "grid_template_rows": null,
      "height": null,
      "justify_content": null,
      "justify_items": null,
      "left": null,
      "margin": null,
      "max_height": null,
      "max_width": null,
      "min_height": null,
      "min_width": null,
      "object_fit": null,
      "object_position": null,
      "order": null,
      "overflow": null,
      "overflow_x": null,
      "overflow_y": null,
      "padding": null,
      "right": null,
      "top": null,
      "visibility": null,
      "width": null
     }
    },
    "8ab8d177dcb741bebbda246e1b86f08f": {
     "model_module": "@jupyter-widgets/controls",
     "model_module_version": "1.5.0",
     "model_name": "DescriptionStyleModel",
     "state": {
      "_model_module": "@jupyter-widgets/controls",
      "_model_module_version": "1.5.0",
      "_model_name": "DescriptionStyleModel",
      "_view_count": null,
      "_view_module": "@jupyter-widgets/base",
      "_view_module_version": "1.2.0",
      "_view_name": "StyleView",
      "description_width": ""
     }
    },
    "8d37be83c495444d951cfcb4f81100c0": {
     "model_module": "@jupyter-widgets/controls",
     "model_module_version": "1.5.0",
     "model_name": "DescriptionStyleModel",
     "state": {
      "_model_module": "@jupyter-widgets/controls",
      "_model_module_version": "1.5.0",
      "_model_name": "DescriptionStyleModel",
      "_view_count": null,
      "_view_module": "@jupyter-widgets/base",
      "_view_module_version": "1.2.0",
      "_view_name": "StyleView",
      "description_width": ""
     }
    },
    "90ac1445b826408491b4f19f9f7769c8": {
     "model_module": "@jupyter-widgets/controls",
     "model_module_version": "1.5.0",
     "model_name": "FloatProgressModel",
     "state": {
      "_dom_classes": [],
      "_model_module": "@jupyter-widgets/controls",
      "_model_module_version": "1.5.0",
      "_model_name": "FloatProgressModel",
      "_view_count": null,
      "_view_module": "@jupyter-widgets/controls",
      "_view_module_version": "1.5.0",
      "_view_name": "ProgressView",
      "bar_style": "success",
      "description": "",
      "description_tooltip": null,
      "layout": "IPY_MODEL_dbdb03a4c03b4d4f84b290fa0a580170",
      "max": 14175,
      "min": 0,
      "orientation": "horizontal",
      "style": "IPY_MODEL_94722cdd43ab435f903d43a17aac792a",
      "value": 14175
     }
    },
    "94722cdd43ab435f903d43a17aac792a": {
     "model_module": "@jupyter-widgets/controls",
     "model_module_version": "1.5.0",
     "model_name": "ProgressStyleModel",
     "state": {
      "_model_module": "@jupyter-widgets/controls",
      "_model_module_version": "1.5.0",
      "_model_name": "ProgressStyleModel",
      "_view_count": null,
      "_view_module": "@jupyter-widgets/base",
      "_view_module_version": "1.2.0",
      "_view_name": "StyleView",
      "bar_color": null,
      "description_width": ""
     }
    },
    "958f134ff518492f80903ec24188e39a": {
     "model_module": "@jupyter-widgets/controls",
     "model_module_version": "1.5.0",
     "model_name": "DescriptionStyleModel",
     "state": {
      "_model_module": "@jupyter-widgets/controls",
      "_model_module_version": "1.5.0",
      "_model_name": "DescriptionStyleModel",
      "_view_count": null,
      "_view_module": "@jupyter-widgets/base",
      "_view_module_version": "1.2.0",
      "_view_name": "StyleView",
      "description_width": ""
     }
    },
    "976abeb14698469f9e862af023ecf2eb": {
     "model_module": "@jupyter-widgets/base",
     "model_module_version": "1.2.0",
     "model_name": "LayoutModel",
     "state": {
      "_model_module": "@jupyter-widgets/base",
      "_model_module_version": "1.2.0",
      "_model_name": "LayoutModel",
      "_view_count": null,
      "_view_module": "@jupyter-widgets/base",
      "_view_module_version": "1.2.0",
      "_view_name": "LayoutView",
      "align_content": null,
      "align_items": null,
      "align_self": null,
      "border": null,
      "bottom": null,
      "display": null,
      "flex": null,
      "flex_flow": null,
      "grid_area": null,
      "grid_auto_columns": null,
      "grid_auto_flow": null,
      "grid_auto_rows": null,
      "grid_column": null,
      "grid_gap": null,
      "grid_row": null,
      "grid_template_areas": null,
      "grid_template_columns": null,
      "grid_template_rows": null,
      "height": null,
      "justify_content": null,
      "justify_items": null,
      "left": null,
      "margin": null,
      "max_height": null,
      "max_width": null,
      "min_height": null,
      "min_width": null,
      "object_fit": null,
      "object_position": null,
      "order": null,
      "overflow": null,
      "overflow_x": null,
      "overflow_y": null,
      "padding": null,
      "right": null,
      "top": null,
      "visibility": null,
      "width": null
     }
    },
    "99938cd909494966bbdefe8d42418f69": {
     "model_module": "@jupyter-widgets/controls",
     "model_module_version": "1.5.0",
     "model_name": "DescriptionStyleModel",
     "state": {
      "_model_module": "@jupyter-widgets/controls",
      "_model_module_version": "1.5.0",
      "_model_name": "DescriptionStyleModel",
      "_view_count": null,
      "_view_module": "@jupyter-widgets/base",
      "_view_module_version": "1.2.0",
      "_view_name": "StyleView",
      "description_width": ""
     }
    },
    "9aae0ef38b5f43639dcbe2b9055c55d3": {
     "model_module": "@jupyter-widgets/controls",
     "model_module_version": "1.5.0",
     "model_name": "FloatProgressModel",
     "state": {
      "_dom_classes": [],
      "_model_module": "@jupyter-widgets/controls",
      "_model_module_version": "1.5.0",
      "_model_name": "FloatProgressModel",
      "_view_count": null,
      "_view_module": "@jupyter-widgets/controls",
      "_view_module_version": "1.5.0",
      "_view_name": "ProgressView",
      "bar_style": "success",
      "description": "",
      "description_tooltip": null,
      "layout": "IPY_MODEL_09c010aa1be7462c896c3dab277f9a39",
      "max": 898822,
      "min": 0,
      "orientation": "horizontal",
      "style": "IPY_MODEL_603e1f863be84661bc6c151a91baa467",
      "value": 898822
     }
    },
    "a251df5b0db14208b3af288b05edc653": {
     "model_module": "@jupyter-widgets/controls",
     "model_module_version": "1.5.0",
     "model_name": "ProgressStyleModel",
     "state": {
      "_model_module": "@jupyter-widgets/controls",
      "_model_module_version": "1.5.0",
      "_model_name": "ProgressStyleModel",
      "_view_count": null,
      "_view_module": "@jupyter-widgets/base",
      "_view_module_version": "1.2.0",
      "_view_name": "StyleView",
      "bar_color": null,
      "description_width": ""
     }
    },
    "a54d658349754b209e91cdb2384544ee": {
     "model_module": "@jupyter-widgets/base",
     "model_module_version": "1.2.0",
     "model_name": "LayoutModel",
     "state": {
      "_model_module": "@jupyter-widgets/base",
      "_model_module_version": "1.2.0",
      "_model_name": "LayoutModel",
      "_view_count": null,
      "_view_module": "@jupyter-widgets/base",
      "_view_module_version": "1.2.0",
      "_view_name": "LayoutView",
      "align_content": null,
      "align_items": null,
      "align_self": null,
      "border": null,
      "bottom": null,
      "display": null,
      "flex": null,
      "flex_flow": null,
      "grid_area": null,
      "grid_auto_columns": null,
      "grid_auto_flow": null,
      "grid_auto_rows": null,
      "grid_column": null,
      "grid_gap": null,
      "grid_row": null,
      "grid_template_areas": null,
      "grid_template_columns": null,
      "grid_template_rows": null,
      "height": null,
      "justify_content": null,
      "justify_items": null,
      "left": null,
      "margin": null,
      "max_height": null,
      "max_width": null,
      "min_height": null,
      "min_width": null,
      "object_fit": null,
      "object_position": null,
      "order": null,
      "overflow": null,
      "overflow_x": null,
      "overflow_y": null,
      "padding": null,
      "right": null,
      "top": null,
      "visibility": null,
      "width": null
     }
    },
    "aa4198e67aab435bbf745a7e0e8ee5ac": {
     "model_module": "@jupyter-widgets/base",
     "model_module_version": "1.2.0",
     "model_name": "LayoutModel",
     "state": {
      "_model_module": "@jupyter-widgets/base",
      "_model_module_version": "1.2.0",
      "_model_name": "LayoutModel",
      "_view_count": null,
      "_view_module": "@jupyter-widgets/base",
      "_view_module_version": "1.2.0",
      "_view_name": "LayoutView",
      "align_content": null,
      "align_items": null,
      "align_self": null,
      "border": null,
      "bottom": null,
      "display": null,
      "flex": null,
      "flex_flow": null,
      "grid_area": null,
      "grid_auto_columns": null,
      "grid_auto_flow": null,
      "grid_auto_rows": null,
      "grid_column": null,
      "grid_gap": null,
      "grid_row": null,
      "grid_template_areas": null,
      "grid_template_columns": null,
      "grid_template_rows": null,
      "height": null,
      "justify_content": null,
      "justify_items": null,
      "left": null,
      "margin": null,
      "max_height": null,
      "max_width": null,
      "min_height": null,
      "min_width": null,
      "object_fit": null,
      "object_position": null,
      "order": null,
      "overflow": null,
      "overflow_x": null,
      "overflow_y": null,
      "padding": null,
      "right": null,
      "top": null,
      "visibility": null,
      "width": null
     }
    },
    "ac9e972021574e0497df0279b7df9758": {
     "model_module": "@jupyter-widgets/controls",
     "model_module_version": "1.5.0",
     "model_name": "HTMLModel",
     "state": {
      "_dom_classes": [],
      "_model_module": "@jupyter-widgets/controls",
      "_model_module_version": "1.5.0",
      "_model_name": "HTMLModel",
      "_view_count": null,
      "_view_module": "@jupyter-widgets/controls",
      "_view_module_version": "1.5.0",
      "_view_name": "HTMLView",
      "description": "",
      "description_tooltip": null,
      "layout": "IPY_MODEL_ce9953d41b66435ea5c9eaf9458160a3",
      "placeholder": "​",
      "style": "IPY_MODEL_5d61bad877dd40efaa1c038786352fda",
      "value": " 14175/14175 [00:01&lt;00:00, 7816.65it/s]"
     }
    },
    "b0a2537feed6468890361b618b8236ee": {
     "model_module": "@jupyter-widgets/base",
     "model_module_version": "1.2.0",
     "model_name": "LayoutModel",
     "state": {
      "_model_module": "@jupyter-widgets/base",
      "_model_module_version": "1.2.0",
      "_model_name": "LayoutModel",
      "_view_count": null,
      "_view_module": "@jupyter-widgets/base",
      "_view_module_version": "1.2.0",
      "_view_name": "LayoutView",
      "align_content": null,
      "align_items": null,
      "align_self": null,
      "border": null,
      "bottom": null,
      "display": null,
      "flex": null,
      "flex_flow": null,
      "grid_area": null,
      "grid_auto_columns": null,
      "grid_auto_flow": null,
      "grid_auto_rows": null,
      "grid_column": null,
      "grid_gap": null,
      "grid_row": null,
      "grid_template_areas": null,
      "grid_template_columns": null,
      "grid_template_rows": null,
      "height": null,
      "justify_content": null,
      "justify_items": null,
      "left": null,
      "margin": null,
      "max_height": null,
      "max_width": null,
      "min_height": null,
      "min_width": null,
      "object_fit": null,
      "object_position": null,
      "order": null,
      "overflow": null,
      "overflow_x": null,
      "overflow_y": null,
      "padding": null,
      "right": null,
      "top": null,
      "visibility": null,
      "width": null
     }
    },
    "b20d84017f1e4980ba100dd8ea291cf4": {
     "model_module": "@jupyter-widgets/base",
     "model_module_version": "1.2.0",
     "model_name": "LayoutModel",
     "state": {
      "_model_module": "@jupyter-widgets/base",
      "_model_module_version": "1.2.0",
      "_model_name": "LayoutModel",
      "_view_count": null,
      "_view_module": "@jupyter-widgets/base",
      "_view_module_version": "1.2.0",
      "_view_name": "LayoutView",
      "align_content": null,
      "align_items": null,
      "align_self": null,
      "border": null,
      "bottom": null,
      "display": null,
      "flex": null,
      "flex_flow": null,
      "grid_area": null,
      "grid_auto_columns": null,
      "grid_auto_flow": null,
      "grid_auto_rows": null,
      "grid_column": null,
      "grid_gap": null,
      "grid_row": null,
      "grid_template_areas": null,
      "grid_template_columns": null,
      "grid_template_rows": null,
      "height": null,
      "justify_content": null,
      "justify_items": null,
      "left": null,
      "margin": null,
      "max_height": null,
      "max_width": null,
      "min_height": null,
      "min_width": null,
      "object_fit": null,
      "object_position": null,
      "order": null,
      "overflow": null,
      "overflow_x": null,
      "overflow_y": null,
      "padding": null,
      "right": null,
      "top": null,
      "visibility": null,
      "width": null
     }
    },
    "ba71f4f54f5a40168f411ecbc0ac1243": {
     "model_module": "@jupyter-widgets/controls",
     "model_module_version": "1.5.0",
     "model_name": "FloatProgressModel",
     "state": {
      "_dom_classes": [],
      "_model_module": "@jupyter-widgets/controls",
      "_model_module_version": "1.5.0",
      "_model_name": "FloatProgressModel",
      "_view_count": null,
      "_view_module": "@jupyter-widgets/controls",
      "_view_module_version": "1.5.0",
      "_view_name": "ProgressView",
      "bar_style": "success",
      "description": "",
      "description_tooltip": null,
      "layout": "IPY_MODEL_0a95a8e46d7d4ad09c7ac084146fbb50",
      "max": 14175,
      "min": 0,
      "orientation": "horizontal",
      "style": "IPY_MODEL_a251df5b0db14208b3af288b05edc653",
      "value": 14175
     }
    },
    "ca77130fcdc54cca8247131204b98ba9": {
     "model_module": "@jupyter-widgets/controls",
     "model_module_version": "1.5.0",
     "model_name": "ProgressStyleModel",
     "state": {
      "_model_module": "@jupyter-widgets/controls",
      "_model_module_version": "1.5.0",
      "_model_name": "ProgressStyleModel",
      "_view_count": null,
      "_view_module": "@jupyter-widgets/base",
      "_view_module_version": "1.2.0",
      "_view_name": "StyleView",
      "bar_color": null,
      "description_width": ""
     }
    },
    "ce9953d41b66435ea5c9eaf9458160a3": {
     "model_module": "@jupyter-widgets/base",
     "model_module_version": "1.2.0",
     "model_name": "LayoutModel",
     "state": {
      "_model_module": "@jupyter-widgets/base",
      "_model_module_version": "1.2.0",
      "_model_name": "LayoutModel",
      "_view_count": null,
      "_view_module": "@jupyter-widgets/base",
      "_view_module_version": "1.2.0",
      "_view_name": "LayoutView",
      "align_content": null,
      "align_items": null,
      "align_self": null,
      "border": null,
      "bottom": null,
      "display": null,
      "flex": null,
      "flex_flow": null,
      "grid_area": null,
      "grid_auto_columns": null,
      "grid_auto_flow": null,
      "grid_auto_rows": null,
      "grid_column": null,
      "grid_gap": null,
      "grid_row": null,
      "grid_template_areas": null,
      "grid_template_columns": null,
      "grid_template_rows": null,
      "height": null,
      "justify_content": null,
      "justify_items": null,
      "left": null,
      "margin": null,
      "max_height": null,
      "max_width": null,
      "min_height": null,
      "min_width": null,
      "object_fit": null,
      "object_position": null,
      "order": null,
      "overflow": null,
      "overflow_x": null,
      "overflow_y": null,
      "padding": null,
      "right": null,
      "top": null,
      "visibility": null,
      "width": null
     }
    },
    "ced95a9e834842cc8e0ce29d2d810aed": {
     "model_module": "@jupyter-widgets/controls",
     "model_module_version": "1.5.0",
     "model_name": "HTMLModel",
     "state": {
      "_dom_classes": [],
      "_model_module": "@jupyter-widgets/controls",
      "_model_module_version": "1.5.0",
      "_model_name": "HTMLModel",
      "_view_count": null,
      "_view_module": "@jupyter-widgets/controls",
      "_view_module_version": "1.5.0",
      "_view_name": "HTMLView",
      "description": "",
      "description_tooltip": null,
      "layout": "IPY_MODEL_aa4198e67aab435bbf745a7e0e8ee5ac",
      "placeholder": "​",
      "style": "IPY_MODEL_787a330eae3249a7aff77c67957ddf21",
      "value": "100%"
     }
    },
    "d0bfbc0dcaca48159c5748db69d114bf": {
     "model_module": "@jupyter-widgets/controls",
     "model_module_version": "1.5.0",
     "model_name": "DescriptionStyleModel",
     "state": {
      "_model_module": "@jupyter-widgets/controls",
      "_model_module_version": "1.5.0",
      "_model_name": "DescriptionStyleModel",
      "_view_count": null,
      "_view_module": "@jupyter-widgets/base",
      "_view_module_version": "1.2.0",
      "_view_name": "StyleView",
      "description_width": ""
     }
    },
    "d1eff9f86af740c6b8a333e1b1bf324c": {
     "model_module": "@jupyter-widgets/controls",
     "model_module_version": "1.5.0",
     "model_name": "HBoxModel",
     "state": {
      "_dom_classes": [],
      "_model_module": "@jupyter-widgets/controls",
      "_model_module_version": "1.5.0",
      "_model_name": "HBoxModel",
      "_view_count": null,
      "_view_module": "@jupyter-widgets/controls",
      "_view_module_version": "1.5.0",
      "_view_name": "HBoxView",
      "box_style": "",
      "children": [
       "IPY_MODEL_ced95a9e834842cc8e0ce29d2d810aed",
       "IPY_MODEL_f47dd961fc824f72a10729c960796ff7",
       "IPY_MODEL_37630e724c9249058cd3f678b2efd179"
      ],
      "layout": "IPY_MODEL_88e53c8a4557498e88b2969aba2e2cde"
     }
    },
    "d5f869684c0747c18f605ea4338fb4a8": {
     "model_module": "@jupyter-widgets/controls",
     "model_module_version": "1.5.0",
     "model_name": "DescriptionStyleModel",
     "state": {
      "_model_module": "@jupyter-widgets/controls",
      "_model_module_version": "1.5.0",
      "_model_name": "DescriptionStyleModel",
      "_view_count": null,
      "_view_module": "@jupyter-widgets/base",
      "_view_module_version": "1.2.0",
      "_view_name": "StyleView",
      "description_width": ""
     }
    },
    "d8c159a0b6754d01aa4a602939eba69a": {
     "model_module": "@jupyter-widgets/controls",
     "model_module_version": "1.5.0",
     "model_name": "DescriptionStyleModel",
     "state": {
      "_model_module": "@jupyter-widgets/controls",
      "_model_module_version": "1.5.0",
      "_model_name": "DescriptionStyleModel",
      "_view_count": null,
      "_view_module": "@jupyter-widgets/base",
      "_view_module_version": "1.2.0",
      "_view_name": "StyleView",
      "description_width": ""
     }
    },
    "dbdb03a4c03b4d4f84b290fa0a580170": {
     "model_module": "@jupyter-widgets/base",
     "model_module_version": "1.2.0",
     "model_name": "LayoutModel",
     "state": {
      "_model_module": "@jupyter-widgets/base",
      "_model_module_version": "1.2.0",
      "_model_name": "LayoutModel",
      "_view_count": null,
      "_view_module": "@jupyter-widgets/base",
      "_view_module_version": "1.2.0",
      "_view_name": "LayoutView",
      "align_content": null,
      "align_items": null,
      "align_self": null,
      "border": null,
      "bottom": null,
      "display": null,
      "flex": null,
      "flex_flow": null,
      "grid_area": null,
      "grid_auto_columns": null,
      "grid_auto_flow": null,
      "grid_auto_rows": null,
      "grid_column": null,
      "grid_gap": null,
      "grid_row": null,
      "grid_template_areas": null,
      "grid_template_columns": null,
      "grid_template_rows": null,
      "height": null,
      "justify_content": null,
      "justify_items": null,
      "left": null,
      "margin": null,
      "max_height": null,
      "max_width": null,
      "min_height": null,
      "min_width": null,
      "object_fit": null,
      "object_position": null,
      "order": null,
      "overflow": null,
      "overflow_x": null,
      "overflow_y": null,
      "padding": null,
      "right": null,
      "top": null,
      "visibility": null,
      "width": null
     }
    },
    "df179eae8dca4f60b2d67db032e3371b": {
     "model_module": "@jupyter-widgets/base",
     "model_module_version": "1.2.0",
     "model_name": "LayoutModel",
     "state": {
      "_model_module": "@jupyter-widgets/base",
      "_model_module_version": "1.2.0",
      "_model_name": "LayoutModel",
      "_view_count": null,
      "_view_module": "@jupyter-widgets/base",
      "_view_module_version": "1.2.0",
      "_view_name": "LayoutView",
      "align_content": null,
      "align_items": null,
      "align_self": null,
      "border": null,
      "bottom": null,
      "display": null,
      "flex": null,
      "flex_flow": null,
      "grid_area": null,
      "grid_auto_columns": null,
      "grid_auto_flow": null,
      "grid_auto_rows": null,
      "grid_column": null,
      "grid_gap": null,
      "grid_row": null,
      "grid_template_areas": null,
      "grid_template_columns": null,
      "grid_template_rows": null,
      "height": null,
      "justify_content": null,
      "justify_items": null,
      "left": null,
      "margin": null,
      "max_height": null,
      "max_width": null,
      "min_height": null,
      "min_width": null,
      "object_fit": null,
      "object_position": null,
      "order": null,
      "overflow": null,
      "overflow_x": null,
      "overflow_y": null,
      "padding": null,
      "right": null,
      "top": null,
      "visibility": null,
      "width": null
     }
    },
    "e4085bd825654e15a353768e929bbf91": {
     "model_module": "@jupyter-widgets/controls",
     "model_module_version": "1.5.0",
     "model_name": "HBoxModel",
     "state": {
      "_dom_classes": [],
      "_model_module": "@jupyter-widgets/controls",
      "_model_module_version": "1.5.0",
      "_model_name": "HBoxModel",
      "_view_count": null,
      "_view_module": "@jupyter-widgets/controls",
      "_view_module_version": "1.5.0",
      "_view_name": "HBoxView",
      "box_style": "",
      "children": [
       "IPY_MODEL_ffbcfdda7d534b5bac2c5fab68347ebb",
       "IPY_MODEL_f2c4166b723b4af1a34a752b0e93c636",
       "IPY_MODEL_5eb878a05d454b81ae8acdba2cfbb111"
      ],
      "layout": "IPY_MODEL_e43bca50c5e349b7bdc41a0586de229f"
     }
    },
    "e40b1e6e293f4d71a9b814d99b1fc2b6": {
     "model_module": "@jupyter-widgets/base",
     "model_module_version": "1.2.0",
     "model_name": "LayoutModel",
     "state": {
      "_model_module": "@jupyter-widgets/base",
      "_model_module_version": "1.2.0",
      "_model_name": "LayoutModel",
      "_view_count": null,
      "_view_module": "@jupyter-widgets/base",
      "_view_module_version": "1.2.0",
      "_view_name": "LayoutView",
      "align_content": null,
      "align_items": null,
      "align_self": null,
      "border": null,
      "bottom": null,
      "display": null,
      "flex": null,
      "flex_flow": null,
      "grid_area": null,
      "grid_auto_columns": null,
      "grid_auto_flow": null,
      "grid_auto_rows": null,
      "grid_column": null,
      "grid_gap": null,
      "grid_row": null,
      "grid_template_areas": null,
      "grid_template_columns": null,
      "grid_template_rows": null,
      "height": null,
      "justify_content": null,
      "justify_items": null,
      "left": null,
      "margin": null,
      "max_height": null,
      "max_width": null,
      "min_height": null,
      "min_width": null,
      "object_fit": null,
      "object_position": null,
      "order": null,
      "overflow": null,
      "overflow_x": null,
      "overflow_y": null,
      "padding": null,
      "right": null,
      "top": null,
      "visibility": null,
      "width": null
     }
    },
    "e43bca50c5e349b7bdc41a0586de229f": {
     "model_module": "@jupyter-widgets/base",
     "model_module_version": "1.2.0",
     "model_name": "LayoutModel",
     "state": {
      "_model_module": "@jupyter-widgets/base",
      "_model_module_version": "1.2.0",
      "_model_name": "LayoutModel",
      "_view_count": null,
      "_view_module": "@jupyter-widgets/base",
      "_view_module_version": "1.2.0",
      "_view_name": "LayoutView",
      "align_content": null,
      "align_items": null,
      "align_self": null,
      "border": null,
      "bottom": null,
      "display": null,
      "flex": null,
      "flex_flow": null,
      "grid_area": null,
      "grid_auto_columns": null,
      "grid_auto_flow": null,
      "grid_auto_rows": null,
      "grid_column": null,
      "grid_gap": null,
      "grid_row": null,
      "grid_template_areas": null,
      "grid_template_columns": null,
      "grid_template_rows": null,
      "height": null,
      "justify_content": null,
      "justify_items": null,
      "left": null,
      "margin": null,
      "max_height": null,
      "max_width": null,
      "min_height": null,
      "min_width": null,
      "object_fit": null,
      "object_position": null,
      "order": null,
      "overflow": null,
      "overflow_x": null,
      "overflow_y": null,
      "padding": null,
      "right": null,
      "top": null,
      "visibility": null,
      "width": null
     }
    },
    "e7e52afe0cbb4f23b514e441d9025882": {
     "model_module": "@jupyter-widgets/controls",
     "model_module_version": "1.5.0",
     "model_name": "HBoxModel",
     "state": {
      "_dom_classes": [],
      "_model_module": "@jupyter-widgets/controls",
      "_model_module_version": "1.5.0",
      "_model_name": "HBoxModel",
      "_view_count": null,
      "_view_module": "@jupyter-widgets/controls",
      "_view_module_version": "1.5.0",
      "_view_name": "HBoxView",
      "box_style": "",
      "children": [
       "IPY_MODEL_722baa57507f499da43fd2657bbfd243",
       "IPY_MODEL_9aae0ef38b5f43639dcbe2b9055c55d3",
       "IPY_MODEL_07b2916781bb4ab9b491df539c3e20b4"
      ],
      "layout": "IPY_MODEL_b20d84017f1e4980ba100dd8ea291cf4"
     }
    },
    "e9c0998cc72241e4867dcd23d7065c2b": {
     "model_module": "@jupyter-widgets/base",
     "model_module_version": "1.2.0",
     "model_name": "LayoutModel",
     "state": {
      "_model_module": "@jupyter-widgets/base",
      "_model_module_version": "1.2.0",
      "_model_name": "LayoutModel",
      "_view_count": null,
      "_view_module": "@jupyter-widgets/base",
      "_view_module_version": "1.2.0",
      "_view_name": "LayoutView",
      "align_content": null,
      "align_items": null,
      "align_self": null,
      "border": null,
      "bottom": null,
      "display": null,
      "flex": null,
      "flex_flow": null,
      "grid_area": null,
      "grid_auto_columns": null,
      "grid_auto_flow": null,
      "grid_auto_rows": null,
      "grid_column": null,
      "grid_gap": null,
      "grid_row": null,
      "grid_template_areas": null,
      "grid_template_columns": null,
      "grid_template_rows": null,
      "height": null,
      "justify_content": null,
      "justify_items": null,
      "left": null,
      "margin": null,
      "max_height": null,
      "max_width": null,
      "min_height": null,
      "min_width": null,
      "object_fit": null,
      "object_position": null,
      "order": null,
      "overflow": null,
      "overflow_x": null,
      "overflow_y": null,
      "padding": null,
      "right": null,
      "top": null,
      "visibility": null,
      "width": null
     }
    },
    "eaa8305eb6024fbd905902b157ab0e33": {
     "model_module": "@jupyter-widgets/controls",
     "model_module_version": "1.5.0",
     "model_name": "DescriptionStyleModel",
     "state": {
      "_model_module": "@jupyter-widgets/controls",
      "_model_module_version": "1.5.0",
      "_model_name": "DescriptionStyleModel",
      "_view_count": null,
      "_view_module": "@jupyter-widgets/base",
      "_view_module_version": "1.2.0",
      "_view_name": "StyleView",
      "description_width": ""
     }
    },
    "efdd58eda5f54cb3ad6b98f7ed290986": {
     "model_module": "@jupyter-widgets/controls",
     "model_module_version": "1.5.0",
     "model_name": "HTMLModel",
     "state": {
      "_dom_classes": [],
      "_model_module": "@jupyter-widgets/controls",
      "_model_module_version": "1.5.0",
      "_model_name": "HTMLModel",
      "_view_count": null,
      "_view_module": "@jupyter-widgets/controls",
      "_view_module_version": "1.5.0",
      "_view_name": "HTMLView",
      "description": "",
      "description_tooltip": null,
      "layout": "IPY_MODEL_72c3fc14bab8432a99de3658aaf4ff68",
      "placeholder": "​",
      "style": "IPY_MODEL_5910bd6ce5ec4dbeb07dcb988d136cfa",
      "value": "Downloading tf_model.h5: 100%"
     }
    },
    "f23c8561b42148e8bf08f7f3046e13c8": {
     "model_module": "@jupyter-widgets/controls",
     "model_module_version": "1.5.0",
     "model_name": "ProgressStyleModel",
     "state": {
      "_model_module": "@jupyter-widgets/controls",
      "_model_module_version": "1.5.0",
      "_model_name": "ProgressStyleModel",
      "_view_count": null,
      "_view_module": "@jupyter-widgets/base",
      "_view_module_version": "1.2.0",
      "_view_name": "StyleView",
      "bar_color": null,
      "description_width": ""
     }
    },
    "f2c4166b723b4af1a34a752b0e93c636": {
     "model_module": "@jupyter-widgets/controls",
     "model_module_version": "1.5.0",
     "model_name": "FloatProgressModel",
     "state": {
      "_dom_classes": [],
      "_model_module": "@jupyter-widgets/controls",
      "_model_module_version": "1.5.0",
      "_model_name": "FloatProgressModel",
      "_view_count": null,
      "_view_module": "@jupyter-widgets/controls",
      "_view_module_version": "1.5.0",
      "_view_name": "ProgressView",
      "bar_style": "success",
      "description": "",
      "description_tooltip": null,
      "layout": "IPY_MODEL_b0a2537feed6468890361b618b8236ee",
      "max": 747,
      "min": 0,
      "orientation": "horizontal",
      "style": "IPY_MODEL_5911b2fcfc5643468da3a30407d8bcfe",
      "value": 747
     }
    },
    "f47dd961fc824f72a10729c960796ff7": {
     "model_module": "@jupyter-widgets/controls",
     "model_module_version": "1.5.0",
     "model_name": "FloatProgressModel",
     "state": {
      "_dom_classes": [],
      "_model_module": "@jupyter-widgets/controls",
      "_model_module_version": "1.5.0",
      "_model_name": "FloatProgressModel",
      "_view_count": null,
      "_view_module": "@jupyter-widgets/controls",
      "_view_module_version": "1.5.0",
      "_view_name": "ProgressView",
      "bar_style": "success",
      "description": "",
      "description_tooltip": null,
      "layout": "IPY_MODEL_0a0e1fc7f7c240c7bceec9bded5a8725",
      "max": 3753,
      "min": 0,
      "orientation": "horizontal",
      "style": "IPY_MODEL_5d94a783e671448b9f7e5e0ef9c2bbfe",
      "value": 3753
     }
    },
    "f532585123364d088042e1b461b343b4": {
     "model_module": "@jupyter-widgets/base",
     "model_module_version": "1.2.0",
     "model_name": "LayoutModel",
     "state": {
      "_model_module": "@jupyter-widgets/base",
      "_model_module_version": "1.2.0",
      "_model_name": "LayoutModel",
      "_view_count": null,
      "_view_module": "@jupyter-widgets/base",
      "_view_module_version": "1.2.0",
      "_view_name": "LayoutView",
      "align_content": null,
      "align_items": null,
      "align_self": null,
      "border": null,
      "bottom": null,
      "display": null,
      "flex": null,
      "flex_flow": null,
      "grid_area": null,
      "grid_auto_columns": null,
      "grid_auto_flow": null,
      "grid_auto_rows": null,
      "grid_column": null,
      "grid_gap": null,
      "grid_row": null,
      "grid_template_areas": null,
      "grid_template_columns": null,
      "grid_template_rows": null,
      "height": null,
      "justify_content": null,
      "justify_items": null,
      "left": null,
      "margin": null,
      "max_height": null,
      "max_width": null,
      "min_height": null,
      "min_width": null,
      "object_fit": null,
      "object_position": null,
      "order": null,
      "overflow": null,
      "overflow_x": null,
      "overflow_y": null,
      "padding": null,
      "right": null,
      "top": null,
      "visibility": null,
      "width": null
     }
    },
    "f6588cd1b9bb4cbc9e4da4e733c81b52": {
     "model_module": "@jupyter-widgets/controls",
     "model_module_version": "1.5.0",
     "model_name": "HBoxModel",
     "state": {
      "_dom_classes": [],
      "_model_module": "@jupyter-widgets/controls",
      "_model_module_version": "1.5.0",
      "_model_name": "HBoxModel",
      "_view_count": null,
      "_view_module": "@jupyter-widgets/controls",
      "_view_module_version": "1.5.0",
      "_view_name": "HBoxView",
      "box_style": "",
      "children": [
       "IPY_MODEL_5b0fb1c4e92744f2a19b5331a05f94f4",
       "IPY_MODEL_90ac1445b826408491b4f19f9f7769c8",
       "IPY_MODEL_ac9e972021574e0497df0279b7df9758"
      ],
      "layout": "IPY_MODEL_7cdca58699af4b67b78113a37391acdb"
     }
    },
    "fc45c862459b425da7b66eafb9e36c3d": {
     "model_module": "@jupyter-widgets/base",
     "model_module_version": "1.2.0",
     "model_name": "LayoutModel",
     "state": {
      "_model_module": "@jupyter-widgets/base",
      "_model_module_version": "1.2.0",
      "_model_name": "LayoutModel",
      "_view_count": null,
      "_view_module": "@jupyter-widgets/base",
      "_view_module_version": "1.2.0",
      "_view_name": "LayoutView",
      "align_content": null,
      "align_items": null,
      "align_self": null,
      "border": null,
      "bottom": null,
      "display": null,
      "flex": null,
      "flex_flow": null,
      "grid_area": null,
      "grid_auto_columns": null,
      "grid_auto_flow": null,
      "grid_auto_rows": null,
      "grid_column": null,
      "grid_gap": null,
      "grid_row": null,
      "grid_template_areas": null,
      "grid_template_columns": null,
      "grid_template_rows": null,
      "height": null,
      "justify_content": null,
      "justify_items": null,
      "left": null,
      "margin": null,
      "max_height": null,
      "max_width": null,
      "min_height": null,
      "min_width": null,
      "object_fit": null,
      "object_position": null,
      "order": null,
      "overflow": null,
      "overflow_x": null,
      "overflow_y": null,
      "padding": null,
      "right": null,
      "top": null,
      "visibility": null,
      "width": null
     }
    },
    "ffbcfdda7d534b5bac2c5fab68347ebb": {
     "model_module": "@jupyter-widgets/controls",
     "model_module_version": "1.5.0",
     "model_name": "HTMLModel",
     "state": {
      "_dom_classes": [],
      "_model_module": "@jupyter-widgets/controls",
      "_model_module_version": "1.5.0",
      "_model_name": "HTMLModel",
      "_view_count": null,
      "_view_module": "@jupyter-widgets/controls",
      "_view_module_version": "1.5.0",
      "_view_name": "HTMLView",
      "description": "",
      "description_tooltip": null,
      "layout": "IPY_MODEL_34a218677f4a45c6b9e9ab121e736cda",
      "placeholder": "​",
      "style": "IPY_MODEL_8d37be83c495444d951cfcb4f81100c0",
      "value": "Downloading (…)lve/main/config.json: 100%"
     }
    }
   }
  }
 },
 "nbformat": 4,
 "nbformat_minor": 1
}
